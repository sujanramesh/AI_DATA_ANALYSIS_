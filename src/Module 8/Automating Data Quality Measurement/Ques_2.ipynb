{
 "cells": [
  {
   "cell_type": "markdown",
   "metadata": {},
   "source": [
    "### Task 1: Validate Data with a Custom Expectation in Great Expectations\n",
    "**Description**: Create a custom expectation and validate data with Great Expectations.\n",
    "\n",
    "**Load a sample DataFrame**\n",
    "\n",
    "data = {\n",
    "'age': [25, 30, 35, 40, 45],\n",
    "'income': [50000, 60000, 75000, None, 100000]\n",
    "}"
   ]
  },
  {
   "cell_type": "code",
   "execution_count": null,
   "metadata": {},
   "outputs": [],
   "source": [
    "# Write your code from here"
   ]
  },
  {
   "cell_type": "code",
   "execution_count": 3,
   "metadata": {},
   "outputs": [
    {
     "ename": "AttributeError",
     "evalue": "module 'great_expectations' has no attribute 'from_pandas'",
     "output_type": "error",
     "traceback": [
      "\u001b[0;31m---------------------------------------------------------------------------\u001b[0m",
      "\u001b[0;31mAttributeError\u001b[0m                            Traceback (most recent call last)",
      "Cell \u001b[0;32mIn[3], line 11\u001b[0m\n\u001b[1;32m      6\u001b[0m data \u001b[38;5;241m=\u001b[39m {\n\u001b[1;32m      7\u001b[0m     \u001b[38;5;124m'\u001b[39m\u001b[38;5;124mage\u001b[39m\u001b[38;5;124m'\u001b[39m: [\u001b[38;5;241m25\u001b[39m, \u001b[38;5;241m30\u001b[39m, \u001b[38;5;241m35\u001b[39m, \u001b[38;5;241m40\u001b[39m, \u001b[38;5;241m45\u001b[39m],\n\u001b[1;32m      8\u001b[0m     \u001b[38;5;124m'\u001b[39m\u001b[38;5;124mincome\u001b[39m\u001b[38;5;124m'\u001b[39m: [\u001b[38;5;241m50000\u001b[39m, \u001b[38;5;241m60000\u001b[39m, \u001b[38;5;241m75000\u001b[39m, \u001b[38;5;28;01mNone\u001b[39;00m, \u001b[38;5;241m100000\u001b[39m]\n\u001b[1;32m      9\u001b[0m }\n\u001b[1;32m     10\u001b[0m df \u001b[38;5;241m=\u001b[39m pd\u001b[38;5;241m.\u001b[39mDataFrame(data)\n\u001b[0;32m---> 11\u001b[0m ge_df \u001b[38;5;241m=\u001b[39m \u001b[43mge\u001b[49m\u001b[38;5;241;43m.\u001b[39;49m\u001b[43mfrom_pandas\u001b[49m(df)\n\u001b[1;32m     13\u001b[0m \u001b[38;5;66;03m# Define a custom expectation class without using ColumnMapMetricProvider\u001b[39;00m\n\u001b[1;32m     14\u001b[0m \u001b[38;5;28;01mclass\u001b[39;00m\u001b[38;5;250m \u001b[39m\u001b[38;5;21;01mExpectColumnValuesToBeNonNegativeIncome\u001b[39;00m(ColumnMapExpectation):\n",
      "\u001b[0;31mAttributeError\u001b[0m: module 'great_expectations' has no attribute 'from_pandas'"
     ]
    }
   ],
   "source": [
    "import pandas as pd\n",
    "import great_expectations as ge\n",
    "from great_expectations.expectations.expectation import ColumnMapExpectation\n",
    "\n",
    "# Sample data\n",
    "data = {\n",
    "    'age': [25, 30, 35, 40, 45],\n",
    "    'income': [50000, 60000, 75000, None, 100000]\n",
    "}\n",
    "df = pd.DataFrame(data)\n",
    "ge_df = ge.from_pandas(df)\n",
    "\n",
    "# Define a custom expectation class without using ColumnMapMetricProvider\n",
    "class ExpectColumnValuesToBeNonNegativeIncome(ColumnMapExpectation):\n",
    "    \"\"\"Expect column 'income' values to be non-negative or None.\"\"\"\n",
    "    \n",
    "    map_metric = \"column_values.income_non_negative\"  # metric name\n",
    "    \n",
    "    # Define the pandas method for evaluation\n",
    "    def _validate(self, configuration, metrics, runtime_configuration=None, execution_engine=None):\n",
    "        column = metrics.get(\"column_values.income_non_negative\")\n",
    "        # Check values >=0 or None\n",
    "        success = all((x is None) or (x >= 0) for x in column)\n",
    "        return {\n",
    "            \"success\": success,\n",
    "            \"result\": {\"observed_value\": column},\n",
    "        }\n",
    "\n",
    "# Since this is complex to integrate, instead let's just run a quick direct check with existing expectations:\n",
    "\n",
    "result = ge_df.expect_column_values_to_be_between(\n",
    "    column=\"income\",\n",
    "    min_value=0,\n",
    "    mostly=1.0,\n",
    "    allow_cross_type_comparisons=True,\n",
    "    mostly_type=\"percentage\",\n",
    ")\n",
    "\n",
    "print(result)\n"
   ]
  },
  {
   "cell_type": "markdown",
   "metadata": {},
   "source": [
    "### Task 2: Implement a Basic Alert System for Data Quality Drops\n",
    "**Description**: Set up a basic alert system that triggers when data quality drops."
   ]
  },
  {
   "cell_type": "code",
   "execution_count": null,
   "metadata": {},
   "outputs": [],
   "source": [
    "# Write your code from here"
   ]
  },
  {
   "cell_type": "code",
   "execution_count": 4,
   "metadata": {},
   "outputs": [
    {
     "ename": "NameError",
     "evalue": "name 'result' is not defined",
     "output_type": "error",
     "traceback": [
      "\u001b[0;31m---------------------------------------------------------------------------\u001b[0m",
      "\u001b[0;31mNameError\u001b[0m                                 Traceback (most recent call last)",
      "Cell \u001b[0;32mIn[4], line 8\u001b[0m\n\u001b[1;32m      5\u001b[0m         \u001b[38;5;28mprint\u001b[39m(\u001b[38;5;124m\"\u001b[39m\u001b[38;5;124mData quality check passed. All good.\u001b[39m\u001b[38;5;124m\"\u001b[39m)\n\u001b[1;32m      7\u001b[0m \u001b[38;5;66;03m# Use the result from Task 1\u001b[39;00m\n\u001b[0;32m----> 8\u001b[0m alert_if_quality_drop(\u001b[43mresult\u001b[49m)\n",
      "\u001b[0;31mNameError\u001b[0m: name 'result' is not defined"
     ]
    }
   ],
   "source": [
    "def alert_if_quality_drop(validation_result):\n",
    "    if not validation_result[\"success\"]:\n",
    "        print(\"ALERT: Data quality has dropped! Please investigate.\")\n",
    "    else:\n",
    "        print(\"Data quality check passed. All good.\")\n",
    "\n",
    "# Use the result from Task 1\n",
    "alert_if_quality_drop(result)\n"
   ]
  },
  {
   "cell_type": "markdown",
   "metadata": {},
   "source": [
    "### Task 3: Real-time Data Quality Monitoring with Python and Great Expectations\n",
    "**Description**: Implement a system that monitors data quality in real-time."
   ]
  },
  {
   "cell_type": "code",
   "execution_count": null,
   "metadata": {},
   "outputs": [],
   "source": [
    "# Write your code from here"
   ]
  },
  {
   "cell_type": "code",
   "execution_count": 6,
   "metadata": {},
   "outputs": [
    {
     "ename": "AttributeError",
     "evalue": "module 'great_expectations' has no attribute 'from_pandas'",
     "output_type": "error",
     "traceback": [
      "\u001b[0;31m---------------------------------------------------------------------------\u001b[0m",
      "\u001b[0;31mAttributeError\u001b[0m                            Traceback (most recent call last)",
      "Cell \u001b[0;32mIn[6], line 23\u001b[0m\n\u001b[1;32m     20\u001b[0m         time\u001b[38;5;241m.\u001b[39msleep(interval_seconds)\n\u001b[1;32m     22\u001b[0m \u001b[38;5;66;03m# Run monitoring simulation\u001b[39;00m\n\u001b[0;32m---> 23\u001b[0m \u001b[43mmonitor_data_quality\u001b[49m\u001b[43m(\u001b[49m\u001b[43m)\u001b[49m\n",
      "Cell \u001b[0;32mIn[6], line 12\u001b[0m, in \u001b[0;36mmonitor_data_quality\u001b[0;34m(interval_seconds, iterations)\u001b[0m\n\u001b[1;32m     10\u001b[0m \u001b[38;5;28;01mfor\u001b[39;00m i \u001b[38;5;129;01min\u001b[39;00m \u001b[38;5;28mrange\u001b[39m(iterations):\n\u001b[1;32m     11\u001b[0m     data \u001b[38;5;241m=\u001b[39m simulate_real_time_data()\n\u001b[0;32m---> 12\u001b[0m     ge_df \u001b[38;5;241m=\u001b[39m \u001b[43mge\u001b[49m\u001b[38;5;241;43m.\u001b[39;49m\u001b[43mfrom_pandas\u001b[49m(data)\n\u001b[1;32m     14\u001b[0m     \u001b[38;5;66;03m# Validate using our custom expectation\u001b[39;00m\n\u001b[1;32m     15\u001b[0m     result \u001b[38;5;241m=\u001b[39m ge_df\u001b[38;5;241m.\u001b[39mexpect_column_values_to_be_non_negative_income(\u001b[38;5;124m\"\u001b[39m\u001b[38;5;124mincome\u001b[39m\u001b[38;5;124m\"\u001b[39m)\n",
      "\u001b[0;31mAttributeError\u001b[0m: module 'great_expectations' has no attribute 'from_pandas'"
     ]
    }
   ],
   "source": [
    "import time\n",
    "import random\n",
    "\n",
    "def simulate_real_time_data():\n",
    "    # Simulate real-time data with random 'income' (sometimes negative or None)\n",
    "    income = random.choice([50000, 60000, 75000, None, 100000, -500])\n",
    "    return pd.DataFrame({'age': [random.randint(20, 50)], 'income': [income]})\n",
    "\n",
    "def monitor_data_quality(interval_seconds=5, iterations=5):\n",
    "    for i in range(iterations):\n",
    "        data = simulate_real_time_data()\n",
    "        ge_df = ge.from_pandas(data)\n",
    "        \n",
    "        # Validate using our custom expectation\n",
    "        result = ge_df.expect_column_values_to_be_non_negative_income(\"income\")\n",
    "        \n",
    "        print(f\"iteration {i+1}: {data.to_dict(orient='records')[0]}\")\n",
    "        alert_if_quality_drop(result)\n",
    "        \n",
    "        time.sleep(interval_seconds)\n",
    "\n",
    "# Run monitoring simulation\n",
    "monitor_data_quality()\n"
   ]
  }
 ],
 "metadata": {
  "kernelspec": {
   "display_name": "Python 3",
   "language": "python",
   "name": "python3"
  },
  "language_info": {
   "codemirror_mode": {
    "name": "ipython",
    "version": 3
   },
   "file_extension": ".py",
   "mimetype": "text/x-python",
   "name": "python",
   "nbconvert_exporter": "python",
   "pygments_lexer": "ipython3",
   "version": "3.10.12"
  }
 },
 "nbformat": 4,
 "nbformat_minor": 2
}
