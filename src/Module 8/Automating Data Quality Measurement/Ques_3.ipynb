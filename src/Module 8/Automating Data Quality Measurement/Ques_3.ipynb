{
 "cells": [
  {
   "cell_type": "markdown",
   "metadata": {},
   "source": [
    "## Using AI for Anomalies Detection in Data Quality\n",
    "**Description**: Implement an AI-based approach to detect anomalies in data quality.\n",
    "\n",
    "**Steps**:\n",
    "1. Use an Anomaly Detection Algorithm:\n",
    "    - Use sklearn's Isolation Forest for anomaly detection.\n",
    "\n",
    "**Example data:**\n",
    "\n",
    "data = np.array([[25, 50000], [30, 60000], [35, 75000], [40, None], [45, 100000]])\n",
    "\n",
    "2. Integrate with Great Expectations:\n",
    "    - Generate alerts if anomalies are detected:"
   ]
  },
  {
   "cell_type": "code",
   "execution_count": null,
   "metadata": {},
   "outputs": [],
   "source": [
    "# Write your code from here"
   ]
  },
  {
   "cell_type": "code",
   "execution_count": 1,
   "metadata": {},
   "outputs": [
    {
     "ename": "AttributeError",
     "evalue": "module 'great_expectations' has no attribute 'from_pandas'",
     "output_type": "error",
     "traceback": [
      "\u001b[0;31m---------------------------------------------------------------------------\u001b[0m",
      "\u001b[0;31mAttributeError\u001b[0m                            Traceback (most recent call last)",
      "Cell \u001b[0;32mIn[1], line 33\u001b[0m\n\u001b[1;32m     28\u001b[0m df[\u001b[38;5;124m'\u001b[39m\u001b[38;5;124manomaly\u001b[39m\u001b[38;5;124m'\u001b[39m] \u001b[38;5;241m=\u001b[39m iso_forest\u001b[38;5;241m.\u001b[39mpredict(df)\n\u001b[1;32m     30\u001b[0m \u001b[38;5;66;03m# === Step 3: Integrate with Great Expectations (optional) ===\u001b[39;00m\n\u001b[1;32m     31\u001b[0m \n\u001b[1;32m     32\u001b[0m \u001b[38;5;66;03m# Wrap in GE dataframe\u001b[39;00m\n\u001b[0;32m---> 33\u001b[0m ge_df \u001b[38;5;241m=\u001b[39m \u001b[43mge\u001b[49m\u001b[38;5;241;43m.\u001b[39;49m\u001b[43mfrom_pandas\u001b[49m(df)\n\u001b[1;32m     35\u001b[0m \u001b[38;5;66;03m# Basic check - income should be >= 0\u001b[39;00m\n\u001b[1;32m     36\u001b[0m validation_result \u001b[38;5;241m=\u001b[39m ge_df\u001b[38;5;241m.\u001b[39mexpect_column_values_to_be_between(\u001b[38;5;124m\"\u001b[39m\u001b[38;5;124mincome\u001b[39m\u001b[38;5;124m\"\u001b[39m, min_value\u001b[38;5;241m=\u001b[39m\u001b[38;5;241m0\u001b[39m)\n",
      "\u001b[0;31mAttributeError\u001b[0m: module 'great_expectations' has no attribute 'from_pandas'"
     ]
    }
   ],
   "source": [
    "import numpy as np\n",
    "import pandas as pd\n",
    "from sklearn.ensemble import IsolationForest\n",
    "import great_expectations as ge\n",
    "\n",
    "# Example data (age, income), replace None with np.nan\n",
    "data = np.array([[25, 50000], [30, 60000], [35, 75000], [40, None], [45, 100000]], dtype=object)\n",
    "\n",
    "# Convert to DataFrame and handle missing values (fill or drop)\n",
    "df = pd.DataFrame(data, columns=[\"age\", \"income\"])\n",
    "\n",
    "# Replace None with np.nan for sklearn compatibility\n",
    "df['income'] = pd.to_numeric(df['income'], errors='coerce')\n",
    "\n",
    "# Fill missing income with median or a placeholder value (e.g., median)\n",
    "median_income = df['income'].median()\n",
    "df['income'] = df['income'].fillna(median_income)\n",
    "\n",
    "# === Step 2: Fit Isolation Forest ===\n",
    "\n",
    "# Initialize Isolation Forest\n",
    "iso_forest = IsolationForest(contamination=0.2, random_state=42)\n",
    "\n",
    "# Fit model\n",
    "iso_forest.fit(df)\n",
    "\n",
    "# Predict anomalies (-1 means anomaly, 1 means normal)\n",
    "df['anomaly'] = iso_forest.predict(df)\n",
    "\n",
    "# === Step 3: Integrate with Great Expectations (optional) ===\n",
    "\n",
    "# Wrap in GE dataframe\n",
    "ge_df = ge.from_pandas(df)\n",
    "\n",
    "# Basic check - income should be >= 0\n",
    "validation_result = ge_df.expect_column_values_to_be_between(\"income\", min_value=0)\n",
    "\n",
    "# === Step 4: Alert if anomalies detected ===\n",
    "\n",
    "def alert_anomalies(df):\n",
    "    anomalies = df[df['anomaly'] == -1]\n",
    "    if len(anomalies) > 0:\n",
    "        print(f\"ALERT: {len(anomalies)} anomalies detected in data quality!\")\n",
    "        print(anomalies)\n",
    "    else:\n",
    "        print(\"No anomalies detected. Data quality is good.\")\n",
    "\n",
    "def alert_ge(validation_result):\n",
    "    if not validation_result[\"success\"]:\n",
    "        print(\"ALERT: Data validation failed!\")\n",
    "    else:\n",
    "        print(\"Data validation passed.\")\n",
    "\n",
    "# Run alerts\n",
    "alert_anomalies(df)\n",
    "alert_ge(validation_result)\n"
   ]
  }
 ],
 "metadata": {
  "kernelspec": {
   "display_name": "Python 3",
   "language": "python",
   "name": "python3"
  },
  "language_info": {
   "codemirror_mode": {
    "name": "ipython",
    "version": 3
   },
   "file_extension": ".py",
   "mimetype": "text/x-python",
   "name": "python",
   "nbconvert_exporter": "python",
   "pygments_lexer": "ipython3",
   "version": "3.10.12"
  }
 },
 "nbformat": 4,
 "nbformat_minor": 2
}
