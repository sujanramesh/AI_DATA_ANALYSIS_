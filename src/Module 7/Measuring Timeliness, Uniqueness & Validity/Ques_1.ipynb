{
 "cells": [
  {
   "cell_type": "markdown",
   "metadata": {},
   "source": [
    "## Format Compliance for Email\n",
    "\n",
    "**Description**: Check if emails in a list are valid based on a basic regex pattern."
   ]
  },
  {
   "cell_type": "code",
   "execution_count": null,
   "metadata": {},
   "outputs": [],
   "source": [
    "# Write your code from here"
   ]
  },
  {
   "cell_type": "code",
   "execution_count": 1,
   "metadata": {},
   "outputs": [
    {
     "name": "stdout",
     "output_type": "stream",
     "text": [
      "--- Task 1: Format Compliance for Email ---\n",
      "Error: Make sure 'customer_data.csv' is in the same directory.\n",
      "Skipping Task 1: Email Format Compliance (customer_data.csv not found or 'email' column missing).\n"
     ]
    }
   ],
   "source": [
    "import pandas as pd\n",
    "import re # Import the regular expression module\n",
    "\n",
    "# --- Task 1: Format Compliance for Email ---\n",
    "print(\"--- Task 1: Format Compliance for Email ---\")\n",
    "\n",
    "# Load the customer data dataset (or ensure it's loaded from previous tasks)\n",
    "try:\n",
    "    customer_df = pd.read_csv('customer_data.csv')\n",
    "except FileNotFoundError:\n",
    "    print(\"Error: Make sure 'customer_data.csv' is in the same directory.\")\n",
    "    customer_df = pd.DataFrame()\n",
    "\n",
    "if not customer_df.empty and 'email' in customer_df.columns:\n",
    "    # Basic regex pattern for email validation.\n",
    "    # This pattern is simplified. Real-world email validation is more complex.\n",
    "    # It checks for:\n",
    "    # ^: start of string\n",
    "    # [a-zA-Z0-9._%+-]+: one or more alphanumeric, dot, underscore, percent, plus, or hyphen characters (username)\n",
    "    # @: literal '@'\n",
    "    # [a-zA-Z0-9.-]+: one or more alphanumeric, dot, or hyphen characters (domain name)\n",
    "    # \\.: literal '.'\n",
    "    # [a-zA-Z]{2,}: two or more alphabetic characters (top-level domain)\n",
    "    # $: end of string\n",
    "    email_regex = r\"^[a-zA-Z0-9._%+-]+@[a-zA-Z0-9.-]+\\.[a-zA-Z]{2,}$\"\n",
    "\n",
    "    # Function to validate an email using regex\n",
    "    def validate_email(email):\n",
    "        if pd.isna(email): # Handle NaN/None values\n",
    "            return False\n",
    "        return bool(re.match(email_regex, str(email)))\n",
    "\n",
    "    # Apply the validation function to the 'email' column\n",
    "    customer_df['email_is_valid'] = customer_df['email'].apply(validate_email)\n",
    "\n",
    "    print(\"\\nEmail validation results:\")\n",
    "    print(customer_df[['customer_id', 'email', 'email_is_valid']])\n",
    "\n",
    "    invalid_emails_df = customer_df[customer_df['email_is_valid'] == False]\n",
    "    if not invalid_emails_df.empty:\n",
    "        print(\"\\nRecords with invalid email format:\")\n",
    "        print(invalid_emails_df[['customer_id', 'email']])\n",
    "        print(f\"Total invalid emails found: {len(invalid_emails_df)}\")\n",
    "    else:\n",
    "        print(\"\\nNo invalid email formats found.\")\n",
    "else:\n",
    "    print(\"Skipping Task 1: Email Format Compliance (customer_data.csv not found or 'email' column missing).\")"
   ]
  },
  {
   "cell_type": "markdown",
   "metadata": {},
   "source": [
    "## Format Compliance for Phone Numbers\n",
    "\n",
    "**Description**: Verify if the phone numbers follow a specific pattern."
   ]
  },
  {
   "cell_type": "code",
   "execution_count": null,
   "metadata": {},
   "outputs": [],
   "source": [
    "# Write your code from here"
   ]
  },
  {
   "cell_type": "code",
   "execution_count": 3,
   "metadata": {},
   "outputs": [
    {
     "name": "stdout",
     "output_type": "stream",
     "text": [
      "\n",
      "--- Task 2: Format Compliance for Phone Numbers ---\n",
      "Error: Make sure 'customer_data_with_phone.csv' is in the same directory.\n",
      "Skipping Task 2: Phone Number Format Compliance (customer_data_with_phone.csv not found or 'phone_number' column missing).\n"
     ]
    }
   ],
   "source": [
    "import pandas as pd\n",
    "import re\n",
    "\n",
    "# --- Task 2: Format Compliance for Phone Numbers ---\n",
    "print(\"\\n--- Task 2: Format Compliance for Phone Numbers ---\")\n",
    "\n",
    "# Load the customer data dataset with phone numbers\n",
    "try:\n",
    "    phone_df = pd.read_csv('customer_data_with_phone.csv')\n",
    "except FileNotFoundError:\n",
    "    print(\"Error: Make sure 'customer_data_with_phone.csv' is in the same directory.\")\n",
    "    phone_df = pd.DataFrame()\n",
    "\n",
    "if not phone_df.empty and 'phone_number' in phone_df.columns:\n",
    "    # Regex pattern for common North American phone number formats:\n",
    "    # (XXX) XXX-XXXX, XXX-XXX-XXXX, XXX.XXX.XXXX, XXXXXXXXXX, +X XXX XXX XXXX\n",
    "    # This is a more comprehensive example, but can be simplified based on requirements.\n",
    "    # It allows for optional country code, spaces, hyphens, dots, and parentheses.\n",
    "    phone_regex = r\"^\\+?\\d{1,3}?[-.\\s]?\\(?\\d{3}\\)?[-.\\s]?\\d{3}[-.\\s]?\\d{4}$\"\n",
    "\n",
    "    # Function to validate a phone number using regex\n",
    "    def validate_phone(phone):\n",
    "        if pd.isna(phone): # Handle NaN/None values\n",
    "            return False\n",
    "        # Remove common non-digit characters before matching, if desired for flexibility\n",
    "        cleaned_phone = re.sub(r'[^0-9+]', '', str(phone)) # Keep numbers and plus sign\n",
    "        return bool(re.match(phone_regex, str(phone))) # Matching original for strict compliance\n",
    "\n",
    "    # Apply the validation function to the 'phone_number' column\n",
    "    phone_df['phone_number_is_valid'] = phone_df['phone_number'].apply(validate_phone)\n",
    "\n",
    "    print(\"\\nPhone number validation results:\")\n",
    "    print(phone_df[['customer_id', 'phone_number', 'phone_number_is_valid']])\n",
    "\n",
    "    invalid_phone_numbers_df = phone_df[phone_df['phone_number_is_valid'] == False]\n",
    "    if not invalid_phone_numbers_df.empty:\n",
    "        print(\"\\nRecords with invalid phone number format:\")\n",
    "        print(invalid_phone_numbers_df[['customer_id', 'phone_number']])\n",
    "        print(f\"Total invalid phone numbers found: {len(invalid_phone_numbers_df)}\")\n",
    "    else:\n",
    "        print(\"\\nNo invalid phone number formats found.\")\n",
    "else:\n",
    "    print(\"Skipping Task 2: Phone Number Format Compliance (customer_data_with_phone.csv not found or 'phone_number' column missing).\")"
   ]
  },
  {
   "cell_type": "markdown",
   "metadata": {},
   "source": [
    "## Checking Date Validity Format\n",
    "\n",
    "**Description**: Ensure the dates in a list adhere to a specific format (e.g., YYYY-MM-DD)."
   ]
  },
  {
   "cell_type": "code",
   "execution_count": null,
   "metadata": {},
   "outputs": [],
   "source": [
    "# Write your code from here"
   ]
  },
  {
   "cell_type": "code",
   "execution_count": 4,
   "metadata": {},
   "outputs": [
    {
     "name": "stdout",
     "output_type": "stream",
     "text": [
      "\n",
      "--- Task 3: Checking Date Validity Format ---\n",
      "Error: Make sure 'event_data.csv' is in the same directory.\n",
      "Skipping Task 3: Date Validity Format (event_data.csv not found or 'event_date' column missing).\n"
     ]
    }
   ],
   "source": [
    "import pandas as pd\n",
    "\n",
    "# --- Task 3: Checking Date Validity Format ---\n",
    "print(\"\\n--- Task 3: Checking Date Validity Format ---\")\n",
    "\n",
    "# Load the event data dataset\n",
    "try:\n",
    "    event_df = pd.read_csv('event_data.csv')\n",
    "except FileNotFoundError:\n",
    "    print(\"Error: Make sure 'event_data.csv' is in the same directory.\")\n",
    "    event_df = pd.DataFrame()\n",
    "\n",
    "if not event_df.empty and 'event_date' in event_df.columns:\n",
    "    # Define the desired strict format.\n",
    "    # If the date strings in your CSV are strictly 'YYYY-MM-DD', then format='%Y-%m-%d'\n",
    "    # If they can be other formats but you want to check if they *can* be converted to datetime,\n",
    "    # then omit 'format' or try multiple formats.\n",
    "    # For this task, we want to ensure *adherence* to a specific format, so we'll use 'format'.\n",
    "    desired_date_format = '%Y-%m-%d'\n",
    "\n",
    "    # Attempt to convert the 'event_date' column to datetime objects\n",
    "    # errors='coerce' will turn any unparseable dates into NaT (Not a Time)\n",
    "    # format=desired_date_format makes the conversion strict to the specified format\n",
    "    event_df['event_date_parsed'] = pd.to_datetime(event_df['event_date'],\n",
    "                                                  format=desired_date_format,\n",
    "                                                  errors='coerce')\n",
    "\n",
    "    # Identify records where the date could not be parsed into the desired format (or was originally missing)\n",
    "    event_df['date_format_is_valid'] = event_df['event_date_parsed'].notna()\n",
    "\n",
    "    print(\"\\nDate format validation results:\")\n",
    "    print(event_df[['event_id', 'event_date', 'event_date_parsed', 'date_format_is_valid']])\n",
    "\n",
    "    invalid_dates_df = event_df[event_df['date_format_is_valid'] == False]\n",
    "    if not invalid_dates_df.empty:\n",
    "        print(\"\\nRecords with invalid or non-compliant date format:\")\n",
    "        print(invalid_dates_df[['event_id', 'event_date']])\n",
    "        print(f\"Total invalid date formats found: {len(invalid_dates_df)}\")\n",
    "    else:\n",
    "        print(\"\\nAll dates adhere to the desired format (or are missing).\")\n",
    "\n",
    "    # Note: This check also flags original NaNs as invalid against the format.\n",
    "    # If you need to distinguish between 'missing' and 'malformed', you'd do:\n",
    "    # 1. Check for original nulls: event_df['event_date'].isnull()\n",
    "    # 2. Check for malformed (non-null original, but NaT after coerce):\n",
    "    #    (event_df['event_date'].notnull()) & (event_df['event_date_parsed'].isna())\n",
    "\n",
    "else:\n",
    "    print(\"Skipping Task 3: Date Validity Format (event_data.csv not found or 'event_date' column missing).\")"
   ]
  }
 ],
 "metadata": {
  "kernelspec": {
   "display_name": "Python 3",
   "language": "python",
   "name": "python3"
  },
  "language_info": {
   "codemirror_mode": {
    "name": "ipython",
    "version": 3
   },
   "file_extension": ".py",
   "mimetype": "text/x-python",
   "name": "python",
   "nbconvert_exporter": "python",
   "pygments_lexer": "ipython3",
   "version": "3.10.12"
  }
 },
 "nbformat": 4,
 "nbformat_minor": 2
}
