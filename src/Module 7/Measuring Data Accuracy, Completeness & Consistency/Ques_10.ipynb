{
 "cells": [
  {
   "cell_type": "markdown",
   "metadata": {},
   "source": [
    "# Ensuring Consistency\n",
    "\n",
    "**Activity Overview**: Ensure consistency by identifying and resolving conflicting values across datasets.\n",
    "\n",
    "## Title: Customer Address Discrepancies\n",
    "\n",
    "**Task**: Address customer address mismatches between CRM and marketing databases.\n",
    "\n",
    "**Steps**:\n",
    "1. Compare customer addresses in the CRM with those in the marketing database.\n",
    "2. Identify records with conflicting address information.\n",
    "3. Propose a method to consolidate records with verified addresses."
   ]
  },
  {
   "cell_type": "code",
   "execution_count": null,
   "metadata": {},
   "outputs": [],
   "source": [
    "# Write your code from here"
   ]
  },
  {
   "cell_type": "code",
   "execution_count": 1,
   "metadata": {},
   "outputs": [
    {
     "name": "stdout",
     "output_type": "stream",
     "text": [
      "--- Task: Customer Address Discrepancies ---\n"
     ]
    },
    {
     "ename": "KeyError",
     "evalue": "'address_crm'",
     "output_type": "error",
     "traceback": [
      "\u001b[0;31m---------------------------------------------------------------------------\u001b[0m",
      "\u001b[0;31mKeyError\u001b[0m                                  Traceback (most recent call last)",
      "File \u001b[0;32m~/.local/lib/python3.10/site-packages/pandas/core/indexes/base.py:3791\u001b[0m, in \u001b[0;36mIndex.get_loc\u001b[0;34m(self, key)\u001b[0m\n\u001b[1;32m   3790\u001b[0m \u001b[38;5;28;01mtry\u001b[39;00m:\n\u001b[0;32m-> 3791\u001b[0m     \u001b[38;5;28;01mreturn\u001b[39;00m \u001b[38;5;28;43mself\u001b[39;49m\u001b[38;5;241;43m.\u001b[39;49m\u001b[43m_engine\u001b[49m\u001b[38;5;241;43m.\u001b[39;49m\u001b[43mget_loc\u001b[49m\u001b[43m(\u001b[49m\u001b[43mcasted_key\u001b[49m\u001b[43m)\u001b[49m\n\u001b[1;32m   3792\u001b[0m \u001b[38;5;28;01mexcept\u001b[39;00m \u001b[38;5;167;01mKeyError\u001b[39;00m \u001b[38;5;28;01mas\u001b[39;00m err:\n",
      "File \u001b[0;32mindex.pyx:152\u001b[0m, in \u001b[0;36mpandas._libs.index.IndexEngine.get_loc\u001b[0;34m()\u001b[0m\n",
      "File \u001b[0;32mindex.pyx:181\u001b[0m, in \u001b[0;36mpandas._libs.index.IndexEngine.get_loc\u001b[0;34m()\u001b[0m\n",
      "File \u001b[0;32mpandas/_libs/hashtable_class_helper.pxi:7080\u001b[0m, in \u001b[0;36mpandas._libs.hashtable.PyObjectHashTable.get_item\u001b[0;34m()\u001b[0m\n",
      "File \u001b[0;32mpandas/_libs/hashtable_class_helper.pxi:7088\u001b[0m, in \u001b[0;36mpandas._libs.hashtable.PyObjectHashTable.get_item\u001b[0;34m()\u001b[0m\n",
      "\u001b[0;31mKeyError\u001b[0m: 'address_crm'",
      "\nThe above exception was the direct cause of the following exception:\n",
      "\u001b[0;31mKeyError\u001b[0m                                  Traceback (most recent call last)",
      "Cell \u001b[0;32mIn[1], line 25\u001b[0m\n\u001b[1;32m     20\u001b[0m merged_customers_df \u001b[38;5;241m=\u001b[39m pd\u001b[38;5;241m.\u001b[39mmerge(crm_df, marketing_df, on\u001b[38;5;241m=\u001b[39m\u001b[38;5;124m'\u001b[39m\u001b[38;5;124mcustomer_id\u001b[39m\u001b[38;5;124m'\u001b[39m, suffixes\u001b[38;5;241m=\u001b[39m(\u001b[38;5;124m'\u001b[39m\u001b[38;5;124m_crm\u001b[39m\u001b[38;5;124m'\u001b[39m, \u001b[38;5;124m'\u001b[39m\u001b[38;5;124m_mkt\u001b[39m\u001b[38;5;124m'\u001b[39m))\n\u001b[1;32m     22\u001b[0m \u001b[38;5;66;03m# Normalize addresses for better comparison (e.g., lowercasing, removing extra spaces)\u001b[39;00m\n\u001b[1;32m     23\u001b[0m \u001b[38;5;66;03m# This step is crucial for real-world data where \"Main St\" vs \"Main Street\" might occur.\u001b[39;00m\n\u001b[1;32m     24\u001b[0m \u001b[38;5;66;03m# For simplicity, we'll just lowercase and strip spaces for this example.\u001b[39;00m\n\u001b[0;32m---> 25\u001b[0m merged_customers_df[\u001b[38;5;124m'\u001b[39m\u001b[38;5;124maddress_crm_norm\u001b[39m\u001b[38;5;124m'\u001b[39m] \u001b[38;5;241m=\u001b[39m \u001b[43mmerged_customers_df\u001b[49m\u001b[43m[\u001b[49m\u001b[38;5;124;43m'\u001b[39;49m\u001b[38;5;124;43maddress_crm\u001b[39;49m\u001b[38;5;124;43m'\u001b[39;49m\u001b[43m]\u001b[49m\u001b[38;5;241m.\u001b[39mstr\u001b[38;5;241m.\u001b[39mlower()\u001b[38;5;241m.\u001b[39mstr\u001b[38;5;241m.\u001b[39mstrip()\n\u001b[1;32m     26\u001b[0m merged_customers_df[\u001b[38;5;124m'\u001b[39m\u001b[38;5;124maddress_mkt_norm\u001b[39m\u001b[38;5;124m'\u001b[39m] \u001b[38;5;241m=\u001b[39m merged_customers_df[\u001b[38;5;124m'\u001b[39m\u001b[38;5;124maddress_mkt\u001b[39m\u001b[38;5;124m'\u001b[39m]\u001b[38;5;241m.\u001b[39mstr\u001b[38;5;241m.\u001b[39mlower()\u001b[38;5;241m.\u001b[39mstr\u001b[38;5;241m.\u001b[39mstrip()\n\u001b[1;32m     29\u001b[0m \u001b[38;5;66;03m# 2. Identify records with conflicting address information.\u001b[39;00m\n\u001b[1;32m     30\u001b[0m \u001b[38;5;66;03m# A conflict exists if normalized addresses are different and neither is null.\u001b[39;00m\n",
      "File \u001b[0;32m~/.local/lib/python3.10/site-packages/pandas/core/frame.py:3893\u001b[0m, in \u001b[0;36mDataFrame.__getitem__\u001b[0;34m(self, key)\u001b[0m\n\u001b[1;32m   3891\u001b[0m \u001b[38;5;28;01mif\u001b[39;00m \u001b[38;5;28mself\u001b[39m\u001b[38;5;241m.\u001b[39mcolumns\u001b[38;5;241m.\u001b[39mnlevels \u001b[38;5;241m>\u001b[39m \u001b[38;5;241m1\u001b[39m:\n\u001b[1;32m   3892\u001b[0m     \u001b[38;5;28;01mreturn\u001b[39;00m \u001b[38;5;28mself\u001b[39m\u001b[38;5;241m.\u001b[39m_getitem_multilevel(key)\n\u001b[0;32m-> 3893\u001b[0m indexer \u001b[38;5;241m=\u001b[39m \u001b[38;5;28;43mself\u001b[39;49m\u001b[38;5;241;43m.\u001b[39;49m\u001b[43mcolumns\u001b[49m\u001b[38;5;241;43m.\u001b[39;49m\u001b[43mget_loc\u001b[49m\u001b[43m(\u001b[49m\u001b[43mkey\u001b[49m\u001b[43m)\u001b[49m\n\u001b[1;32m   3894\u001b[0m \u001b[38;5;28;01mif\u001b[39;00m is_integer(indexer):\n\u001b[1;32m   3895\u001b[0m     indexer \u001b[38;5;241m=\u001b[39m [indexer]\n",
      "File \u001b[0;32m~/.local/lib/python3.10/site-packages/pandas/core/indexes/base.py:3798\u001b[0m, in \u001b[0;36mIndex.get_loc\u001b[0;34m(self, key)\u001b[0m\n\u001b[1;32m   3793\u001b[0m     \u001b[38;5;28;01mif\u001b[39;00m \u001b[38;5;28misinstance\u001b[39m(casted_key, \u001b[38;5;28mslice\u001b[39m) \u001b[38;5;129;01mor\u001b[39;00m (\n\u001b[1;32m   3794\u001b[0m         \u001b[38;5;28misinstance\u001b[39m(casted_key, abc\u001b[38;5;241m.\u001b[39mIterable)\n\u001b[1;32m   3795\u001b[0m         \u001b[38;5;129;01mand\u001b[39;00m \u001b[38;5;28many\u001b[39m(\u001b[38;5;28misinstance\u001b[39m(x, \u001b[38;5;28mslice\u001b[39m) \u001b[38;5;28;01mfor\u001b[39;00m x \u001b[38;5;129;01min\u001b[39;00m casted_key)\n\u001b[1;32m   3796\u001b[0m     ):\n\u001b[1;32m   3797\u001b[0m         \u001b[38;5;28;01mraise\u001b[39;00m InvalidIndexError(key)\n\u001b[0;32m-> 3798\u001b[0m     \u001b[38;5;28;01mraise\u001b[39;00m \u001b[38;5;167;01mKeyError\u001b[39;00m(key) \u001b[38;5;28;01mfrom\u001b[39;00m\u001b[38;5;250m \u001b[39m\u001b[38;5;21;01merr\u001b[39;00m\n\u001b[1;32m   3799\u001b[0m \u001b[38;5;28;01mexcept\u001b[39;00m \u001b[38;5;167;01mTypeError\u001b[39;00m:\n\u001b[1;32m   3800\u001b[0m     \u001b[38;5;66;03m# If we have a listlike key, _check_indexing_error will raise\u001b[39;00m\n\u001b[1;32m   3801\u001b[0m     \u001b[38;5;66;03m#  InvalidIndexError. Otherwise we fall through and re-raise\u001b[39;00m\n\u001b[1;32m   3802\u001b[0m     \u001b[38;5;66;03m#  the TypeError.\u001b[39;00m\n\u001b[1;32m   3803\u001b[0m     \u001b[38;5;28mself\u001b[39m\u001b[38;5;241m.\u001b[39m_check_indexing_error(key)\n",
      "\u001b[0;31mKeyError\u001b[0m: 'address_crm'"
     ]
    }
   ],
   "source": [
    "import pandas as pd\n",
    "\n",
    "# --- Task: Customer Address Discrepancies ---\n",
    "print(\"--- Task: Customer Address Discrepancies ---\")\n",
    "\n",
    "# Load the datasets\n",
    "try:\n",
    "    crm_df = pd.read_csv('crm_customers.csv')\n",
    "    marketing_df = pd.read_csv('erp_customers.csv')\n",
    "except FileNotFoundError as e:\n",
    "    print(f\"Error loading file: {e}. Please ensure 'crm_customers.csv' and 'erp_customers.csv' are in the same directory.\")\n",
    "    # Create empty DataFrames to prevent further errors if files are missing\n",
    "    crm_df = pd.DataFrame()\n",
    "    marketing_df = pd.DataFrame()\n",
    "\n",
    "if not crm_df.empty and not marketing_df.empty:\n",
    "    # 1. Compare customer addresses in the CRM with those in the marketing database.\n",
    "    # Merge the two DataFrames on 'customer_id' to bring addresses side-by-side\n",
    "    # Use 'inner' merge to focus only on customers present in both systems.\n",
    "    merged_customers_df = pd.merge(crm_df, marketing_df, on='customer_id', suffixes=('_crm', '_mkt'))\n",
    "\n",
    "    # Normalize addresses for better comparison (e.g., lowercasing, removing extra spaces)\n",
    "    # This step is crucial for real-world data where \"Main St\" vs \"Main Street\" might occur.\n",
    "    # For simplicity, we'll just lowercase and strip spaces for this example.\n",
    "    merged_customers_df['address_crm_norm'] = merged_customers_df['address_crm'].str.lower().str.strip()\n",
    "    merged_customers_df['address_mkt_norm'] = merged_customers_df['address_mkt'].str.lower().str.strip()\n",
    "\n",
    "\n",
    "    # 2. Identify records with conflicting address information.\n",
    "    # A conflict exists if normalized addresses are different and neither is null.\n",
    "    conflicting_addresses_df = merged_customers_df[\n",
    "        (merged_customers_df['address_crm_norm'] != merged_customers_df['address_mkt_norm']) &\n",
    "        (merged_customers_df['address_crm_norm'].notnull()) &\n",
    "        (merged_customers_df['address_mkt_norm'].notnull())\n",
    "    ].copy() # .copy() to avoid SettingWithCopyWarning\n",
    "\n",
    "    if not conflicting_addresses_df.empty:\n",
    "        print(\"\\nCustomers with conflicting address information:\")\n",
    "        # Display relevant columns for conflicting records\n",
    "        print(conflicting_addresses_df[['customer_id', 'name_crm', 'address_crm', 'address_mkt']])\n",
    "\n",
    "        # 3. Propose a method to consolidate records with verified addresses.\n",
    "        print(\"\\n--- Proposed Methods for Consolidation with Verified Addresses ---\")\n",
    "        print(\"For each conflicting record, a common approach is to:\")\n",
    "        print(\"1. **Manual Review and Correction:** The most reliable method for critical data like addresses. Data stewards or support teams would manually check each conflicting address against a verified source (e.g., postal service database, customer contact) and update the correct system.\")\n",
    "        print(\"2. **Master Data Management (MDM) System:** Implement an MDM solution that acts as a central repository for golden customer records. It would define rules for merging and prioritizing data from different sources.\")\n",
    "        print(\"3. **Source Priority Rule:** If one source is inherently more reliable for addresses (e.g., CRM is the system of record for customer details), automatically prioritize its address. For example, always use CRM address if conflict:\")\n",
    "        # Example of applying a source priority rule (e.g., prioritize CRM address)\n",
    "        # Note: This is an example of the *logic* for consolidation, not modifying the original DFs\n",
    "        print(\"\\n   Example of prioritizing CRM address:\")\n",
    "        # Create a new column for the 'resolved' address based on a priority rule\n",
    "        def resolve_address(row):\n",
    "            if row['address_crm_norm'] == row['address_mkt_norm']:\n",
    "                return row['address_crm'] # They match, pick one\n",
    "            else:\n",
    "                # If they conflict, prioritize CRM address\n",
    "                return row['address_crm']\n",
    "\n",
    "        # Apply this logic to a subset of conflicting data for demonstration\n",
    "        # In a real scenario, you'd apply this to the full merged_customers_df or to your master customer data\n",
    "        # For demonstration, let's create a hypothetical resolved column for these conflicts\n",
    "        conflicting_addresses_df['resolved_address'] = conflicting_addresses_df.apply(resolve_address, axis=1)\n",
    "        print(conflicting_addresses_df[['customer_id', 'address_crm', 'address_mkt', 'resolved_address']])\n",
    "        print(\"\\n   This 'resolved_address' would then be used to update the less accurate system or a master record.\")\n",
    "\n",
    "        print(\"4. **Consensus-based Approach:** If multiple sources exist, choose the address that appears most frequently or has been recently updated.\")\n",
    "        print(\"5. **Data Cleansing/Validation Services:** Integrate with external address validation APIs (e.g., Google Maps API, USPS address validation) to verify and standardize addresses before consolidation.\")\n",
    "\n",
    "    else:\n",
    "        print(\"No conflicting address information found for customers present in both datasets.\")\n",
    "\n",
    "else:\n",
    "    print(\"Skipping customer address discrepancies check due to file loading error.\")"
   ]
  }
 ],
 "metadata": {
  "kernelspec": {
   "display_name": "Python 3",
   "language": "python",
   "name": "python3"
  },
  "language_info": {
   "codemirror_mode": {
    "name": "ipython",
    "version": 3
   },
   "file_extension": ".py",
   "mimetype": "text/x-python",
   "name": "python",
   "nbconvert_exporter": "python",
   "pygments_lexer": "ipython3",
   "version": "3.10.12"
  }
 },
 "nbformat": 4,
 "nbformat_minor": 2
}
