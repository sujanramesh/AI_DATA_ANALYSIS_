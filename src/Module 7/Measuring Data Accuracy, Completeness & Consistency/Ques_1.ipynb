{
 "cells": [
  {
   "cell_type": "markdown",
   "metadata": {},
   "source": [
    "### Task 1: Measure Data Accuracy using a Trusted Source\n",
    "\n",
    "**Description**: You have two datasets of product prices: `company_prices.csv` and\n",
    "`trusted_prices.csv` . Check if the prices in `company_prices.csv` match the prices in\n",
    "`trusted_prices.csv` . Assume both files have a \"product_id\" and \"price\" column."
   ]
  },
  {
   "cell_type": "code",
   "execution_count": null,
   "metadata": {},
   "outputs": [],
   "source": [
    "# Write your code from here"
   ]
  },
  {
   "cell_type": "code",
   "execution_count": 1,
   "metadata": {},
   "outputs": [
    {
     "name": "stdout",
     "output_type": "stream",
     "text": [
      "--- Task 1: Measure Data Accuracy using a Trusted Source ---\n",
      "Total products compared (present in both files): 7\n",
      "Number of matching prices: 4\n",
      "Data Accuracy (matching prices) against trusted source: 57.14%\n",
      "\n",
      "Products with price discrepancies:\n",
      "  product_id  price_company  price_trusted\n",
      "2       P003           5.75            6.0\n",
      "3       P004         -12.00           12.0\n",
      "6       P007          -5.00            5.0\n"
     ]
    }
   ],
   "source": [
    "import pandas as pd\n",
    "\n",
    "# --- Task 1: Measure Data Accuracy using a Trusted Source ---\n",
    "print(\"--- Task 1: Measure Data Accuracy using a Trusted Source ---\")\n",
    "\n",
    "# Load the datasets\n",
    "try:\n",
    "    company_df = pd.read_csv('company_prices.csv')\n",
    "    trusted_df = pd.read_csv('trusted_prices.csv')\n",
    "except FileNotFoundError:\n",
    "    print(\"Error: Make sure 'company_prices.csv' and 'trusted_prices.csv' are in the same directory.\")\n",
    "    company_df = pd.DataFrame() # Create empty DataFrame to avoid errors later\n",
    "    trusted_df = pd.DataFrame() # Create empty DataFrame to avoid errors later\n",
    "\n",
    "if not company_df.empty and not trusted_df.empty:\n",
    "    # Merge the two DataFrames on 'product_id'\n",
    "    # 'inner' merge will only include products present in both datasets\n",
    "    merged_df = pd.merge(company_df, trusted_df, on='product_id', suffixes=('_company', '_trusted'))\n",
    "\n",
    "    # Check if prices match\n",
    "    merged_df['price_match'] = (merged_df['price_company'] == merged_df['price_trusted'])\n",
    "\n",
    "    # Calculate accuracy\n",
    "    if not merged_df.empty:\n",
    "        total_compared_products = len(merged_df)\n",
    "        matching_prices_count = merged_df['price_match'].sum()\n",
    "        accuracy = (matching_prices_count / total_compared_products) * 100\n",
    "        print(f\"Total products compared (present in both files): {total_compared_products}\")\n",
    "        print(f\"Number of matching prices: {matching_prices_count}\")\n",
    "        print(f\"Data Accuracy (matching prices) against trusted source: {accuracy:.2f}%\")\n",
    "\n",
    "        # Optionally, show products with price discrepancies\n",
    "        discrepancies = merged_df[merged_df['price_match'] == False]\n",
    "        if not discrepancies.empty:\n",
    "            print(\"\\nProducts with price discrepancies:\")\n",
    "            print(discrepancies[['product_id', 'price_company', 'price_trusted']])\n",
    "        else:\n",
    "            print(\"\\nNo price discrepancies found between company and trusted data for common products.\")\n",
    "    else:\n",
    "        print(\"No common products found between company_prices.csv and trusted_prices.csv to compare.\")\n",
    "else:\n",
    "    print(\"Skipping Task 1 due to file loading error.\")"
   ]
  },
  {
   "cell_type": "markdown",
   "metadata": {},
   "source": [
    "### Task 2: Detect Incorrect Values\n",
    "\n",
    "**Description**: In `company_prices.csv` , detect any negative price values which are incorrect values for prices."
   ]
  },
  {
   "cell_type": "code",
   "execution_count": null,
   "metadata": {},
   "outputs": [],
   "source": [
    "# Write your code from here"
   ]
  },
  {
   "cell_type": "code",
   "execution_count": 2,
   "metadata": {},
   "outputs": [
    {
     "name": "stdout",
     "output_type": "stream",
     "text": [
      "\n",
      "--- Task 2: Detect Incorrect Values ---\n",
      "Detected incorrect (negative) price values:\n",
      "  product_id  price\n",
      "3       P004  -12.0\n",
      "6       P007   -5.0\n"
     ]
    }
   ],
   "source": [
    "print(\"\\n--- Task 2: Detect Incorrect Values ---\")\n",
    "\n",
    "# Ensure company_df is loaded from Task 1, or load it again if running this section separately\n",
    "if company_df.empty:\n",
    "    try:\n",
    "        company_df = pd.read_csv('company_prices.csv')\n",
    "    except FileNotFoundError:\n",
    "        print(\"Error: 'company_prices.csv' not found. Cannot perform Task 2.\")\n",
    "\n",
    "if not company_df.empty:\n",
    "    # Detect negative price values\n",
    "    incorrect_prices_df = company_df[company_df['price'] < 0]\n",
    "\n",
    "    if not incorrect_prices_df.empty:\n",
    "        print(\"Detected incorrect (negative) price values:\")\n",
    "        print(incorrect_prices_df)\n",
    "    else:\n",
    "        print(\"No negative price values found in company_prices.csv. All prices appear valid.\")\n",
    "else:\n",
    "    print(\"Skipping Task 2 due to file loading error.\")\n"
   ]
  },
  {
   "cell_type": "markdown",
   "metadata": {},
   "source": [
    "### Task 3: Check Missing Data Rates\n",
    "\n",
    "**Description**: Calculate the percentage of missing values in `customer_data.csv` ."
   ]
  },
  {
   "cell_type": "code",
   "execution_count": null,
   "metadata": {},
   "outputs": [],
   "source": [
    "# Write your code from here"
   ]
  },
  {
   "cell_type": "code",
   "execution_count": 4,
   "metadata": {},
   "outputs": [
    {
     "name": "stdout",
     "output_type": "stream",
     "text": [
      "\n",
      "--- Task 3: Check Missing Data Rates ---\n",
      "Missing values per column:\n",
      "customer_id    0\n",
      "name           1\n",
      "age            3\n",
      "email          1\n",
      "city           1\n",
      "dtype: int64\n",
      "\n",
      "Percentage of missing values per column:\n",
      "customer_id     0.0%\n",
      "name           12.5%\n",
      "age            37.5%\n",
      "email          12.5%\n",
      "city           12.5%\n",
      "dtype: object\n",
      "\n",
      "Overall missing data rate across all columns: 15.00%\n"
     ]
    }
   ],
   "source": [
    "print(\"\\n--- Task 3: Check Missing Data Rates ---\")\n",
    "\n",
    "# Load the customer data\n",
    "try:\n",
    "    customer_df = pd.read_csv('company_data.csv')\n",
    "except FileNotFoundError:\n",
    "    print(\"Error: Make sure 'company_data.csv' is in the same directory.\")\n",
    "    customer_df = pd.DataFrame() # Create empty DataFrame to avoid errors later\n",
    "\n",
    "if not customer_df.empty:\n",
    "    # Calculate the total number of missing values per column\n",
    "    missing_values_count = customer_df.isnull().sum()\n",
    "\n",
    "    # Calculate the percentage of missing values per column\n",
    "    total_rows = len(customer_df)\n",
    "    missing_values_percentage = (missing_values_count / total_rows) * 100\n",
    "\n",
    "    print(\"Missing values per column:\")\n",
    "    print(missing_values_count)\n",
    "    print(\"\\nPercentage of missing values per column:\")\n",
    "    print(missing_values_percentage.round(2).astype(str) + '%')\n",
    "\n",
    "    # Optionally, calculate overall missing data rate\n",
    "    total_cells = customer_df.size\n",
    "    total_missing_cells = missing_values_count.sum()\n",
    "    if total_cells > 0: # Avoid division by zero if DataFrame is empty\n",
    "        overall_missing_rate = (total_missing_cells / total_cells) * 100\n",
    "        print(f\"\\nOverall missing data rate across all columns: {overall_missing_rate:.2f}%\")\n",
    "    else:\n",
    "        print(\"Customer data DataFrame is empty, cannot calculate overall missing rate.\")\n",
    "else:\n",
    "    print(\"Skipping Task 3 due to file loading error.\")"
   ]
  },
  {
   "cell_type": "markdown",
   "metadata": {},
   "source": [
    "### Task 4: Handling Partially Available Records\n",
    "\n",
    "**Description**: In `customer_data.csv` , identify records with missing \"email\" or \"phone number\" and decide whether to drop or fill them."
   ]
  },
  {
   "cell_type": "code",
   "execution_count": null,
   "metadata": {},
   "outputs": [],
   "source": [
    "# Write your code from here"
   ]
  },
  {
   "cell_type": "code",
   "execution_count": 5,
   "metadata": {},
   "outputs": [
    {
     "name": "stdout",
     "output_type": "stream",
     "text": [
      "\n",
      "--- Task 4: Handling Partially Available Records ---\n",
      "Records with missing 'email' (or 'phone number' if it existed):\n",
      "  customer_id   name   age email     city\n",
      "3        C104  David  45.0   NaN  Houston\n",
      "\n",
      "--- Option 1: Dropping records with missing contact info ---\n",
      "Original number of records: 8\n",
      "Number of records after dropping missing 'email': 7\n",
      "DataFrame after dropping:\n",
      "  customer_id     name   age                email         city\n",
      "0        C101    Alice  30.0    alice@example.com     New York\n",
      "1        C102      Bob  24.0      bob@example.com  Los Angeles\n",
      "2        C103  Charlie   NaN  charlie@example.com      Chicago\n",
      "4        C105      Eve  28.0      eve@example.com          NaN\n",
      "5        C106    Frank   NaN    frank@example.com        Miami\n",
      "6        C107    Grace  35.0    grace@example.com      Seattle\n",
      "7        C108      NaN   NaN   oliver@example.com       Boston\n",
      "\n",
      "--- Option 2: Filling missing contact info with a placeholder ---\n",
      "DataFrame after filling missing 'email' with 'missing@example.com':\n",
      "  customer_id     name   age                email         city\n",
      "0        C101    Alice  30.0    alice@example.com     New York\n",
      "1        C102      Bob  24.0      bob@example.com  Los Angeles\n",
      "2        C103  Charlie   NaN  charlie@example.com      Chicago\n",
      "3        C104    David  45.0  missing@example.com      Houston\n",
      "4        C105      Eve  28.0      eve@example.com          NaN\n",
      "5        C106    Frank   NaN    frank@example.com        Miami\n",
      "6        C107    Grace  35.0    grace@example.com      Seattle\n",
      "7        C108      NaN   NaN   oliver@example.com       Boston\n"
     ]
    }
   ],
   "source": [
    "print(\"\\n--- Task 4: Handling Partially Available Records ---\")\n",
    "\n",
    "if not customer_df.empty:\n",
    "    # --- Part A: Identify records with missing 'email' or 'phone number' ---\n",
    "    # First, let's check if 'phone number' column exists in customer_data.csv\n",
    "    # Our sample data doesn't have 'phone number', so we'll adjust to only check 'email'\n",
    "    # If your actual data has 'phone number', you would include it like:\n",
    "    # missing_contact_records = customer_df[customer_df['email'].isnull() | customer_df['phone number'].isnull()]\n",
    "\n",
    "    # For our sample customer_data.csv, we will only check 'email'\n",
    "    missing_email_records = customer_df[customer_df['email'].isnull()]\n",
    "\n",
    "    print(\"Records with missing 'email' (or 'phone number' if it existed):\")\n",
    "    if not missing_email_records.empty:\n",
    "        print(missing_email_records)\n",
    "    else:\n",
    "        print(\"No records found with missing 'email' (or 'phone number' if present).\")\n",
    "\n",
    "    # --- Part B: Decide whether to drop or fill them ---\n",
    "\n",
    "    # Option 1: Drop records with missing 'email' (or 'phone number')\n",
    "    print(\"\\n--- Option 1: Dropping records with missing contact info ---\")\n",
    "    # Using 'email' for our sample, replace with ['email', 'phone number'] if both exist\n",
    "    customer_df_dropped = customer_df.dropna(subset=['email'])\n",
    "\n",
    "    print(f\"Original number of records: {len(customer_df)}\")\n",
    "    print(f\"Number of records after dropping missing 'email': {len(customer_df_dropped)}\")\n",
    "    print(\"DataFrame after dropping:\")\n",
    "    print(customer_df_dropped)\n",
    "\n",
    "\n",
    "    # Option 2: Fill missing 'email' (or 'phone number') with a placeholder\n",
    "    print(\"\\n--- Option 2: Filling missing contact info with a placeholder ---\")\n",
    "    customer_df_filled = customer_df.copy() # Create a copy to avoid modifying original df\n",
    "    # Fill missing 'email' with 'missing@example.com'\n",
    "    customer_df_filled['email'].fillna('missing@example.com', inplace=True)\n",
    "    # If you had a 'phone number' column, you might do:\n",
    "    # customer_df_filled['phone number'].fillna('N/A', inplace=True)\n",
    "\n",
    "\n",
    "    print(\"DataFrame after filling missing 'email' with 'missing@example.com':\")\n",
    "    print(customer_df_filled)\n",
    "\n",
    "    # You would choose either Option 1 or Option 2 based on your data analysis needs\n",
    "    # and the impact of dropping/filling on your downstream tasks.\n",
    "else:\n",
    "    print(\"Skipping Task 4 due to 'customer_data.csv' loading error.\")\n"
   ]
  }
 ],
 "metadata": {
  "kernelspec": {
   "display_name": "Python 3",
   "language": "python",
   "name": "python3"
  },
  "language_info": {
   "codemirror_mode": {
    "name": "ipython",
    "version": 3
   },
   "file_extension": ".py",
   "mimetype": "text/x-python",
   "name": "python",
   "nbconvert_exporter": "python",
   "pygments_lexer": "ipython3",
   "version": "3.10.12"
  }
 },
 "nbformat": 4,
 "nbformat_minor": 2
}
