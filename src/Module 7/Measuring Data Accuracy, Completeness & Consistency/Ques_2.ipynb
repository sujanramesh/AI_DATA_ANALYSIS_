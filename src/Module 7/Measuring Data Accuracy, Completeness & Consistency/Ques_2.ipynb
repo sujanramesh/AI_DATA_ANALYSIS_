{
 "cells": [
  {
   "cell_type": "markdown",
   "metadata": {},
   "source": [
    "## Find Conflicting Values Across Datasets\n",
    "\n",
    "**Description**: You have two datasets: `crm_customers.csv` and `erp_customers.csv` . Find customers with conflicting \"email\" information."
   ]
  },
  {
   "cell_type": "code",
   "execution_count": null,
   "metadata": {},
   "outputs": [],
   "source": [
    "# Write your code from here"
   ]
  },
  {
   "cell_type": "code",
   "execution_count": 1,
   "metadata": {},
   "outputs": [
    {
     "name": "stdout",
     "output_type": "stream",
     "text": [
      "--- Task: Find Conflicting Values Across Datasets ---\n",
      "Customers with conflicting email information:\n",
      "  customer_id       name_crm          email_crm              email_erp\n",
      "0        C101    Alice Smith    alice.s@crm.com        alice.s@erp.com\n",
      "2        C103  Charlie Brown  charlie.b@crm.com  charlie.brown@erp.com\n",
      "4        C105      Eve Davis      eve.d@crm.com           eved@erp.com\n"
     ]
    }
   ],
   "source": [
    "import pandas as pd\n",
    "\n",
    "# --- Task: Find Conflicting Values Across Datasets ---\n",
    "print(\"--- Task: Find Conflicting Values Across Datasets ---\")\n",
    "\n",
    "# Load the datasets\n",
    "try:\n",
    "    crm_df = pd.read_csv('crm_customers.csv')\n",
    "    erp_df = pd.read_csv('erp_customers.csv')\n",
    "except FileNotFoundError as e:\n",
    "    print(f\"Error loading file: {e}. Please ensure 'crm_customers.csv' and 'erp_customers.csv' are in the same directory.\")\n",
    "    # Create empty DataFrames to prevent further errors if files are missing\n",
    "    crm_df = pd.DataFrame()\n",
    "    erp_df = pd.DataFrame()\n",
    "\n",
    "if not crm_df.empty and not erp_df.empty:\n",
    "    # Merge the two DataFrames on 'customer_id'\n",
    "    # Use 'inner' merge to only consider customers present in both systems\n",
    "    merged_customers_df = pd.merge(crm_df, erp_df, on='customer_id', suffixes=('_crm', '_erp'))\n",
    "\n",
    "    # Find customers where the 'email' conflicts\n",
    "    # Ensure to compare only for non-null emails in both columns if that's a requirement\n",
    "    conflicting_emails_df = merged_customers_df[\n",
    "        (merged_customers_df['email_crm'] != merged_customers_df['email_erp']) &\n",
    "        (merged_customers_df['email_crm'].notnull()) &\n",
    "        (merged_customers_df['email_erp'].notnull())\n",
    "    ]\n",
    "\n",
    "    if not conflicting_emails_df.empty:\n",
    "        print(\"Customers with conflicting email information:\")\n",
    "        # Display relevant columns for conflicting records\n",
    "        print(conflicting_emails_df[['customer_id', 'name_crm', 'email_crm', 'email_erp']])\n",
    "    else:\n",
    "        print(\"No conflicting email information found for customers present in both datasets.\")\n",
    "\n",
    "else:\n",
    "    print(\"Skipping conflict detection due to file loading error.\")"
   ]
  }
 ],
 "metadata": {
  "kernelspec": {
   "display_name": "Python 3",
   "language": "python",
   "name": "python3"
  },
  "language_info": {
   "codemirror_mode": {
    "name": "ipython",
    "version": 3
   },
   "file_extension": ".py",
   "mimetype": "text/x-python",
   "name": "python",
   "nbconvert_exporter": "python",
   "pygments_lexer": "ipython3",
   "version": "3.10.12"
  }
 },
 "nbformat": 4,
 "nbformat_minor": 2
}
