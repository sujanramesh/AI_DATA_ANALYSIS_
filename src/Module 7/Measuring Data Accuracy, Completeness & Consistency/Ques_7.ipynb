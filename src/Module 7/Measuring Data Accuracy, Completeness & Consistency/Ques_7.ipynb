{
 "cells": [
  {
   "cell_type": "markdown",
   "metadata": {},
   "source": [
    "## Advanced Consistency Check with Hierarchical Data\n",
    "\n",
    "**Description**: You have two datasets `orders.csv` and `order_items.csv` . Perform a consistency check to ensure each order in `orders.csv` has corresponding items in `order_items.csv` ."
   ]
  },
  {
   "cell_type": "code",
   "execution_count": null,
   "metadata": {},
   "outputs": [],
   "source": [
    "# Write your code from here"
   ]
  },
  {
   "cell_type": "code",
   "execution_count": 1,
   "metadata": {},
   "outputs": [
    {
     "name": "stdout",
     "output_type": "stream",
     "text": [
      "--- Task: Advanced Consistency Check with Hierarchical Data ---\n",
      "Error loading file: [Errno 2] No such file or directory: 'order_items.csv'. Please ensure 'orders.csv' and 'order_items.csv' are in the same directory.\n",
      "Skipping advanced consistency check due to file loading error.\n"
     ]
    }
   ],
   "source": [
    "import pandas as pd\n",
    "\n",
    "# --- Task: Advanced Consistency Check with Hierarchical Data ---\n",
    "print(\"--- Task: Advanced Consistency Check with Hierarchical Data ---\")\n",
    "\n",
    "# Load the datasets\n",
    "try:\n",
    "    orders_df = pd.read_csv('orders.csv')\n",
    "    order_items_df = pd.read_csv('order_items.csv')\n",
    "except FileNotFoundError as e:\n",
    "    print(f\"Error loading file: {e}. Please ensure 'orders.csv' and 'order_items.csv' are in the same directory.\")\n",
    "    # Create empty DataFrames to prevent further errors if files are missing\n",
    "    orders_df = pd.DataFrame()\n",
    "    order_items_df = pd.DataFrame()\n",
    "\n",
    "if not orders_df.empty and not order_items_df.empty:\n",
    "    # 1. Get unique order_ids from both datasets\n",
    "    orders_ids = set(orders_df['order_id'])\n",
    "    order_items_ids = set(order_items_df['order_id'])\n",
    "\n",
    "    # 2. Find orders in orders.csv that have no corresponding items in order_items.csv\n",
    "    # These are order_ids present in 'orders_ids' but NOT in 'order_items_ids'\n",
    "    orders_with_no_items = [order_id for order_id in orders_ids if order_id not in order_items_ids]\n",
    "\n",
    "    if orders_with_no_items:\n",
    "        print(\"\\nOrders in 'orders.csv' with no corresponding items in 'order_items.csv':\")\n",
    "        # Filter the orders_df to show these problematic orders\n",
    "        problematic_orders_df = orders_df[orders_df['order_id'].isin(orders_with_no_items)]\n",
    "        print(problematic_orders_df)\n",
    "    else:\n",
    "        print(\"\\nAll orders in 'orders.csv' have corresponding items in 'order_items.csv'.\")\n",
    "\n",
    "    # 3. (Optional) Find order_items with no corresponding order in orders.csv\n",
    "    # These are order_ids present in 'order_items_ids' but NOT in 'orders_ids'\n",
    "    orphan_order_items = [order_id for order_id in order_items_ids if order_id not in orders_ids]\n",
    "\n",
    "    if orphan_order_items:\n",
    "        print(\"\\nOrder items in 'order_items.csv' with no corresponding order in 'orders.csv' (orphan items):\")\n",
    "        # Filter the order_items_df to show these problematic items\n",
    "        problematic_items_df = order_items_df[order_items_df['order_id'].isin(orphan_order_items)]\n",
    "        print(problematic_items_df)\n",
    "    else:\n",
    "        print(\"\\nAll items in 'order_items.csv' have a corresponding order in 'orders.csv'.\")\n",
    "\n",
    "else:\n",
    "    print(\"Skipping advanced consistency check due to file loading error.\")"
   ]
  }
 ],
 "metadata": {
  "kernelspec": {
   "display_name": "Python 3",
   "language": "python",
   "name": "python3"
  },
  "language_info": {
   "codemirror_mode": {
    "name": "ipython",
    "version": 3
   },
   "file_extension": ".py",
   "mimetype": "text/x-python",
   "name": "python",
   "nbconvert_exporter": "python",
   "pygments_lexer": "ipython3",
   "version": "3.10.12"
  }
 },
 "nbformat": 4,
 "nbformat_minor": 2
}
