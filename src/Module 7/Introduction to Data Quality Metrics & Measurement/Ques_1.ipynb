{
 "cells": [
  {
   "cell_type": "markdown",
   "metadata": {},
   "source": [
    "## Data Quality Dashboard in Python\n",
    "\n",
    "**Description**: Create a basic dashboard using a Python library (e.g., Plotly Dash) to visualize data quality metrics for a given dataset."
   ]
  },
  {
   "cell_type": "code",
   "execution_count": null,
   "metadata": {},
   "outputs": [],
   "source": [
    "# Write your code from here"
   ]
  },
  {
   "cell_type": "code",
   "execution_count": 6,
   "metadata": {},
   "outputs": [
    {
     "name": "stdout",
     "output_type": "stream",
     "text": [
      "Defaulting to user installation because normal site-packages is not writeable\n",
      "Requirement already satisfied: dash in /home/vscode/.local/lib/python3.10/site-packages (3.0.4)\n",
      "Requirement already satisfied: requests in /home/vscode/.local/lib/python3.10/site-packages (from dash) (2.32.3)\n",
      "Requirement already satisfied: Flask<3.1,>=1.0.4 in /home/vscode/.local/lib/python3.10/site-packages (from dash) (3.0.3)\n",
      "Requirement already satisfied: nest-asyncio in /home/vscode/.local/lib/python3.10/site-packages (from dash) (1.6.0)\n",
      "Requirement already satisfied: plotly>=5.0.0 in /home/vscode/.local/lib/python3.10/site-packages (from dash) (6.0.1)\n",
      "Requirement already satisfied: importlib-metadata in /home/vscode/.local/lib/python3.10/site-packages (from dash) (8.7.0)\n",
      "Requirement already satisfied: Werkzeug<3.1 in /home/vscode/.local/lib/python3.10/site-packages (from dash) (3.0.6)\n",
      "Requirement already satisfied: setuptools in /usr/local/lib/python3.10/site-packages (from dash) (67.8.0)\n",
      "Requirement already satisfied: typing-extensions>=4.1.1 in /home/vscode/.local/lib/python3.10/site-packages (from dash) (4.13.2)\n",
      "Requirement already satisfied: retrying in /home/vscode/.local/lib/python3.10/site-packages (from dash) (1.3.4)\n",
      "Requirement already satisfied: itsdangerous>=2.1.2 in /home/vscode/.local/lib/python3.10/site-packages (from Flask<3.1,>=1.0.4->dash) (2.2.0)\n",
      "Requirement already satisfied: click>=8.1.3 in /home/vscode/.local/lib/python3.10/site-packages (from Flask<3.1,>=1.0.4->dash) (8.2.1)\n",
      "Requirement already satisfied: blinker>=1.6.2 in /home/vscode/.local/lib/python3.10/site-packages (from Flask<3.1,>=1.0.4->dash) (1.9.0)\n",
      "Requirement already satisfied: Jinja2>=3.1.2 in /home/vscode/.local/lib/python3.10/site-packages (from Flask<3.1,>=1.0.4->dash) (3.1.6)\n",
      "Requirement already satisfied: packaging in /home/vscode/.local/lib/python3.10/site-packages (from plotly>=5.0.0->dash) (25.0)\n",
      "Requirement already satisfied: narwhals>=1.15.1 in /home/vscode/.local/lib/python3.10/site-packages (from plotly>=5.0.0->dash) (1.39.0)\n",
      "Requirement already satisfied: MarkupSafe>=2.1.1 in /home/vscode/.local/lib/python3.10/site-packages (from Werkzeug<3.1->dash) (3.0.2)\n",
      "Requirement already satisfied: zipp>=3.20 in /home/vscode/.local/lib/python3.10/site-packages (from importlib-metadata->dash) (3.21.0)\n",
      "Requirement already satisfied: charset-normalizer<4,>=2 in /home/vscode/.local/lib/python3.10/site-packages (from requests->dash) (3.4.2)\n",
      "Requirement already satisfied: urllib3<3,>=1.21.1 in /home/vscode/.local/lib/python3.10/site-packages (from requests->dash) (2.4.0)\n",
      "Requirement already satisfied: certifi>=2017.4.17 in /home/vscode/.local/lib/python3.10/site-packages (from requests->dash) (2025.4.26)\n",
      "Requirement already satisfied: idna<4,>=2.5 in /home/vscode/.local/lib/python3.10/site-packages (from requests->dash) (3.10)\n",
      "Requirement already satisfied: six>=1.7.0 in /home/vscode/.local/lib/python3.10/site-packages (from retrying->dash) (1.17.0)\n",
      "\n",
      "\u001b[1m[\u001b[0m\u001b[34;49mnotice\u001b[0m\u001b[1;39;49m]\u001b[0m\u001b[39;49m A new release of pip is available: \u001b[0m\u001b[31;49m23.0.1\u001b[0m\u001b[39;49m -> \u001b[0m\u001b[32;49m25.1.1\u001b[0m\n",
      "\u001b[1m[\u001b[0m\u001b[34;49mnotice\u001b[0m\u001b[1;39;49m]\u001b[0m\u001b[39;49m To update, run: \u001b[0m\u001b[32;49mpip install --upgrade pip\u001b[0m\n",
      "Note: you may need to restart the kernel to use updated packages.\n"
     ]
    }
   ],
   "source": [
    "pip install dash\n"
   ]
  },
  {
   "cell_type": "code",
   "execution_count": 7,
   "metadata": {},
   "outputs": [
    {
     "data": {
      "text/html": [
       "\n",
       "        <iframe\n",
       "            width=\"100%\"\n",
       "            height=\"650\"\n",
       "            src=\"http://127.0.0.1:8050/\"\n",
       "            frameborder=\"0\"\n",
       "            allowfullscreen\n",
       "            \n",
       "        ></iframe>\n",
       "        "
      ],
      "text/plain": [
       "<IPython.lib.display.IFrame at 0x77ef1cc65780>"
      ]
     },
     "metadata": {},
     "output_type": "display_data"
    }
   ],
   "source": [
    "import pandas as pd\n",
    "import dash\n",
    "from dash import dcc, html\n",
    "import plotly.express as px\n",
    "\n",
    "# Load your dataset\n",
    "df = pd.read_csv('swiggy.csv')\n",
    "\n",
    "# Calculate missing values\n",
    "missing_values = df.isnull().sum().reset_index()\n",
    "missing_values.columns = ['Column', 'Missing Values']\n",
    "\n",
    "# Data types\n",
    "data_types = df.dtypes.reset_index()\n",
    "data_types.columns = ['Column', 'Data Type']\n",
    "\n",
    "# Summary stats (just showing numeric for now)\n",
    "summary_stats = df.describe().T.reset_index()\n",
    "summary_stats.columns = ['Column', 'Count', 'Mean', 'Std', 'Min', '25%', '50%', '75%', 'Max']\n",
    "\n",
    "# Initialize Dash app\n",
    "app = dash.Dash(__name__)\n",
    "\n",
    "app.layout = html.Div([\n",
    "    html.H1(\"Data Quality Dashboard\"),\n",
    "\n",
    "    html.H2(\"Missing Values\"),\n",
    "    dcc.Graph(\n",
    "        figure=px.bar(missing_values, x='Column', y='Missing Values', title=\"Missing Values per Column\")\n",
    "    ),\n",
    "\n",
    "    html.H2(\"Data Types\"),\n",
    "    dcc.Graph(\n",
    "        figure=px.pie(data_types, names='Data Type', title=\"Data Type Distribution\")\n",
    "    ),\n",
    "\n",
    "    html.H2(\"Summary Statistics\"),\n",
    "    html.Div([\n",
    "        dcc.Graph(\n",
    "            figure=px.bar(summary_stats, x='Column', y='Mean', title='Mean per Column')\n",
    "        )\n",
    "    ])\n",
    "])\n",
    "\n",
    "if __name__ == '__main__':\n",
    "    app.run(debug=True)\n"
   ]
  }
 ],
 "metadata": {
  "kernelspec": {
   "display_name": "Python 3",
   "language": "python",
   "name": "python3"
  },
  "language_info": {
   "codemirror_mode": {
    "name": "ipython",
    "version": 3
   },
   "file_extension": ".py",
   "mimetype": "text/x-python",
   "name": "python",
   "nbconvert_exporter": "python",
   "pygments_lexer": "ipython3",
   "version": "3.10.12"
  }
 },
 "nbformat": 4,
 "nbformat_minor": 2
}
