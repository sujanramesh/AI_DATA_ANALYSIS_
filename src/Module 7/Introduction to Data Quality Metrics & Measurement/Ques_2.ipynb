{
 "cells": [
  {
   "cell_type": "markdown",
   "metadata": {},
   "source": [
    "## Data Quality Framework Implementation\n",
    "\n",
    "**Description**: Implement a simple data quality measurement framework using ISO 8000 principles to assess key dimensions in a dataset."
   ]
  },
  {
   "cell_type": "code",
   "execution_count": null,
   "metadata": {},
   "outputs": [],
   "source": [
    "# Write a conceptual framework described in Python pseudo-code:"
   ]
  },
  {
   "cell_type": "code",
   "execution_count": 1,
   "metadata": {},
   "outputs": [
    {
     "name": "stdout",
     "output_type": "stream",
     "text": [
      "Completeness (%):\n",
      "ID               100.0\n",
      "Area             100.0\n",
      "City             100.0\n",
      "Restaurant       100.0\n",
      "Price            100.0\n",
      "Avg ratings      100.0\n",
      "Total ratings    100.0\n",
      "Food type        100.0\n",
      "Address          100.0\n",
      "Delivery time    100.0\n",
      "dtype: float64\n",
      "\n",
      "Uniqueness (%):\n",
      "100.0\n",
      "\n"
     ]
    }
   ],
   "source": [
    "import pandas as pd\n",
    "\n",
    "# Load dataset\n",
    "df = pd.read_csv(\"swiggy.csv\")\n",
    "\n",
    "# Initialize results dictionary\n",
    "data_quality_report = {}\n",
    "\n",
    "# Completeness: % of non-null values\n",
    "completeness = df.notnull().mean() * 100\n",
    "data_quality_report['Completeness (%)'] = completeness.round(2)\n",
    "\n",
    "# Uniqueness: % of unique rows\n",
    "uniqueness = (len(df.drop_duplicates()) / len(df)) * 100\n",
    "data_quality_report['Uniqueness (%)'] = uniqueness\n",
    "\n",
    "# Accuracy: Check for known constraints (example: rating between 1 and 5)\n",
    "# You can adjust these based on your data schema\n",
    "if 'rating' in df.columns:\n",
    "    accuracy = ((df['rating'] >= 1) & (df['rating'] <= 5)).mean() * 100\n",
    "    data_quality_report['Accuracy (rating between 1-5) (%)'] = round(accuracy, 2)\n",
    "\n",
    "# Consistency: Example - check if 'price' is consistent with 'discounted_price'\n",
    "if 'price' in df.columns and 'discounted_price' in df.columns:\n",
    "    consistency = (df['discounted_price'] <= df['price']).mean() * 100\n",
    "    data_quality_report['Consistency (discounted <= price) (%)'] = round(consistency, 2)\n",
    "\n",
    "# Timeliness: Example - check if 'last_updated' is within last 30 days\n",
    "import datetime\n",
    "if 'last_updated' in df.columns:\n",
    "    df['last_updated'] = pd.to_datetime(df['last_updated'], errors='coerce')\n",
    "    recent_cutoff = pd.Timestamp.now() - pd.Timedelta(days=30)\n",
    "    timeliness = (df['last_updated'] >= recent_cutoff).mean() * 100\n",
    "    data_quality_report['Timeliness (last 30 days) (%)'] = round(timeliness, 2)\n",
    "\n",
    "# Display results\n",
    "for metric, value in data_quality_report.items():\n",
    "    print(f\"{metric}:\\n{value}\\n\")\n"
   ]
  }
 ],
 "metadata": {
  "kernelspec": {
   "display_name": "Python 3",
   "language": "python",
   "name": "python3"
  },
  "language_info": {
   "codemirror_mode": {
    "name": "ipython",
    "version": 3
   },
   "file_extension": ".py",
   "mimetype": "text/x-python",
   "name": "python",
   "nbconvert_exporter": "python",
   "pygments_lexer": "ipython3",
   "version": "3.10.12"
  }
 },
 "nbformat": 4,
 "nbformat_minor": 2
}
