{
 "cells": [
  {
   "cell_type": "code",
   "execution_count": null,
   "metadata": {},
   "outputs": [],
   "source": [
    "# Feature Scaling & Encoding\n",
    "\n",
    "# Objective: Learn to scale numerical features and encode categorical features for better model performance.\n",
    "# Instructions:\n",
    "# For each example, perform the following steps:\n",
    "#     1. Load the Dataset: Load the dataset into your environment.\n",
    "#     2. Feature Scaling: Apply scaling methods (StandardScaler or MinMaxScaler) to specified numerical columns.\n",
    "#     3. Feature Encoding: Apply encoding methods (One-Hot Encoding or Label Encoding) to specified categorical columns.\n",
    "#     4. Verify Changes: Check the data to ensure proper scaling and encoding. \n",
    "\n",
    "\n",
    "# Task:\n",
    "#   Dataset: car_features.csv (get it by your own it includes the columns of Mileage , Horsepower)\n",
    "    # Columns to scale: Mileage , Horsepower\n",
    "    # Column to encode: Fuel_Type\n",
    "    # Steps:\n",
    "    #     1. Load car_features.csv .\n",
    "    #     2. Scale Mileage and Horsepower using StandardScaler.\n",
    "    #     3. Encode Fuel_Type using Label Encoding.\n",
    "    #     4. Confirm scaling and encoding by checking these columns.\n",
    "\n",
    "\n",
    "\n",
    "    \n",
    "    \n",
    "    "
   ]
  },
  {
   "cell_type": "code",
   "execution_count": 1,
   "metadata": {},
   "outputs": [
    {
     "name": "stdout",
     "output_type": "stream",
     "text": [
      "Original DataFrame:\n",
      "    Mileage  Horsepower Fuel_Type\n",
      "0       15         100    Petrol\n",
      "1       18         120    Diesel\n",
      "2       22         150    Petrol\n",
      "3       30         200    Diesel\n",
      "4       25         180       CNG\n",
      "\n",
      "After Scaling:\n",
      "     Mileage  Horsepower\n",
      "0 -1.332427   -1.355815\n",
      "1 -0.761387   -0.813489\n",
      "2  0.000000    0.000000\n",
      "3  1.522774    1.355815\n",
      "4  0.571040    0.813489\n",
      "\n",
      "After Encoding:\n",
      " 0    2\n",
      "1    1\n",
      "2    2\n",
      "3    1\n",
      "4    0\n",
      "Name: Fuel_Type, dtype: int64\n",
      "\n",
      "Transformed DataFrame:\n",
      "     Mileage  Horsepower  Fuel_Type\n",
      "0 -1.332427   -1.355815          2\n",
      "1 -0.761387   -0.813489          1\n",
      "2  0.000000    0.000000          2\n",
      "3  1.522774    1.355815          1\n",
      "4  0.571040    0.813489          0\n"
     ]
    }
   ],
   "source": [
    "import pandas as pd\n",
    "from sklearn.preprocessing import StandardScaler, LabelEncoder\n",
    "\n",
    "# 🔹 Step 1: Simulate a dataset\n",
    "data = {\n",
    "    'Mileage': [15, 18, 22, 30, 25],\n",
    "    'Horsepower': [100, 120, 150, 200, 180],\n",
    "    'Fuel_Type': ['Petrol', 'Diesel', 'Petrol', 'Diesel', 'CNG']\n",
    "}\n",
    "\n",
    "df = pd.DataFrame(data)\n",
    "print(\"Original DataFrame:\\n\", df)\n",
    "\n",
    "# 🔹 Step 2: Scale Mileage and Horsepower using StandardScaler\n",
    "scaler = StandardScaler()\n",
    "df[['Mileage', 'Horsepower']] = scaler.fit_transform(df[['Mileage', 'Horsepower']])\n",
    "print(\"\\nAfter Scaling:\\n\", df[['Mileage', 'Horsepower']])\n",
    "\n",
    "# 🔹 Step 3: Encode Fuel_Type using LabelEncoder\n",
    "encoder = LabelEncoder()\n",
    "df['Fuel_Type'] = encoder.fit_transform(df['Fuel_Type'])\n",
    "print(\"\\nAfter Encoding:\\n\", df['Fuel_Type'])\n",
    "\n",
    "# 🔹 Step 4: Confirm the final DataFrame\n",
    "print(\"\\nTransformed DataFrame:\\n\", df)\n"
   ]
  }
 ],
 "metadata": {
  "kernelspec": {
   "display_name": "Python 3",
   "language": "python",
   "name": "python3"
  },
  "language_info": {
   "codemirror_mode": {
    "name": "ipython",
    "version": 3
   },
   "file_extension": ".py",
   "mimetype": "text/x-python",
   "name": "python",
   "nbconvert_exporter": "python",
   "pygments_lexer": "ipython3",
   "version": "3.10.12"
  }
 },
 "nbformat": 4,
 "nbformat_minor": 2
}
