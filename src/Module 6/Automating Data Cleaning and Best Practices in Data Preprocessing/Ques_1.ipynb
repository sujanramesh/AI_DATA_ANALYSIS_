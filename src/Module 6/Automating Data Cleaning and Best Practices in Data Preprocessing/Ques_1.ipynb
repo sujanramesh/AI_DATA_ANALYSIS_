{
 "cells": [
  {
   "cell_type": "markdown",
   "metadata": {},
   "source": [
    "## Automating Data Cleaning in Python"
   ]
  },
  {
   "cell_type": "markdown",
   "metadata": {
    "vscode": {
     "languageId": "plaintext"
    }
   },
   "source": [
    "    Task: Basic Pipeline with Scaling\n",
    "1. Objective: Create a pipeline that scales numerical features in a dataset.\n",
    "2. Steps:\n",
    "    - Load a sample dataset with Pandas.\n",
    "    - Define a pipeline using Pipeline from sklearn.pipeline .\n",
    "    - Use StandardScaler to scale features."
   ]
  },
  {
   "cell_type": "code",
   "execution_count": null,
   "metadata": {},
   "outputs": [],
   "source": [
    "# Write your code from here\n"
   ]
  },
  {
   "cell_type": "code",
   "execution_count": 1,
   "metadata": {},
   "outputs": [
    {
     "name": "stdout",
     "output_type": "stream",
     "text": [
      "        bmi        bp\n",
      "0  1.297088  0.459841\n",
      "1 -1.082180 -0.553505\n",
      "2  0.934533 -0.119214\n",
      "3 -0.243771 -0.770650\n",
      "4 -0.764944  0.459841\n"
     ]
    }
   ],
   "source": [
    "import pandas as pd\n",
    "from sklearn.pipeline import Pipeline\n",
    "from sklearn.preprocessing import StandardScaler\n",
    "from sklearn.datasets import load_diabetes  # Sample dataset for demo\n",
    "\n",
    "# Step 1: Load a sample dataset\n",
    "data = load_diabetes()\n",
    "df = pd.DataFrame(data.data, columns=data.feature_names)\n",
    "\n",
    "# For demonstration, we'll scale just a few numerical columns\n",
    "features_to_scale = ['bmi', 'bp']  # You can change this based on your dataset\n",
    "\n",
    "# Step 2: Define a pipeline\n",
    "pipeline = Pipeline([\n",
    "    ('scaler', StandardScaler())\n",
    "])\n",
    "\n",
    "# Step 3: Apply the pipeline to scale features\n",
    "df[features_to_scale] = pipeline.fit_transform(df[features_to_scale])\n",
    "\n",
    "# Verify the scaled values\n",
    "print(df[features_to_scale].head())\n"
   ]
  },
  {
   "cell_type": "markdown",
   "metadata": {},
   "source": [
    "    Task: Pipeline with Imputation\n",
    "1. Objective: Automate data cleaning by handling missing values.\n",
    "2. Steps:\n",
    "    - Load a dataset with missing values.\n",
    "    - Define a pipeline to use SimpleImputer for filling missing values."
   ]
  },
  {
   "cell_type": "code",
   "execution_count": null,
   "metadata": {},
   "outputs": [],
   "source": [
    "# Write your code from here"
   ]
  },
  {
   "cell_type": "code",
   "execution_count": 2,
   "metadata": {},
   "outputs": [
    {
     "name": "stdout",
     "output_type": "stream",
     "text": [
      "     age        salary\n",
      "0  25.00  50000.000000\n",
      "1  30.00  56666.666667\n",
      "2  29.25  62000.000000\n",
      "3  40.00  58000.000000\n",
      "4  22.00  56666.666667\n"
     ]
    }
   ],
   "source": [
    "import numpy as np\n",
    "from sklearn.impute import SimpleImputer\n",
    "\n",
    "# Step 1: Create a dummy dataset with missing values\n",
    "data = {\n",
    "    'age': [25, 30, np.nan, 40, 22],\n",
    "    'salary': [50000, np.nan, 62000, 58000, np.nan]\n",
    "}\n",
    "df_missing = pd.DataFrame(data)\n",
    "\n",
    "# Step 2: Define a pipeline for imputation\n",
    "impute_pipeline = Pipeline([\n",
    "    ('imputer', SimpleImputer(strategy='mean'))\n",
    "])\n",
    "\n",
    "# Step 3: Apply the pipeline\n",
    "df_missing[['age', 'salary']] = impute_pipeline.fit_transform(df_missing[['age', 'salary']])\n",
    "\n",
    "# Verify imputed values\n",
    "print(df_missing)\n"
   ]
  }
 ],
 "metadata": {
  "kernelspec": {
   "display_name": "Python 3",
   "language": "python",
   "name": "python3"
  },
  "language_info": {
   "codemirror_mode": {
    "name": "ipython",
    "version": 3
   },
   "file_extension": ".py",
   "mimetype": "text/x-python",
   "name": "python",
   "nbconvert_exporter": "python",
   "pygments_lexer": "ipython3",
   "version": "3.10.12"
  }
 },
 "nbformat": 4,
 "nbformat_minor": 2
}
