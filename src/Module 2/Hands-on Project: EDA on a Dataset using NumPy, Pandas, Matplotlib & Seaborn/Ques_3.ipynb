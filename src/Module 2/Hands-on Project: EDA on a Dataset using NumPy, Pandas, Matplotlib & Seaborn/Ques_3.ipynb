{
 "cells": [
  {
   "cell_type": "code",
   "execution_count": null,
   "metadata": {},
   "outputs": [],
   "source": [
    "# Title: Data Manipulation with Pandas\n",
    "# Description: Add a new column that calculates the ratio of petal length to petal width."
   ]
  },
  {
   "cell_type": "code",
   "execution_count": 1,
   "metadata": {},
   "outputs": [
    {
     "name": "stdout",
     "output_type": "stream",
     "text": [
      "Original DataFrame:\n",
      "    sepal length (cm)  sepal width (cm)  petal length (cm)  petal width (cm)\n",
      "0                5.1               3.5                1.4               0.2\n",
      "1                4.9               3.0                1.4               0.2\n",
      "2                4.7               3.2                1.3               0.2\n",
      "3                4.6               3.1                1.5               0.2\n",
      "4                5.0               3.6                1.4               0.2\n",
      "\n",
      "DataFrame with Petal Ratio:\n",
      "    sepal length (cm)  sepal width (cm)  petal length (cm)  petal width (cm)  \\\n",
      "0                5.1               3.5                1.4               0.2   \n",
      "1                4.9               3.0                1.4               0.2   \n",
      "2                4.7               3.2                1.3               0.2   \n",
      "3                4.6               3.1                1.5               0.2   \n",
      "4                5.0               3.6                1.4               0.2   \n",
      "\n",
      "   petal ratio  \n",
      "0          7.0  \n",
      "1          7.0  \n",
      "2          6.5  \n",
      "3          7.5  \n",
      "4          7.0  \n",
      "\n",
      "DataFrame with Petal Ratio (using assign):\n",
      "    sepal length (cm)  sepal width (cm)  petal length (cm)  petal width (cm)  \\\n",
      "0                5.1               3.5                1.4               0.2   \n",
      "1                4.9               3.0                1.4               0.2   \n",
      "2                4.7               3.2                1.3               0.2   \n",
      "3                4.6               3.1                1.5               0.2   \n",
      "4                5.0               3.6                1.4               0.2   \n",
      "\n",
      "   petal ratio  petal_ratio_alt  \n",
      "0          7.0              7.0  \n",
      "1          7.0              7.0  \n",
      "2          6.5              6.5  \n",
      "3          7.5              7.5  \n",
      "4          7.0              7.0  \n"
     ]
    }
   ],
   "source": [
    "import pandas as pd\n",
    "\n",
    "# Create a sample DataFrame\n",
    "data = {'sepal length (cm)': [5.1, 4.9, 4.7, 4.6, 5.0],\n",
    "        'sepal width (cm)': [3.5, 3.0, 3.2, 3.1, 3.6],\n",
    "        'petal length (cm)': [1.4, 1.4, 1.3, 1.5, 1.4],\n",
    "        'petal width (cm)': [0.2, 0.2, 0.2, 0.2, 0.2]}\n",
    "df = pd.DataFrame(data)\n",
    "print(\"Original DataFrame:\\n\", df)\n",
    "\n",
    "# Add a new column 'petal ratio' by dividing 'petal length (cm)' by 'petal width (cm)'\n",
    "df['petal ratio'] = df['petal length (cm)'] / df['petal width (cm)']\n",
    "print(\"\\nDataFrame with Petal Ratio:\\n\", df)\n",
    "\n",
    "# Alternatively, using the .assign() method\n",
    "df = df.assign(petal_ratio_alt=df['petal length (cm)'] / df['petal width (cm)'])\n",
    "print(\"\\nDataFrame with Petal Ratio (using assign):\\n\", df)"
   ]
  }
 ],
 "metadata": {
  "kernelspec": {
   "display_name": "Python 3",
   "language": "python",
   "name": "python3"
  },
  "language_info": {
   "codemirror_mode": {
    "name": "ipython",
    "version": 3
   },
   "file_extension": ".py",
   "mimetype": "text/x-python",
   "name": "python",
   "nbconvert_exporter": "python",
   "pygments_lexer": "ipython3",
   "version": "3.10.12"
  }
 },
 "nbformat": 4,
 "nbformat_minor": 2
}
