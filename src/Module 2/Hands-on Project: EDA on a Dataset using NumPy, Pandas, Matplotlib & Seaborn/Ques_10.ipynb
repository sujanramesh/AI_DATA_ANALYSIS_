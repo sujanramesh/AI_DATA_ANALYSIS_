{
 "cells": [
  {
   "cell_type": "code",
   "execution_count": 1,
   "metadata": {},
   "outputs": [
    {
     "name": "stdout",
     "output_type": "stream",
     "text": [
      "Libraries imported successfully!\n"
     ]
    }
   ],
   "source": [
    "import pandas as pd\n",
    "import numpy as np\n",
    "import matplotlib.pyplot as plt\n",
    "import seaborn as sns\n",
    "\n",
    "print(\"Libraries imported successfully!\")\n"
   ]
  },
  {
   "cell_type": "code",
   "execution_count": 2,
   "metadata": {},
   "outputs": [
    {
     "name": "stdout",
     "output_type": "stream",
     "text": [
      "Data loaded successfully!\n"
     ]
    }
   ],
   "source": [
    "import pandas as pd\n",
    "import io\n",
    "\n",
    "# Create a dummy CSV file (replace with your actual file)\n",
    "csv_data = \"\"\"\n",
    "Name,Age,City,Salary\n",
    "Alice,25,New York,50000\n",
    "Bob,30,Los Angeles,60000\n",
    "Charlie,22,Chicago,45000\n",
    "David,35,New York,70000\n",
    "Eve,28,Los Angeles,55000\n",
    "\"\"\"\n",
    "csv_file = io.StringIO(csv_data) # Treat the string as a file\n",
    "\n",
    "# Load the CSV data into a DataFrame\n",
    "df = pd.read_csv(csv_file) # Replace 'your_data.csv' with your file path\n",
    "print(\"Data loaded successfully!\")"
   ]
  },
  {
   "cell_type": "code",
   "execution_count": 3,
   "metadata": {},
   "outputs": [
    {
     "name": "stdout",
     "output_type": "stream",
     "text": [
      "\n",
      "First 5 rows:\n",
      "      Name  Age         City  Salary\n",
      "0    Alice   25     New York   50000\n",
      "1      Bob   30  Los Angeles   60000\n",
      "2  Charlie   22      Chicago   45000\n",
      "3    David   35     New York   70000\n",
      "4      Eve   28  Los Angeles   55000\n"
     ]
    }
   ],
   "source": [
    "print(\"\\nFirst 5 rows:\")\n",
    "print(df.head())"
   ]
  },
  {
   "cell_type": "code",
   "execution_count": 4,
   "metadata": {},
   "outputs": [
    {
     "name": "stdout",
     "output_type": "stream",
     "text": [
      "\n",
      "Dataset information:\n",
      "<class 'pandas.core.frame.DataFrame'>\n",
      "RangeIndex: 5 entries, 0 to 4\n",
      "Data columns (total 4 columns):\n",
      " #   Column  Non-Null Count  Dtype \n",
      "---  ------  --------------  ----- \n",
      " 0   Name    5 non-null      object\n",
      " 1   Age     5 non-null      int64 \n",
      " 2   City    5 non-null      object\n",
      " 3   Salary  5 non-null      int64 \n",
      "dtypes: int64(2), object(2)\n",
      "memory usage: 288.0+ bytes\n",
      "\n",
      "Summary statistics:\n",
      "             Age        Salary\n",
      "count   5.000000      5.000000\n",
      "mean   28.000000  56000.000000\n",
      "std     4.949747   9617.692031\n",
      "min    22.000000  45000.000000\n",
      "25%    25.000000  50000.000000\n",
      "50%    28.000000  55000.000000\n",
      "75%    30.000000  60000.000000\n",
      "max    35.000000  70000.000000\n"
     ]
    }
   ],
   "source": [
    "print(\"\\nDataset information:\")\n",
    "df.info()\n",
    "\n",
    "print(\"\\nSummary statistics:\")\n",
    "print(df.describe())"
   ]
  },
  {
   "cell_type": "code",
   "execution_count": 5,
   "metadata": {},
   "outputs": [
    {
     "name": "stdout",
     "output_type": "stream",
     "text": [
      "\n",
      "Salary data as NumPy array: [50000 60000 45000 70000 55000]\n",
      "Mean salary: 56000.0\n",
      "Sum of salaries: 280000\n"
     ]
    }
   ],
   "source": [
    "import numpy as np\n",
    "\n",
    "salary_array = df['Salary'].values  # Or df.to_numpy()[:, 3] if Salary is the 4th column\n",
    "print(\"\\nSalary data as NumPy array:\", salary_array)\n",
    "\n",
    "mean_salary = np.mean(salary_array)\n",
    "sum_salary = np.sum(salary_array)\n",
    "\n",
    "print(\"Mean salary:\", mean_salary)\n",
    "print(\"Sum of salaries:\", sum_salary)"
   ]
  },
  {
   "cell_type": "code",
   "execution_count": 6,
   "metadata": {},
   "outputs": [
    {
     "name": "stdout",
     "output_type": "stream",
     "text": [
      "\n",
      "NumPy array: [ 1  2  3  4  5  6  7  8  9 10]\n",
      "Variance: 8.25\n",
      "Standard deviation: 2.8722813232690143\n"
     ]
    }
   ],
   "source": [
    "data = np.array([1, 2, 3, 4, 5, 6, 7, 8, 9, 10])\n",
    "print(\"\\nNumPy array:\", data)\n",
    "\n",
    "variance = np.var(data)\n",
    "std_deviation = np.std(data)\n",
    "\n",
    "print(\"Variance:\", variance)\n",
    "print(\"Standard deviation:\", std_deviation)"
   ]
  },
  {
   "cell_type": "code",
   "execution_count": 7,
   "metadata": {},
   "outputs": [
    {
     "name": "stdout",
     "output_type": "stream",
     "text": [
      "\n",
      "Filtered data (values greater than 5): [ 6  7  8  9 10]\n"
     ]
    }
   ],
   "source": [
    "filtered_data = data[data > 5]\n",
    "print(\"\\nFiltered data (values greater than 5):\", filtered_data)"
   ]
  },
  {
   "cell_type": "code",
   "execution_count": 8,
   "metadata": {},
   "outputs": [
    {
     "name": "stdout",
     "output_type": "stream",
     "text": [
      "\n",
      "Original DataFrame with missing values:\n",
      "      Name   Age         City   Salary\n",
      "0    Alice  25.0     New York  50000.0\n",
      "1      Bob  30.0  Los Angeles  60000.0\n",
      "2  Charlie  22.0      Chicago      NaN\n",
      "3    David  35.0     New York  70000.0\n",
      "4      Eve   NaN  Los Angeles  55000.0\n",
      "\n",
      "Missing values per column:\n",
      "Name      0\n",
      "Age       1\n",
      "City      0\n",
      "Salary    1\n",
      "dtype: int64\n",
      "\n",
      "DataFrame after filling missing Salary values:\n",
      "      Name   Age         City   Salary\n",
      "0    Alice  25.0     New York  50000.0\n",
      "1      Bob  30.0  Los Angeles  60000.0\n",
      "2  Charlie  22.0      Chicago  58750.0\n",
      "3    David  35.0     New York  70000.0\n",
      "4      Eve   NaN  Los Angeles  55000.0\n",
      "\n",
      "DataFrame after dropping rows with missing values:\n",
      "      Name   Age         City   Salary\n",
      "0    Alice  25.0     New York  50000.0\n",
      "1      Bob  30.0  Los Angeles  60000.0\n",
      "2  Charlie  22.0      Chicago  58750.0\n",
      "3    David  35.0     New York  70000.0\n"
     ]
    }
   ],
   "source": [
    "# Add some missing data for demonstration\n",
    "df.loc[2, 'Salary'] = None\n",
    "df.loc[4, 'Age'] = None\n",
    "print(\"\\nOriginal DataFrame with missing values:\")\n",
    "print(df)\n",
    "\n",
    "\n",
    "print(\"\\nMissing values per column:\")\n",
    "print(df.isnull().sum())\n",
    "\n",
    "# Fill missing 'Salary' with the mean\n",
    "df['Salary'] = df['Salary'].fillna(df['Salary'].mean())\n",
    "print(\"\\nDataFrame after filling missing Salary values:\")\n",
    "print(df)\n",
    "\n",
    "# Drop rows with any missing values\n",
    "df_dropped = df.dropna()\n",
    "print(\"\\nDataFrame after dropping rows with missing values:\")\n",
    "print(df_dropped)"
   ]
  },
  {
   "cell_type": "code",
   "execution_count": 9,
   "metadata": {},
   "outputs": [
    {
     "name": "stdout",
     "output_type": "stream",
     "text": [
      "\n",
      "DataFrame with new 'SalaryIncrease' column and updated salary:\n",
      "      Name   Age         City   Salary  SalaryIncrease\n",
      "0    Alice  25.0     New York  55000.0          5000.0\n",
      "1      Bob  30.0  Los Angeles  66000.0          6000.0\n",
      "2  Charlie  22.0      Chicago  64625.0          5875.0\n",
      "3    David  35.0     New York  77000.0          7000.0\n",
      "4      Eve   NaN  Los Angeles  60500.0          5500.0\n",
      "\n",
      "DataFrame with 'AgeCategory':\n",
      "      Name   Age         City   Salary  SalaryIncrease AgeCategory\n",
      "0    Alice  25.0     New York  55000.0          5000.0       Young\n",
      "1      Bob  30.0  Los Angeles  66000.0          6000.0       Adult\n",
      "2  Charlie  22.0      Chicago  64625.0          5875.0       Young\n",
      "3    David  35.0     New York  77000.0          7000.0       Adult\n",
      "4      Eve   NaN  Los Angeles  60500.0          5500.0         NaN\n"
     ]
    }
   ],
   "source": [
    "# Create a new column 'SalaryIncrease' (10% increase)\n",
    "df['SalaryIncrease'] = df['Salary'] * 0.1\n",
    "df['Salary'] = df['Salary'] + df['SalaryIncrease']\n",
    "print(\"\\nDataFrame with new 'SalaryIncrease' column and updated salary:\")\n",
    "print(df)\n",
    "\n",
    "# Create a new column 'AgeCategory'\n",
    "df['AgeCategory'] = pd.cut(df['Age'], bins=[0, 25, 35, 100], labels=['Young', 'Adult', 'Senior'])\n",
    "print(\"\\nDataFrame with 'AgeCategory':\")\n",
    "print(df)\n"
   ]
  },
  {
   "cell_type": "code",
   "execution_count": 10,
   "metadata": {},
   "outputs": [
    {
     "name": "stdout",
     "output_type": "stream",
     "text": [
      "\n",
      "Mean salary by city:\n",
      "City\n",
      "Chicago        64625.0\n",
      "Los Angeles    63250.0\n",
      "New York       66000.0\n",
      "Name: Salary, dtype: float64\n",
      "\n",
      "Number of people in each city:\n",
      "City\n",
      "Chicago        1\n",
      "Los Angeles    2\n",
      "New York       2\n",
      "Name: Name, dtype: int64\n",
      "\n",
      "Mean salary by Age category:\n",
      "AgeCategory\n",
      "Young     59812.5\n",
      "Adult     71500.0\n",
      "Senior        NaN\n",
      "Name: Salary, dtype: float64\n"
     ]
    },
    {
     "name": "stderr",
     "output_type": "stream",
     "text": [
      "/tmp/ipykernel_4735/1743025579.py:12: FutureWarning: The default of observed=False is deprecated and will be changed to True in a future version of pandas. Pass observed=False to retain current behavior or observed=True to adopt the future default and silence this warning.\n",
      "  mean_salary_by_age_category = df.groupby('AgeCategory')['Salary'].mean()\n"
     ]
    }
   ],
   "source": [
    "# Group by 'City' and calculate the mean salary\n",
    "mean_salary_by_city = df.groupby('City')['Salary'].mean()\n",
    "print(\"\\nMean salary by city:\")\n",
    "print(mean_salary_by_city)\n",
    "\n",
    "# Group by 'City' and count the number of people\n",
    "city_counts = df.groupby('City')['Name'].count()\n",
    "print(\"\\nNumber of people in each city:\")\n",
    "print(city_counts)\n",
    "\n",
    " # Group by 'AgeCategory' and calculate the mean salary\n",
    "mean_salary_by_age_category = df.groupby('AgeCategory')['Salary'].mean()\n",
    "print(\"\\nMean salary by Age category:\")\n",
    "print(mean_salary_by_age_category)\n"
   ]
  },
  {
   "cell_type": "code",
   "execution_count": 11,
   "metadata": {},
   "outputs": [
    {
     "data": {
      "image/png": "[encoded data removed]",
      "text/plain": [
       "<Figure size 640x480 with 1 Axes>"
      ]
     },
     "metadata": {},
     "output_type": "display_data"
    }
   ],
   "source": [
    "import matplotlib.pyplot as plt\n",
    "\n",
    "plt.plot(df['Age'], df['Salary'])\n",
    "plt.title('Age vs Salary')\n",
    "plt.xlabel('Age')\n",
    "plt.ylabel('Salary')\n",
    "plt.show()"
   ]
  },
  {
   "cell_type": "code",
   "execution_count": 12,
   "metadata": {},
   "outputs": [
    {
     "data": {
      "image/png": "[encoded data removed]",
      "text/plain": [
       "<Figure size 640x480 with 1 Axes>"
      ]
     },
     "metadata": {},
     "output_type": "display_data"
    }
   ],
   "source": [
    "import seaborn as sns\n",
    "import matplotlib.pyplot as plt  # Import Matplotlib if you haven't already\n",
    "\n",
    "sns.histplot(df['Age'], bins=5)  # Adjust the number of bins as needed\n",
    "plt.title('Age Distribution')\n",
    "plt.xlabel('Age')\n",
    "plt.ylabel('Frequency')\n",
    "plt.show()\n"
   ]
  },
  {
   "cell_type": "code",
   "execution_count": 13,
   "metadata": {},
   "outputs": [
    {
     "data": {
      "image/png": "[encoded data removed]",
      "text/plain": [
       "<Figure size 640x480 with 1 Axes>"
      ]
     },
     "metadata": {},
     "output_type": "display_data"
    }
   ],
   "source": [
    "import seaborn as sns\n",
    "import matplotlib.pyplot as plt\n",
    "\n",
    "sns.boxplot(x='City', y='Salary', data=df)\n",
    "plt.title('Salary Distribution by City')\n",
    "plt.xlabel('City')\n",
    "plt.ylabel('Salary')\n",
    "plt.show()\n"
   ]
  }
 ],
 "metadata": {
  "kernelspec": {
   "display_name": "Python 3",
   "language": "python",
   "name": "python3"
  },
  "language_info": {
   "codemirror_mode": {
    "name": "ipython",
    "version": 3
   },
   "file_extension": ".py",
   "mimetype": "text/x-python",
   "name": "python",
   "nbconvert_exporter": "python",
   "pygments_lexer": "ipython3",
   "version": "3.10.12"
  }
 },
 "nbformat": 4,
 "nbformat_minor": 2
}
