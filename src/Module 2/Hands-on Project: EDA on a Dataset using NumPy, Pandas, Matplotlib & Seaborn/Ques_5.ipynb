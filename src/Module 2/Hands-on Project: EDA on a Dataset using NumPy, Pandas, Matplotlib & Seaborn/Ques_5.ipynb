{
 "cells": [
  {
   "cell_type": "code",
   "execution_count": null,
   "metadata": {},
   "outputs": [],
   "source": [
    "# Title: Data Cleaning using Pandas\n",
    "# Description: Check for missing values and handle them by imputing the median."
   ]
  },
  {
   "cell_type": "code",
   "execution_count": 1,
   "metadata": {},
   "outputs": [
    {
     "name": "stdout",
     "output_type": "stream",
     "text": [
      "Original DataFrame with Missing Values:\n",
      "      A     B     C\n",
      "0   1.0  11.0  21.0\n",
      "1   2.0  12.0  22.0\n",
      "2   NaN  13.0  23.0\n",
      "3   4.0  14.0  24.0\n",
      "4   5.0   NaN  25.0\n",
      "5   6.0  16.0  26.0\n",
      "6   7.0  17.0  27.0\n",
      "7   8.0  18.0  28.0\n",
      "8   9.0  19.0  29.0\n",
      "9  10.0  20.0   NaN\n",
      "\n",
      "Missing values per column:\n",
      "A    1\n",
      "B    1\n",
      "C    1\n",
      "dtype: int64\n",
      "\n",
      "DataFrame after imputing missing values with the median:\n",
      "      A     B     C\n",
      "0   1.0  11.0  21.0\n",
      "1   2.0  12.0  22.0\n",
      "2   6.0  13.0  23.0\n",
      "3   4.0  14.0  24.0\n",
      "4   5.0  16.0  25.0\n",
      "5   6.0  16.0  26.0\n",
      "6   7.0  17.0  27.0\n",
      "7   8.0  18.0  28.0\n",
      "8   9.0  19.0  29.0\n",
      "9  10.0  20.0  25.0\n",
      "\n",
      "Missing values per column after imputation:\n",
      "A    0\n",
      "B    0\n",
      "C    0\n",
      "dtype: int64\n"
     ]
    },
    {
     "name": "stderr",
     "output_type": "stream",
     "text": [
      "/tmp/ipykernel_47367/1171146607.py:20: FutureWarning: A value is trying to be set on a copy of a DataFrame or Series through chained assignment using an inplace method.\n",
      "The behavior will change in pandas 3.0. This inplace method will never work because the intermediate object on which we are setting values always behaves as a copy.\n",
      "\n",
      "For example, when doing 'df[col].method(value, inplace=True)', try using 'df.method({col: value}, inplace=True)' or df[col] = df[col].method(value) instead, to perform the operation inplace on the original object.\n",
      "\n",
      "\n",
      "  df[column].fillna(median_val, inplace=True)\n",
      "/tmp/ipykernel_47367/1171146607.py:20: FutureWarning: A value is trying to be set on a copy of a DataFrame or Series through chained assignment using an inplace method.\n",
      "The behavior will change in pandas 3.0. This inplace method will never work because the intermediate object on which we are setting values always behaves as a copy.\n",
      "\n",
      "For example, when doing 'df[col].method(value, inplace=True)', try using 'df.method({col: value}, inplace=True)' or df[col] = df[col].method(value) instead, to perform the operation inplace on the original object.\n",
      "\n",
      "\n",
      "  df[column].fillna(median_val, inplace=True)\n",
      "/tmp/ipykernel_47367/1171146607.py:20: FutureWarning: A value is trying to be set on a copy of a DataFrame or Series through chained assignment using an inplace method.\n",
      "The behavior will change in pandas 3.0. This inplace method will never work because the intermediate object on which we are setting values always behaves as a copy.\n",
      "\n",
      "For example, when doing 'df[col].method(value, inplace=True)', try using 'df.method({col: value}, inplace=True)' or df[col] = df[col].method(value) instead, to perform the operation inplace on the original object.\n",
      "\n",
      "\n",
      "  df[column].fillna(median_val, inplace=True)\n"
     ]
    }
   ],
   "source": [
    "import pandas as pd\n",
    "import numpy as np\n",
    "\n",
    "# Create a sample DataFrame with missing values\n",
    "data = {'A': [1, 2, np.nan, 4, 5, 6, 7, 8, 9, 10],\n",
    "        'B': [11, 12, 13, 14, np.nan, 16, 17, 18, 19, 20],\n",
    "        'C': [21, 22, 23, 24, 25, 26, 27, 28, 29, np.nan]}\n",
    "df = pd.DataFrame(data)\n",
    "\n",
    "# Check for missing values\n",
    "print(\"Original DataFrame with Missing Values:\")\n",
    "print(df)\n",
    "\n",
    "print(\"\\nMissing values per column:\")\n",
    "print(df.isnull().sum())\n",
    "\n",
    "# Handle missing values by imputing the median\n",
    "for column in df.columns:\n",
    "    median_val = df[column].median()\n",
    "    df[column].fillna(median_val, inplace=True)\n",
    "\n",
    "# Verify that there are no more missing values\n",
    "print(\"\\nDataFrame after imputing missing values with the median:\")\n",
    "print(df)\n",
    "\n",
    "print(\"\\nMissing values per column after imputation:\")\n",
    "print(df.isnull().sum())\n"
   ]
  }
 ],
 "metadata": {
  "kernelspec": {
   "display_name": "Python 3",
   "language": "python",
   "name": "python3"
  },
  "language_info": {
   "codemirror_mode": {
    "name": "ipython",
    "version": 3
   },
   "file_extension": ".py",
   "mimetype": "text/x-python",
   "name": "python",
   "nbconvert_exporter": "python",
   "pygments_lexer": "ipython3",
   "version": "3.10.12"
  }
 },
 "nbformat": 4,
 "nbformat_minor": 2
}
