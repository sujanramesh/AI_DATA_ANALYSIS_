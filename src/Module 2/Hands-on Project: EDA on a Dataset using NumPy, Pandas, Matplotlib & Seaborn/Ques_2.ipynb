{
 "cells": [
  {
   "cell_type": "code",
   "execution_count": null,
   "metadata": {},
   "outputs": [],
   "source": [
    "# Title: Basic NumPy Operations\n",
    "# Description: Perform basic operations such as calculating the mean of the dataset."
   ]
  },
  {
   "cell_type": "code",
   "execution_count": 1,
   "metadata": {},
   "outputs": [
    {
     "name": "stdout",
     "output_type": "stream",
     "text": [
      "1D Array:\n",
      " [1 2 3 4 5]\n",
      "\n",
      "The mean of the 1D array is: 3.0\n",
      "\n",
      "2D Array:\n",
      " [[1 2 3]\n",
      " [4 5 6]]\n",
      "Mean of all elements in the 2D array: 3.5\n",
      "Mean along columns (axis=0): [2.5 3.5 4.5]\n",
      "Mean along rows (axis=1): [2. 5.]\n"
     ]
    }
   ],
   "source": [
    "import numpy as np\n",
    "\n",
    "# Create a 1D NumPy array (dataset)\n",
    "data = np.array([1, 2, 3, 4, 5])\n",
    "print(\"1D Array:\\n\", data)\n",
    "\n",
    "# Calculate the mean of the 1D array\n",
    "mean_value = np.mean(data)\n",
    "print(f\"\\nThe mean of the 1D array is: {mean_value}\")\n",
    "\n",
    "# Create a 2D NumPy array (matrix)\n",
    "matrix_data = np.array([[1, 2, 3],\n",
    "                        [4, 5, 6]])\n",
    "print(\"\\n2D Array:\\n\", matrix_data)\n",
    "\n",
    "# Calculate the mean of all elements in the 2D array\n",
    "mean_all = np.mean(matrix_data)\n",
    "print(f\"Mean of all elements in the 2D array: {mean_all}\")\n",
    "\n",
    "# Calculate the mean along each column (axis=0) of the 2D array\n",
    "mean_columns = np.mean(matrix_data, axis=0)\n",
    "print(f\"Mean along columns (axis=0): {mean_columns}\")\n",
    "\n",
    "# Calculate the mean along each row (axis=1) of the 2D array\n",
    "mean_rows = np.mean(matrix_data, axis=1)\n",
    "print(f\"Mean along rows (axis=1): {mean_rows}\")"
   ]
  }
 ],
 "metadata": {
  "kernelspec": {
   "display_name": "Python 3",
   "language": "python",
   "name": "python3"
  },
  "language_info": {
   "codemirror_mode": {
    "name": "ipython",
    "version": 3
   },
   "file_extension": ".py",
   "mimetype": "text/x-python",
   "name": "python",
   "nbconvert_exporter": "python",
   "pygments_lexer": "ipython3",
   "version": "3.10.12"
  }
 },
 "nbformat": 4,
 "nbformat_minor": 2
}
