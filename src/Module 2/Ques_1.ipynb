{
 "cells": [
  {
   "cell_type": "code",
   "execution_count": 1,
   "metadata": {},
   "outputs": [],
   "source": [
    "# Getting Started with Pandas\n",
    "# Objective: Introduce students to using Pandas for data analysis by loading data into Pandas\n",
    "# DataFrames.\n",
    "\n",
    "# Question 1: Importing Pandas and Loading a CSV File\n",
    "# 1. Open your Jupyter Notebook or a Python environment.\n",
    "# 2. Import the pandas library.\n",
    "# 3. Load a CSV file into a DataFrame.\n",
    "\n",
    "\n",
    "\n",
    "\n",
    "# Question 2: Displaying the First Few Rows\n",
    "# 4. Use the head() method to display the first five rows of the DataFrame.\n",
    "\n",
    "\n",
    "\n",
    "\n",
    "\n",
    "# Question 3: Basic Data Information\n",
    "# 5. Use the info() method to get a concise summary of the DataFrame.\n",
    "\n",
    "\n",
    "\n",
    "\n"
   ]
  },
  {
   "cell_type": "code",
   "execution_count": 3,
   "metadata": {},
   "outputs": [],
   "source": [
    "# Import the pandas library\n",
    "import pandas as pd\n",
    "\n",
    "# Load a CSV file into a DataFrame\n",
    "# Replace 'your_file.csv' with the actual path to your CSV file\n",
    "df = pd.read_csv('student_scores.csv')\n",
    "\n",
    "# Now 'df' is a Pandas DataFrame containing the data from your CSV file!"
   ]
  },
  {
   "cell_type": "code",
   "execution_count": 4,
   "metadata": {},
   "outputs": [
    {
     "name": "stdout",
     "output_type": "stream",
     "text": [
      "   Unnamed: 0  Gender EthnicGroup          ParentEduc     LunchType TestPrep  \\\n",
      "0           0  female         NaN   bachelor's degree      standard     none   \n",
      "1           1  female     group C        some college      standard      NaN   \n",
      "2           2  female     group B     master's degree      standard     none   \n",
      "3           3    male     group A  associate's degree  free/reduced     none   \n",
      "4           4    male     group C        some college      standard     none   \n",
      "\n",
      "  ParentMaritalStatus PracticeSport IsFirstChild  NrSiblings TransportMeans  \\\n",
      "0             married     regularly          yes         3.0     school_bus   \n",
      "1             married     sometimes          yes         0.0            NaN   \n",
      "2              single     sometimes          yes         4.0     school_bus   \n",
      "3             married         never           no         1.0            NaN   \n",
      "4             married     sometimes          yes         0.0     school_bus   \n",
      "\n",
      "  WklyStudyHours  MathScore  ReadingScore  WritingScore  \n",
      "0            < 5         71            71            74  \n",
      "1         5 - 10         69            90            88  \n",
      "2            < 5         87            93            91  \n",
      "3         5 - 10         45            56            42  \n",
      "4         5 - 10         76            78            75  \n"
     ]
    }
   ],
   "source": [
    "# Use the head() method to display the first five rows\n",
    "print(df.head())\n",
    "\n",
    "# You can also specify a different number of rows to display, like the first 10:\n",
    "# print(df.head(10))"
   ]
  },
  {
   "cell_type": "code",
   "execution_count": 5,
   "metadata": {},
   "outputs": [
    {
     "name": "stdout",
     "output_type": "stream",
     "text": [
      "<class 'pandas.core.frame.DataFrame'>\n",
      "RangeIndex: 30641 entries, 0 to 30640\n",
      "Data columns (total 15 columns):\n",
      " #   Column               Non-Null Count  Dtype  \n",
      "---  ------               --------------  -----  \n",
      " 0   Unnamed: 0           30641 non-null  int64  \n",
      " 1   Gender               30641 non-null  object \n",
      " 2   EthnicGroup          28801 non-null  object \n",
      " 3   ParentEduc           28796 non-null  object \n",
      " 4   LunchType            30641 non-null  object \n",
      " 5   TestPrep             28811 non-null  object \n",
      " 6   ParentMaritalStatus  29451 non-null  object \n",
      " 7   PracticeSport        30010 non-null  object \n",
      " 8   IsFirstChild         29737 non-null  object \n",
      " 9   NrSiblings           29069 non-null  float64\n",
      " 10  TransportMeans       27507 non-null  object \n",
      " 11  WklyStudyHours       29686 non-null  object \n",
      " 12  MathScore            30641 non-null  int64  \n",
      " 13  ReadingScore         30641 non-null  int64  \n",
      " 14  WritingScore         30641 non-null  int64  \n",
      "dtypes: float64(1), int64(4), object(10)\n",
      "memory usage: 3.5+ MB\n"
     ]
    }
   ],
   "source": [
    "# Use the info() method to get a concise summary of the DataFrame\n",
    "df.info()\n",
    "\n",
    "# This will show you the number of rows, columns, data types of each column,\n",
    "# and the memory usage of the DataFrame. It's a great way to get a quick\n",
    "# overview of your data."
   ]
  },
  {
   "cell_type": "code",
   "execution_count": null,
   "metadata": {},
   "outputs": [],
   "source": [
    "# Data Inspection & Selection\n",
    "# Objective: Learn how to inspect data and select specific data points.\n",
    "\n",
    "# Question 1: Inspecting Column Data Types\n",
    "# 6. Use the dtypes attribute to inspect the data types of each column.\n",
    "\n",
    "\n",
    "\n",
    "\n",
    "# Question 2: Selecting Columns\n",
    "# 7. Select a single column from the DataFrame.\n",
    "\n",
    "\n",
    "\n",
    "\n",
    "\n",
    "# Question 3: Slicing Rows\n",
    "# 8. Select specific rows using slicing.\n",
    "\n",
    "\n",
    "\n",
    "\n"
   ]
  },
  {
   "cell_type": "code",
   "execution_count": null,
   "metadata": {},
   "outputs": [],
   "source": [
    "# Data Cleaning & Manipulation\n",
    "# Objective: Practice cleaning data and manipulating DataFrames.\n",
    "\n",
    "# Question 1: Handling Missing Values\n",
    "# 9. Use the fillna() method to fill missing values with a specific value.\n",
    "\n",
    "\n",
    "\n",
    "\n",
    "# QUestion 2: Renaming Columns\n",
    "# 10. Change the names of specific columns using rename().\n",
    "\n",
    "\n",
    "\n",
    "\n",
    "# Question 3: Dropping Duplicates\n",
    "# 11. Remove duplicate rows from the DataFrame.\n",
    "\n",
    "\n",
    "\n",
    "\n",
    "\n"
   ]
  },
  {
   "cell_type": "code",
   "execution_count": 6,
   "metadata": {},
   "outputs": [
    {
     "name": "stdout",
     "output_type": "stream",
     "text": [
      "Unnamed: 0               int64\n",
      "Gender                  object\n",
      "EthnicGroup             object\n",
      "ParentEduc              object\n",
      "LunchType               object\n",
      "TestPrep                object\n",
      "ParentMaritalStatus     object\n",
      "PracticeSport           object\n",
      "IsFirstChild            object\n",
      "NrSiblings             float64\n",
      "TransportMeans          object\n",
      "WklyStudyHours          object\n",
      "MathScore                int64\n",
      "ReadingScore             int64\n",
      "WritingScore             int64\n",
      "dtype: object\n"
     ]
    }
   ],
   "source": [
    "# Assuming your DataFrame is named 'df'\n",
    "print(df.dtypes)\n",
    "\n",
    "# This will output a Series where the index is the column name\n",
    "# and the values are the data types (e.g., int64, float64, object, datetime64[ns])."
   ]
  },
  {
   "cell_type": "code",
   "execution_count": 8,
   "metadata": {},
   "outputs": [
    {
     "name": "stdout",
     "output_type": "stream",
     "text": [
      "0    female\n",
      "1    female\n",
      "2    female\n",
      "3      male\n",
      "4      male\n",
      "Name: Gender, dtype: object\n",
      "<class 'pandas.core.series.Series'>\n"
     ]
    }
   ],
   "source": [
    "# Select a column named 'col_name'\n",
    "single_column = df['Gender']\n",
    "print(single_column.head()) # Display the first few rows of the selected column\n",
    "print(type(single_column))   # This will show that it's a Pandas Series"
   ]
  },
  {
   "cell_type": "code",
   "execution_count": 10,
   "metadata": {},
   "outputs": [
    {
     "name": "stdout",
     "output_type": "stream",
     "text": [
      "\n",
      "First 5 rows of the 'MathScore' column:\n",
      "0    71\n",
      "1    69\n",
      "2    87\n",
      "3    45\n",
      "4    76\n",
      "Name: MathScore, dtype: int64\n",
      "\n",
      "Data type of 'MathScore' column: <class 'pandas.core.series.Series'>\n"
     ]
    }
   ],
   "source": [
    "math_score_column = df['MathScore']\n",
    "print(\"\\nFirst 5 rows of the 'MathScore' column:\")\n",
    "print(math_score_column.head())\n",
    "print(f\"\\nData type of 'MathScore' column: {type(math_score_column)}\")"
   ]
  },
  {
   "cell_type": "code",
   "execution_count": 11,
   "metadata": {},
   "outputs": [
    {
     "name": "stdout",
     "output_type": "stream",
     "text": [
      "\n",
      "First 3 rows of the DataFrame:\n",
      "   Unnamed: 0  Gender EthnicGroup         ParentEduc LunchType TestPrep  \\\n",
      "0           0  female         NaN  bachelor's degree  standard     none   \n",
      "1           1  female     group C       some college  standard      NaN   \n",
      "2           2  female     group B    master's degree  standard     none   \n",
      "\n",
      "  ParentMaritalStatus PracticeSport IsFirstChild  NrSiblings TransportMeans  \\\n",
      "0             married     regularly          yes         3.0     school_bus   \n",
      "1             married     sometimes          yes         0.0            NaN   \n",
      "2              single     sometimes          yes         4.0     school_bus   \n",
      "\n",
      "  WklyStudyHours  MathScore  ReadingScore  WritingScore  \n",
      "0            < 5         71            71            74  \n",
      "1         5 - 10         69            90            88  \n",
      "2            < 5         87            93            91  \n"
     ]
    }
   ],
   "source": [
    "first_three_rows = df.iloc[0:3]\n",
    "print(\"\\nFirst 3 rows of the DataFrame:\")\n",
    "print(first_three_rows)\n"
   ]
  },
  {
   "cell_type": "code",
   "execution_count": 12,
   "metadata": {},
   "outputs": [
    {
     "name": "stdout",
     "output_type": "stream",
     "text": [
      "\n",
      "Rows from index 5 to 9:\n",
      "   Unnamed: 0  Gender EthnicGroup          ParentEduc     LunchType  \\\n",
      "5           5  female     group B  associate's degree      standard   \n",
      "6           6  female     group B        some college      standard   \n",
      "7           7    male     group B        some college  free/reduced   \n",
      "8           8    male     group D         high school  free/reduced   \n",
      "9           9  female     group B         high school  free/reduced   \n",
      "\n",
      "    TestPrep ParentMaritalStatus PracticeSport IsFirstChild  NrSiblings  \\\n",
      "5       none             married     regularly          yes         1.0   \n",
      "6  completed             widowed         never           no         1.0   \n",
      "7       none             married     sometimes          yes         1.0   \n",
      "8  completed              single     sometimes           no         3.0   \n",
      "9       none             married     regularly          yes         NaN   \n",
      "\n",
      "  TransportMeans WklyStudyHours  MathScore  ReadingScore  WritingScore  \n",
      "5     school_bus         5 - 10         73            84            79  \n",
      "6        private         5 - 10         85            93            89  \n",
      "7        private           > 10         41            43            39  \n",
      "8        private           > 10         65            64            68  \n",
      "9        private            < 5         37            59            50  \n"
     ]
    }
   ],
   "source": [
    "rows_5_to_9 = df.iloc[5:10]\n",
    "print(\"\\nRows from index 5 to 9:\")\n",
    "print(rows_5_to_9)"
   ]
  },
  {
   "cell_type": "code",
   "execution_count": 13,
   "metadata": {},
   "outputs": [
    {
     "name": "stdout",
     "output_type": "stream",
     "text": [
      "\n",
      "Every other row from the beginning (first 5 shown):\n",
      "   Unnamed: 0  Gender EthnicGroup         ParentEduc     LunchType   TestPrep  \\\n",
      "0           0  female         NaN  bachelor's degree      standard       none   \n",
      "2           2  female     group B    master's degree      standard       none   \n",
      "4           4    male     group C       some college      standard       none   \n",
      "6           6  female     group B       some college      standard  completed   \n",
      "8           8    male     group D        high school  free/reduced  completed   \n",
      "\n",
      "  ParentMaritalStatus PracticeSport IsFirstChild  NrSiblings TransportMeans  \\\n",
      "0             married     regularly          yes         3.0     school_bus   \n",
      "2              single     sometimes          yes         4.0     school_bus   \n",
      "4             married     sometimes          yes         0.0     school_bus   \n",
      "6             widowed         never           no         1.0        private   \n",
      "8              single     sometimes           no         3.0        private   \n",
      "\n",
      "  WklyStudyHours  MathScore  ReadingScore  WritingScore  \n",
      "0            < 5         71            71            74  \n",
      "2            < 5         87            93            91  \n",
      "4         5 - 10         76            78            75  \n",
      "6         5 - 10         85            93            89  \n",
      "8           > 10         65            64            68  \n"
     ]
    }
   ],
   "source": [
    "every_other_row = df.iloc[::2]\n",
    "print(\"\\nEvery other row from the beginning (first 5 shown):\")\n",
    "print(every_other_row.head())"
   ]
  },
  {
   "cell_type": "code",
   "execution_count": 14,
   "metadata": {},
   "outputs": [
    {
     "name": "stdout",
     "output_type": "stream",
     "text": [
      "DataFrame after filling missing values:\n",
      "   Unnamed: 0  Gender EthnicGroup          ParentEduc     LunchType TestPrep  \\\n",
      "0           0  female     Unknown   bachelor's degree      standard     none   \n",
      "1           1  female     group C        some college      standard  Unknown   \n",
      "2           2  female     group B     master's degree      standard     none   \n",
      "3           3    male     group A  associate's degree  free/reduced     none   \n",
      "4           4    male     group C        some college      standard     none   \n",
      "\n",
      "  ParentMaritalStatus PracticeSport IsFirstChild NrSiblings TransportMeans  \\\n",
      "0             married     regularly          yes        3.0     school_bus   \n",
      "1             married     sometimes          yes        0.0        Unknown   \n",
      "2              single     sometimes          yes        4.0     school_bus   \n",
      "3             married         never           no        1.0        Unknown   \n",
      "4             married     sometimes          yes        0.0     school_bus   \n",
      "\n",
      "  WklyStudyHours  MathScore  ReadingScore  WritingScore  \n",
      "0            < 5         71            71            74  \n",
      "1         5 - 10         69            90            88  \n",
      "2            < 5         87            93            91  \n",
      "3         5 - 10         45            56            42  \n",
      "4         5 - 10         76            78            75  \n"
     ]
    }
   ],
   "source": [
    "df_filled_na = df.fillna('Unknown')\n",
    "print(\"DataFrame after filling missing values:\")\n",
    "print(df_filled_na.head())"
   ]
  },
  {
   "cell_type": "code",
   "execution_count": 15,
   "metadata": {},
   "outputs": [
    {
     "name": "stdout",
     "output_type": "stream",
     "text": [
      "\n",
      "DataFrame after filling missing values in specific columns:\n",
      "   Unnamed: 0  Gender EthnicGroup          ParentEduc     LunchType TestPrep  \\\n",
      "0           0  female         NaN   bachelor's degree      standard     none   \n",
      "1           1  female     group C        some college      standard      NaN   \n",
      "2           2  female     group B     master's degree      standard     none   \n",
      "3           3    male     group A  associate's degree  free/reduced     none   \n",
      "4           4    male     group C        some college      standard     none   \n",
      "\n",
      "  ParentMaritalStatus PracticeSport IsFirstChild  NrSiblings TransportMeans  \\\n",
      "0             married     regularly          yes         3.0     school_bus   \n",
      "1             married     sometimes          yes         0.0            NaN   \n",
      "2              single     sometimes          yes         4.0     school_bus   \n",
      "3             married         never           no         1.0            NaN   \n",
      "4             married     sometimes          yes         0.0     school_bus   \n",
      "\n",
      "  WklyStudyHours  MathScore  ReadingScore  WritingScore  \n",
      "0            < 5         71            71            74  \n",
      "1         5 - 10         69            90            88  \n",
      "2            < 5         87            93            91  \n",
      "3         5 - 10         45            56            42  \n",
      "4         5 - 10         76            78            75  \n"
     ]
    }
   ],
   "source": [
    "df_filled_specific = df.fillna({'NrSiblings': 0, 'ParentEduc': 'Not Reported'})\n",
    "print(\"\\nDataFrame after filling missing values in specific columns:\")\n",
    "print(df_filled_specific.head())"
   ]
  },
  {
   "cell_type": "code",
   "execution_count": 16,
   "metadata": {},
   "outputs": [
    {
     "name": "stdout",
     "output_type": "stream",
     "text": [
      "\n",
      "DataFrame with renamed columns:\n",
      "   Unnamed: 0  Gender EthnicGroup   ParentalEducation     LunchType TestPrep  \\\n",
      "0           0  female         NaN   bachelor's degree      standard     none   \n",
      "1           1  female     group C        some college      standard      NaN   \n",
      "2           2  female     group B     master's degree      standard     none   \n",
      "3           3    male     group A  associate's degree  free/reduced     none   \n",
      "4           4    male     group C        some college      standard     none   \n",
      "\n",
      "  ParentMaritalStatus PracticeSport IsFirstChild  NrSiblings TransportMeans  \\\n",
      "0             married     regularly          yes         3.0     school_bus   \n",
      "1             married     sometimes          yes         0.0            NaN   \n",
      "2              single     sometimes          yes         4.0     school_bus   \n",
      "3             married         never           no         1.0            NaN   \n",
      "4             married     sometimes          yes         0.0     school_bus   \n",
      "\n",
      "  WklyStudyHours  MathematicsScore  ReadingScore  WritingScore  \n",
      "0            < 5                71            71            74  \n",
      "1         5 - 10                69            90            88  \n",
      "2            < 5                87            93            91  \n",
      "3         5 - 10                45            56            42  \n",
      "4         5 - 10                76            78            75  \n"
     ]
    }
   ],
   "source": [
    "df_renamed = df.rename(columns={'ParentEduc': 'ParentalEducation', 'MathScore': 'MathematicsScore'})\n",
    "print(\"\\nDataFrame with renamed columns:\")\n",
    "print(df_renamed.head())"
   ]
  },
  {
   "cell_type": "code",
   "execution_count": 17,
   "metadata": {},
   "outputs": [
    {
     "name": "stdout",
     "output_type": "stream",
     "text": [
      "\n",
      "DataFrame with more renamed columns:\n",
      "   Unnamed: 0  Gender EthnicGroup          ParentEduc     LunchType TestPrep  \\\n",
      "0           0  female         NaN   bachelor's degree      standard     none   \n",
      "1           1  female     group C        some college      standard      NaN   \n",
      "2           2  female     group B     master's degree      standard     none   \n",
      "3           3    male     group A  associate's degree  free/reduced     none   \n",
      "4           4    male     group C        some college      standard     none   \n",
      "\n",
      "  ParentMaritalStatus PracticeSport IsFirstChild  NrSiblings TransportMeans  \\\n",
      "0             married     regularly          yes         3.0     school_bus   \n",
      "1             married     sometimes          yes         0.0            NaN   \n",
      "2              single     sometimes          yes         4.0     school_bus   \n",
      "3             married         never           no         1.0            NaN   \n",
      "4             married     sometimes          yes         0.0     school_bus   \n",
      "\n",
      "  WklyStudyHours  MathScore  Reading_Score  Writing_Score  \n",
      "0            < 5         71             71             74  \n",
      "1         5 - 10         69             90             88  \n",
      "2            < 5         87             93             91  \n",
      "3         5 - 10         45             56             42  \n",
      "4         5 - 10         76             78             75  \n"
     ]
    }
   ],
   "source": [
    "column_mapping = {'ReadingScore': 'Reading_Score', 'WritingScore': 'Writing_Score'}\n",
    "df_renamed_multiple = df.rename(columns=column_mapping)\n",
    "print(\"\\nDataFrame with more renamed columns:\")\n",
    "print(df_renamed_multiple.head())"
   ]
  },
  {
   "cell_type": "code",
   "execution_count": 18,
   "metadata": {},
   "outputs": [
    {
     "name": "stdout",
     "output_type": "stream",
     "text": [
      "\n",
      "Boolean Series indicating duplicate rows:\n",
      "0    False\n",
      "1    False\n",
      "2    False\n",
      "3    False\n",
      "4    False\n",
      "dtype: bool\n",
      "\n",
      "Number of duplicate rows: 0\n"
     ]
    }
   ],
   "source": [
    "duplicates = df.duplicated()\n",
    "print(\"\\nBoolean Series indicating duplicate rows:\")\n",
    "print(duplicates.head())\n",
    "print(f\"\\nNumber of duplicate rows: {duplicates.sum()}\")"
   ]
  },
  {
   "cell_type": "code",
   "execution_count": 20,
   "metadata": {},
   "outputs": [
    {
     "name": "stdout",
     "output_type": "stream",
     "text": [
      "\n",
      "DataFrame after dropping duplicates based on 'Gender' and 'EthnicGroup':\n",
      "   Unnamed: 0  Gender EthnicGroup          ParentEduc     LunchType TestPrep  \\\n",
      "0           0  female         NaN   bachelor's degree      standard     none   \n",
      "1           1  female     group C        some college      standard      NaN   \n",
      "2           2  female     group B     master's degree      standard     none   \n",
      "3           3    male     group A  associate's degree  free/reduced     none   \n",
      "4           4    male     group C        some college      standard     none   \n",
      "\n",
      "  ParentMaritalStatus PracticeSport IsFirstChild  NrSiblings TransportMeans  \\\n",
      "0             married     regularly          yes         3.0     school_bus   \n",
      "1             married     sometimes          yes         0.0            NaN   \n",
      "2              single     sometimes          yes         4.0     school_bus   \n",
      "3             married         never           no         1.0            NaN   \n",
      "4             married     sometimes          yes         0.0     school_bus   \n",
      "\n",
      "  WklyStudyHours  MathScore  ReadingScore  WritingScore  \n",
      "0            < 5         71            71            74  \n",
      "1         5 - 10         69            90            88  \n",
      "2            < 5         87            93            91  \n",
      "3         5 - 10         45            56            42  \n",
      "4         5 - 10         76            78            75  \n"
     ]
    }
   ],
   "source": [
    "df_dropped_subset = df.drop_duplicates(subset=['Gender', 'EthnicGroup'])\n",
    "print(\"\\nDataFrame after dropping duplicates based on 'Gender' and 'EthnicGroup':\")\n",
    "print(df_dropped_subset.head())"
   ]
  },
  {
   "cell_type": "code",
   "execution_count": null,
   "metadata": {},
   "outputs": [],
   "source": [
    "# Data Aggregation & Exporting\n",
    "# Objective: Aggregate data and export the results.\n",
    "\n",
    "# Question 1: Grouping and Aggregating Data\n",
    "# 12. Group data by a specific column and calculate the mean for each group.\n",
    "\n",
    "\n",
    "\n",
    "\n",
    "\n",
    "# Question 2: Exporting Data to CSV\n",
    "# 13. Export the DataFrame to a new CSV file.\n",
    "\n",
    "\n",
    "\n",
    "\n",
    "\n",
    "# Question 3: Aggregating with Multiple Functions\n",
    "# 14. Apply several aggregate functions to the grouped data.\n",
    "\n",
    "\n",
    "\n",
    "\n"
   ]
  },
  {
   "cell_type": "code",
   "execution_count": 21,
   "metadata": {},
   "outputs": [
    {
     "name": "stdout",
     "output_type": "stream",
     "text": [
      "Mean scores by Gender:\n",
      "        MathScore  ReadingScore  WritingScore\n",
      "Gender                                       \n",
      "female  64.080654     72.853216     72.856457\n",
      "male    69.069856     65.854571     63.920418\n"
     ]
    }
   ],
   "source": [
    "grouped_by_gender = df.groupby('Gender')[['MathScore', 'ReadingScore', 'WritingScore']].mean()\n",
    "print(\"Mean scores by Gender:\")\n",
    "print(grouped_by_gender)"
   ]
  },
  {
   "cell_type": "code",
   "execution_count": 23,
   "metadata": {},
   "outputs": [
    {
     "name": "stdout",
     "output_type": "stream",
     "text": [
      "\n",
      "DataFrame 'df_dropped_subset' has been exported to 'subset_duplicates_removed.csv' (without the index).\n"
     ]
    }
   ],
   "source": [
    "df_dropped_subset.to_csv('subset_duplicates_removed.csv', index=False)\n",
    "print(\"\\nDataFrame 'df_dropped_subset' has been exported to 'subset_duplicates_removed.csv' (without the index).\")"
   ]
  },
  {
   "cell_type": "code",
   "execution_count": 24,
   "metadata": {},
   "outputs": [
    {
     "name": "stdout",
     "output_type": "stream",
     "text": [
      "\n",
      "MathScore aggregation (count, mean, std) by Parent Education:\n",
      "                    count       mean        std\n",
      "ParentEduc                                     \n",
      "associate's degree   5550  68.365586  15.156415\n",
      "bachelor's degree    3386  70.466627  14.920218\n",
      "high school          5687  64.435731  14.956287\n",
      "master's degree      2023  72.336134  14.699553\n",
      "some college         6633  66.390472  15.264104\n",
      "some high school     5517  62.584013  15.224155\n"
     ]
    }
   ],
   "source": [
    "aggregated_multiple = df.groupby('ParentEduc')['MathScore'].agg(['count', 'mean', 'std'])\n",
    "print(\"\\nMathScore aggregation (count, mean, std) by Parent Education:\")\n",
    "print(aggregated_multiple)"
   ]
  }
 ],
 "metadata": {
  "kernelspec": {
   "display_name": "Python 3",
   "language": "python",
   "name": "python3"
  },
  "language_info": {
   "codemirror_mode": {
    "name": "ipython",
    "version": 3
   },
   "file_extension": ".py",
   "mimetype": "text/x-python",
   "name": "python",
   "nbconvert_exporter": "python",
   "pygments_lexer": "ipython3",
   "version": "3.10.12"
  }
 },
 "nbformat": 4,
 "nbformat_minor": 2
}
