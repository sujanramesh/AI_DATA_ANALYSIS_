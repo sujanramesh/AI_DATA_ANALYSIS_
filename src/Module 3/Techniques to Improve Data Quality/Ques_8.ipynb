{
 "cells": [
  {
   "cell_type": "code",
   "execution_count": null,
   "metadata": {},
   "outputs": [],
   "source": [
    "# Question: Data Quality Automation Tools - Introduction to Great Expectations\n",
    "# Description: Set up a simple Great Expectations check for missing values in a numeric column.\n",
    "\n"
   ]
  },
  {
   "cell_type": "code",
   "execution_count": 4,
   "metadata": {},
   "outputs": [
    {
     "name": "stdout",
     "output_type": "stream",
     "text": [
      "Defaulting to user installation because normal site-packages is not writeable\n",
      "Requirement already satisfied: great_expectations in /home/vscode/.local/lib/python3.10/site-packages (1.4.4)\n",
      "Requirement already satisfied: jsonschema>=2.5.1 in /home/vscode/.local/lib/python3.10/site-packages (from great_expectations) (4.23.0)\n",
      "Requirement already satisfied: mistune>=0.8.4 in /home/vscode/.local/lib/python3.10/site-packages (from great_expectations) (3.1.3)\n",
      "Requirement already satisfied: tqdm>=4.59.0 in /home/vscode/.local/lib/python3.10/site-packages (from great_expectations) (4.67.1)\n",
      "Requirement already satisfied: typing-extensions>=4.1.0 in /home/vscode/.local/lib/python3.10/site-packages (from great_expectations) (4.13.2)\n",
      "Requirement already satisfied: requests>=2.20 in /home/vscode/.local/lib/python3.10/site-packages (from great_expectations) (2.32.3)\n",
      "Requirement already satisfied: packaging in /home/vscode/.local/lib/python3.10/site-packages (from great_expectations) (25.0)\n",
      "Requirement already satisfied: ruamel.yaml>=0.16 in /home/vscode/.local/lib/python3.10/site-packages (from great_expectations) (0.18.10)\n",
      "Requirement already satisfied: cryptography>=3.2 in /home/vscode/.local/lib/python3.10/site-packages (from great_expectations) (44.0.3)\n",
      "Requirement already satisfied: pydantic>=1.10.7 in /home/vscode/.local/lib/python3.10/site-packages (from great_expectations) (2.11.4)\n",
      "Requirement already satisfied: marshmallow<4.0.0,>=3.7.1 in /home/vscode/.local/lib/python3.10/site-packages (from great_expectations) (3.26.1)\n",
      "Requirement already satisfied: scipy>=1.6.0 in /home/vscode/.local/lib/python3.10/site-packages (from great_expectations) (1.15.3)\n",
      "Requirement already satisfied: numpy>=1.22.4 in /home/vscode/.local/lib/python3.10/site-packages (from great_expectations) (1.26.4)\n",
      "Requirement already satisfied: python-dateutil>=2.8.1 in /home/vscode/.local/lib/python3.10/site-packages (from great_expectations) (2.9.0.post0)\n",
      "Requirement already satisfied: pandas<2.2,>=1.3.0 in /home/vscode/.local/lib/python3.10/site-packages (from great_expectations) (2.1.4)\n",
      "Requirement already satisfied: jinja2>=3 in /home/vscode/.local/lib/python3.10/site-packages (from great_expectations) (3.1.6)\n",
      "Requirement already satisfied: altair<5.0.0,>=4.2.1 in /home/vscode/.local/lib/python3.10/site-packages (from great_expectations) (4.2.2)\n",
      "Requirement already satisfied: tzlocal>=1.2 in /home/vscode/.local/lib/python3.10/site-packages (from great_expectations) (5.3.1)\n",
      "Requirement already satisfied: pyparsing>=2.4 in /home/vscode/.local/lib/python3.10/site-packages (from great_expectations) (3.2.3)\n",
      "Requirement already satisfied: posthog<4,>3 in /home/vscode/.local/lib/python3.10/site-packages (from great_expectations) (3.25.0)\n",
      "Requirement already satisfied: entrypoints in /home/vscode/.local/lib/python3.10/site-packages (from altair<5.0.0,>=4.2.1->great_expectations) (0.4)\n",
      "Requirement already satisfied: toolz in /home/vscode/.local/lib/python3.10/site-packages (from altair<5.0.0,>=4.2.1->great_expectations) (1.0.0)\n",
      "Requirement already satisfied: cffi>=1.12 in /home/vscode/.local/lib/python3.10/site-packages (from cryptography>=3.2->great_expectations) (1.17.1)\n",
      "Requirement already satisfied: MarkupSafe>=2.0 in /home/vscode/.local/lib/python3.10/site-packages (from jinja2>=3->great_expectations) (3.0.2)\n",
      "Requirement already satisfied: jsonschema-specifications>=2023.03.6 in /home/vscode/.local/lib/python3.10/site-packages (from jsonschema>=2.5.1->great_expectations) (2025.4.1)\n",
      "Requirement already satisfied: rpds-py>=0.7.1 in /home/vscode/.local/lib/python3.10/site-packages (from jsonschema>=2.5.1->great_expectations) (0.25.0)\n",
      "Requirement already satisfied: referencing>=0.28.4 in /home/vscode/.local/lib/python3.10/site-packages (from jsonschema>=2.5.1->great_expectations) (0.36.2)\n",
      "Requirement already satisfied: attrs>=22.2.0 in /home/vscode/.local/lib/python3.10/site-packages (from jsonschema>=2.5.1->great_expectations) (25.3.0)\n",
      "Requirement already satisfied: pytz>=2020.1 in /home/vscode/.local/lib/python3.10/site-packages (from pandas<2.2,>=1.3.0->great_expectations) (2025.2)\n",
      "Requirement already satisfied: tzdata>=2022.1 in /home/vscode/.local/lib/python3.10/site-packages (from pandas<2.2,>=1.3.0->great_expectations) (2025.2)\n",
      "Requirement already satisfied: six>=1.5 in /home/vscode/.local/lib/python3.10/site-packages (from posthog<4,>3->great_expectations) (1.17.0)\n",
      "Requirement already satisfied: monotonic>=1.5 in /home/vscode/.local/lib/python3.10/site-packages (from posthog<4,>3->great_expectations) (1.6)\n",
      "Requirement already satisfied: distro>=1.5.0 in /home/vscode/.local/lib/python3.10/site-packages (from posthog<4,>3->great_expectations) (1.9.0)\n",
      "Requirement already satisfied: backoff>=1.10.0 in /home/vscode/.local/lib/python3.10/site-packages (from posthog<4,>3->great_expectations) (2.2.1)\n",
      "Requirement already satisfied: pydantic-core==2.33.2 in /home/vscode/.local/lib/python3.10/site-packages (from pydantic>=1.10.7->great_expectations) (2.33.2)\n",
      "Requirement already satisfied: typing-inspection>=0.4.0 in /home/vscode/.local/lib/python3.10/site-packages (from pydantic>=1.10.7->great_expectations) (0.4.0)\n",
      "Requirement already satisfied: annotated-types>=0.6.0 in /home/vscode/.local/lib/python3.10/site-packages (from pydantic>=1.10.7->great_expectations) (0.7.0)\n",
      "Requirement already satisfied: idna<4,>=2.5 in /home/vscode/.local/lib/python3.10/site-packages (from requests>=2.20->great_expectations) (3.10)\n",
      "Requirement already satisfied: certifi>=2017.4.17 in /home/vscode/.local/lib/python3.10/site-packages (from requests>=2.20->great_expectations) (2025.4.26)\n",
      "Requirement already satisfied: urllib3<3,>=1.21.1 in /home/vscode/.local/lib/python3.10/site-packages (from requests>=2.20->great_expectations) (2.4.0)\n",
      "Requirement already satisfied: charset-normalizer<4,>=2 in /home/vscode/.local/lib/python3.10/site-packages (from requests>=2.20->great_expectations) (3.4.2)\n",
      "Requirement already satisfied: ruamel.yaml.clib>=0.2.7 in /home/vscode/.local/lib/python3.10/site-packages (from ruamel.yaml>=0.16->great_expectations) (0.2.12)\n",
      "Requirement already satisfied: pycparser in /home/vscode/.local/lib/python3.10/site-packages (from cffi>=1.12->cryptography>=3.2->great_expectations) (2.22)\n",
      "\n",
      "\u001b[1m[\u001b[0m\u001b[34;49mnotice\u001b[0m\u001b[1;39;49m]\u001b[0m\u001b[39;49m A new release of pip is available: \u001b[0m\u001b[31;49m23.0.1\u001b[0m\u001b[39;49m -> \u001b[0m\u001b[32;49m25.1.1\u001b[0m\n",
      "\u001b[1m[\u001b[0m\u001b[34;49mnotice\u001b[0m\u001b[1;39;49m]\u001b[0m\u001b[39;49m To update, run: \u001b[0m\u001b[32;49mpip install --upgrade pip\u001b[0m\n",
      "Note: you may need to restart the kernel to use updated packages.\n"
     ]
    }
   ],
   "source": [
    "pip install great_expectations"
   ]
  },
  {
   "cell_type": "code",
   "execution_count": 6,
   "metadata": {},
   "outputs": [
    {
     "name": "stdout",
     "output_type": "stream",
     "text": [
      "The column 'numeric_column' contains missing values.\n",
      "The column 'numeric_column' in the second DataFrame has no missing values.\n"
     ]
    }
   ],
   "source": [
    "def check_missing_numeric(df, column_name):\n",
    "  \"\"\"\n",
    "  Checks for missing values (None or NaN) in a specified numeric column of a Pandas DataFrame.\n",
    "\n",
    "  Args:\n",
    "    df (pd.DataFrame): The input Pandas DataFrame.\n",
    "    column_name (str): The name of the numeric column to check.\n",
    "\n",
    "  Returns:\n",
    "    bool: True if there are no missing values in the specified column, False otherwise.\n",
    "  \"\"\"\n",
    "  if column_name not in df.columns:\n",
    "    raise ValueError(f\"Column '{column_name}' not found in the DataFrame.\")\n",
    "  if not pd.api.types.is_numeric_dtype(df[column_name]):\n",
    "    raise ValueError(f\"Column '{column_name}' is not numeric.\")\n",
    "\n",
    "  return not df[column_name].isnull().any()\n",
    "\n",
    "import pandas as pd\n",
    "import numpy as np\n",
    "\n",
    "# Example Usage:\n",
    "\n",
    "# Create a sample DataFrame with some missing values in a numeric column\n",
    "data = {'numeric_column': [1.0, 2.5, np.nan, 4.0, None, 6.7],\n",
    "        'another_column': ['a', 'b', 'c', 'd', 'e', 'f']}\n",
    "df_with_missing = pd.DataFrame(data)\n",
    "\n",
    "# Check for missing values\n",
    "column_to_check = 'numeric_column'\n",
    "no_missing = check_missing_numeric(df_with_missing.copy(), column_to_check)\n",
    "\n",
    "if no_missing:\n",
    "  print(f\"The column '{column_to_check}' has no missing values.\")\n",
    "else:\n",
    "  print(f\"The column '{column_to_check}' contains missing values.\")\n",
    "\n",
    "# Create a sample DataFrame without missing values in the numeric column\n",
    "data_no_missing = {'numeric_column': [10, 20, 30, 40, 50],\n",
    "                    'another_column': ['p', 'q', 'r', 's', 't']}\n",
    "df_without_missing = pd.DataFrame(data_no_missing)\n",
    "\n",
    "# Check for missing values in the second DataFrame\n",
    "no_missing_second = check_missing_numeric(df_without_missing.copy(), column_to_check)\n",
    "\n",
    "if no_missing_second:\n",
    "  print(f\"The column '{column_to_check}' in the second DataFrame has no missing values.\")\n",
    "else:\n",
    "  print(f\"The column '{column_to_check}' in the second DataFrame contains missing values.\")"
   ]
  }
 ],
 "metadata": {
  "kernelspec": {
   "display_name": "Python 3",
   "language": "python",
   "name": "python3"
  },
  "language_info": {
   "codemirror_mode": {
    "name": "ipython",
    "version": 3
   },
   "file_extension": ".py",
   "mimetype": "text/x-python",
   "name": "python",
   "nbconvert_exporter": "python",
   "pygments_lexer": "ipython3",
   "version": "3.10.12"
  }
 },
 "nbformat": 4,
 "nbformat_minor": 2
}
