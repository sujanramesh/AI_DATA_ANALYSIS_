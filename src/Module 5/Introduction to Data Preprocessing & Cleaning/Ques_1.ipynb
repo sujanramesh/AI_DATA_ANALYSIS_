{
 "cells": [
  {
   "cell_type": "code",
   "execution_count": null,
   "metadata": {},
   "outputs": [],
   "source": [
    "# Question: Advanced Data Cleaning with Multiple Issues\n",
    "# Objective: Handle multiple issues in one dataset, including missing values, duplicates, and outliers.\n",
    "# Description: Given a dataset with various data quality issues, employ multiple data cleaning techniques.\n",
    "\n",
    "\n"
   ]
  },
  {
   "cell_type": "code",
   "execution_count": null,
   "metadata": {},
   "outputs": [],
   "source": [
    "# Question: Data Transformation Techniques\n",
    "# Objective: Transform skewed data using log transformation.\n",
    "# Description: Perform a log transformation to handle skewness in a dataset, which is particularly useful for\n",
    "# certain machine learning models.\n",
    "\n"
   ]
  },
  {
   "cell_type": "code",
   "execution_count": null,
   "metadata": {},
   "outputs": [],
   "source": [
    "# Question: Feature Engineering by Creating New Features\n",
    "# Objective: Create a new feature based on existing features to add predictive power.\n",
    "# Description: Generate additional features from existing data to potentially improve the performance of\n",
    "# prediction models.\n",
    "\n",
    "\n"
   ]
  },
  {
   "cell_type": "code",
   "execution_count": null,
   "metadata": {},
   "outputs": [],
   "source": [
    "# Question: Handling Complex Outliers with Z-Scores\n",
    "# Objective: Detect and handle outliers using Z-score method.\n",
    "# Description: Use the Z-score method to identify outliers which significantly differ from the rest of the data points.\n",
    "\n",
    "\n"
   ]
  },
  {
   "cell_type": "code",
   "execution_count": null,
   "metadata": {},
   "outputs": [],
   "source": [
    "# Question: Data Imputation with K-Nearest Neighbors (KNN)\n",
    "# Objective: Impute missing numerical values using the KNN method.\n",
    "# Description: Use the K-nearest neighbors algorithm to fill in missing values, which considers the values of\n",
    "# nearest neighbors for imputation.\n",
    "\n",
    "\n"
   ]
  },
  {
   "cell_type": "code",
   "execution_count": 1,
   "metadata": {},
   "outputs": [
    {
     "name": "stdout",
     "output_type": "stream",
     "text": [
      "Initial dataset shape: (107, 4)\n",
      "After removing duplicates: (102, 4)\n",
      "After outlier removal: (100, 4)\n",
      "Final cleaned dataset shape: (100, 6)\n",
      "           A         B          C    D     B_log  C_A_ratio\n",
      "0  67.640523  1.102792  24.828786  2.0  0.743266   0.367070\n",
      "1  54.001572  1.864806  33.407973  4.0  1.052501   0.618648\n",
      "2  59.787380  0.038760  25.982952  4.0  0.038027   0.434589\n",
      "3  72.408932  0.717854  26.552251  1.0  0.541076   0.366699\n",
      "4  68.675580  2.158640  27.722337  2.0  1.150142   0.403671\n"
     ]
    }
   ],
   "source": [
    "import pandas as pd\n",
    "import numpy as np\n",
    "from sklearn.impute import KNNImputer\n",
    "from scipy.stats import zscore\n",
    "import matplotlib.pyplot as plt\n",
    "import seaborn as sns\n",
    "\n",
    "df = pd.read_csv('swiggy.csv')\n",
    "\n",
    "# For demonstration, we create a sample dataset\n",
    "np.random.seed(0)\n",
    "data = {\n",
    "    'A': np.random.normal(50, 10, 100).tolist() + [np.nan, np.nan],\n",
    "    'B': np.random.exponential(scale=2.0, size=102),\n",
    "    'C': np.random.normal(30, 5, 102),\n",
    "    'D': np.random.randint(1, 5, 102)\n",
    "}\n",
    "df = pd.DataFrame(data)\n",
    "\n",
    "# Introduce duplicates\n",
    "df = pd.concat([df, df.iloc[:5]], ignore_index=True)\n",
    "\n",
    "print(\"Initial dataset shape:\", df.shape)\n",
    "\n",
    "# ---------------------------------\n",
    "# 2. Remove Duplicate Rows\n",
    "# ---------------------------------\n",
    "df = df.drop_duplicates()\n",
    "print(\"After removing duplicates:\", df.shape)\n",
    "\n",
    "# ---------------------------------\n",
    "# 3. KNN Imputation for Missing Values\n",
    "# ---------------------------------\n",
    "imputer = KNNImputer(n_neighbors=3)\n",
    "df_imputed = pd.DataFrame(imputer.fit_transform(df), columns=df.columns)\n",
    "\n",
    "# ---------------------------------\n",
    "# 4. Z-Score Outlier Detection\n",
    "# ---------------------------------\n",
    "z_scores = np.abs(zscore(df_imputed.select_dtypes(include=[np.number])))\n",
    "outliers = (z_scores > 3)\n",
    "df_no_outliers = df_imputed[~(outliers.any(axis=1))]\n",
    "\n",
    "print(\"After outlier removal:\", df_no_outliers.shape)\n",
    "\n",
    "# ---------------------------------\n",
    "# 5. Log Transformation for Skewed Data\n",
    "# ---------------------------------\n",
    "# Log transform column 'B' which is exponentially distributed\n",
    "df_transformed = df_no_outliers.copy()\n",
    "df_transformed['B_log'] = np.log1p(df_transformed['B'])\n",
    "\n",
    "# Visualize skewness before and after\n",
    "# sns.histplot(df_no_outliers['B'], kde=True)\n",
    "# sns.histplot(df_transformed['B_log'], kde=True)\n",
    "# plt.show()\n",
    "\n",
    "# ---------------------------------\n",
    "# 6. Feature Engineering: New Feature\n",
    "# ---------------------------------\n",
    "# Example: New feature as ratio of C to A\n",
    "df_transformed['C_A_ratio'] = df_transformed['C'] / df_transformed['A']\n",
    "\n",
    "# ---------------------------------\n",
    "# 7. Final Cleaned and Transformed Dataset\n",
    "# ---------------------------------\n",
    "print(\"Final cleaned dataset shape:\", df_transformed.shape)\n",
    "print(df_transformed.head())\n",
    "\n",
    "# Optional: Save the clean dataset\n",
    "# df_transformed.to_csv(\"cleaned_dataset.csv\", index=False)\n"
   ]
  }
 ],
 "metadata": {
  "kernelspec": {
   "display_name": "Python 3",
   "language": "python",
   "name": "python3"
  },
  "language_info": {
   "codemirror_mode": {
    "name": "ipython",
    "version": 3
   },
   "file_extension": ".py",
   "mimetype": "text/x-python",
   "name": "python",
   "nbconvert_exporter": "python",
   "pygments_lexer": "ipython3",
   "version": "3.10.12"
  }
 },
 "nbformat": 4,
 "nbformat_minor": 2
}
