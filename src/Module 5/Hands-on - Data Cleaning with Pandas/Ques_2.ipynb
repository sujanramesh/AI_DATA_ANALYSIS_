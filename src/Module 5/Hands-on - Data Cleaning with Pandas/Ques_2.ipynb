{
 "cells": [
  {
   "cell_type": "code",
   "execution_count": null,
   "metadata": {},
   "outputs": [],
   "source": [
    "# Part 2: Remove Duplicates & Fix Data Types\n",
    "\n",
    "# Task 1: Remove Duplicates\n",
    "#     1. Load Extended Data:\n",
    "#     2. Remove Duplicates:\n",
    "        \n",
    "\n",
    "\n",
    "# Task 2: Fix Data Types\n",
    "#     1. Fix Incorrect Data Types:\n",
    "        \n",
    "\n",
    "\n",
    "# Task 3: Convert Data Type for Analysis\n",
    "#     1. Convert Date Strings to DateTime:\n",
    "\n",
    "\n"
   ]
  },
  {
   "cell_type": "code",
   "execution_count": 1,
   "metadata": {},
   "outputs": [
    {
     "name": "stdout",
     "output_type": "stream",
     "text": [
      "Original Data (with duplicates):\n",
      "       Name Age Gender  Income    JoinDate\n",
      "0    Alice  25      F   50000  2021-01-01\n",
      "1      Bob  30      M   54000  2021-02-01\n",
      "2  Charlie  30      M   58000  2021-03-01\n",
      "3      Bob  30      M   54000  2021-02-01\n",
      "4    Alice  25      F   50000  2021-01-01\n",
      "\n",
      "After Removing Duplicates:\n",
      "       Name Age Gender  Income    JoinDate\n",
      "0    Alice  25      F   50000  2021-01-01\n",
      "1      Bob  30      M   54000  2021-02-01\n",
      "2  Charlie  30      M   58000  2021-03-01\n",
      "\n",
      "After Converting 'Age' to Integer:\n",
      " Name        object\n",
      "Age          int64\n",
      "Gender      object\n",
      "Income       int64\n",
      "JoinDate    object\n",
      "dtype: object\n",
      "\n",
      "After Converting 'JoinDate' to datetime:\n",
      " Name                object\n",
      "Age                  int64\n",
      "Gender              object\n",
      "Income               int64\n",
      "JoinDate    datetime64[ns]\n",
      "dtype: object\n"
     ]
    },
    {
     "name": "stderr",
     "output_type": "stream",
     "text": [
      "/tmp/ipykernel_16706/3193906144.py:28: SettingWithCopyWarning: \n",
      "A value is trying to be set on a copy of a slice from a DataFrame.\n",
      "Try using .loc[row_indexer,col_indexer] = value instead\n",
      "\n",
      "See the caveats in the documentation: https://pandas.pydata.org/pandas-docs/stable/user_guide/indexing.html#returning-a-view-versus-a-copy\n",
      "  df_no_duplicates['Age'] = df_no_duplicates['Age'].astype(int)\n",
      "/tmp/ipykernel_16706/3193906144.py:36: SettingWithCopyWarning: \n",
      "A value is trying to be set on a copy of a slice from a DataFrame.\n",
      "Try using .loc[row_indexer,col_indexer] = value instead\n",
      "\n",
      "See the caveats in the documentation: https://pandas.pydata.org/pandas-docs/stable/user_guide/indexing.html#returning-a-view-versus-a-copy\n",
      "  df_no_duplicates['JoinDate'] = pd.to_datetime(df_no_duplicates['JoinDate'])\n"
     ]
    }
   ],
   "source": [
    "import pandas as pd\n",
    "\n",
    "# -----------------------------\n",
    "# Task 1: Remove Duplicates\n",
    "# -----------------------------\n",
    "\n",
    "# 1. Load Extended Data (with intentional duplicates and incorrect types)\n",
    "data = {\n",
    "    'Name': ['Alice', 'Bob', 'Charlie', 'Bob', 'Alice'],\n",
    "    'Age': ['25', '30', '30', '30', '25'],  # Age as string\n",
    "    'Gender': ['F', 'M', 'M', 'M', 'F'],\n",
    "    'Income': [50000, 54000, 58000, 54000, 50000],\n",
    "    'JoinDate': ['2021-01-01', '2021-02-01', '2021-03-01', '2021-02-01', '2021-01-01']  # Date as string\n",
    "}\n",
    "\n",
    "df = pd.DataFrame(data)\n",
    "print(\"Original Data (with duplicates):\\n\", df)\n",
    "\n",
    "# 2. Remove Duplicates\n",
    "df_no_duplicates = df.drop_duplicates()\n",
    "print(\"\\nAfter Removing Duplicates:\\n\", df_no_duplicates)\n",
    "\n",
    "# -----------------------------\n",
    "# Task 2: Fix Data Types\n",
    "# -----------------------------\n",
    "\n",
    "# 1. Fix Incorrect Data Types (e.g., Age column from string to int)\n",
    "df_no_duplicates['Age'] = df_no_duplicates['Age'].astype(int)\n",
    "print(\"\\nAfter Converting 'Age' to Integer:\\n\", df_no_duplicates.dtypes)\n",
    "\n",
    "# -----------------------------\n",
    "# Task 3: Convert Data Type for Analysis\n",
    "# -----------------------------\n",
    "\n",
    "# 1. Convert Date Strings to DateTime\n",
    "df_no_duplicates['JoinDate'] = pd.to_datetime(df_no_duplicates['JoinDate'])\n",
    "print(\"\\nAfter Converting 'JoinDate' to datetime:\\n\", df_no_duplicates.dtypes)\n"
   ]
  }
 ],
 "metadata": {
  "kernelspec": {
   "display_name": "Python 3",
   "language": "python",
   "name": "python3"
  },
  "language_info": {
   "codemirror_mode": {
    "name": "ipython",
    "version": 3
   },
   "file_extension": ".py",
   "mimetype": "text/x-python",
   "name": "python",
   "nbconvert_exporter": "python",
   "pygments_lexer": "ipython3",
   "version": "3.10.12"
  }
 },
 "nbformat": 4,
 "nbformat_minor": 2
}
