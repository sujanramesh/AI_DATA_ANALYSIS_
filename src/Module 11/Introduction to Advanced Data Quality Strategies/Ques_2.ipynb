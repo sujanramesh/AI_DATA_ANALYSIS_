{
 "cells": [
  {
   "cell_type": "markdown",
   "metadata": {},
   "source": [
    "### Handling Unstructured Data with Python\n",
    "**Description**: Extract structured data from unstructured text using Python.\n",
    "\n",
    "**Steps**:\n",
    "1. Load and analyze an unstructured text document.\n",
    "2. Extract information using regex."
   ]
  },
  {
   "cell_type": "code",
   "execution_count": null,
   "metadata": {},
   "outputs": [],
   "source": [
    "# write your code from here"
   ]
  },
  {
   "cell_type": "code",
   "execution_count": 2,
   "metadata": {},
   "outputs": [
    {
     "name": "stdout",
     "output_type": "stream",
     "text": [
      "Error: File 'sample_unstructured_text.txt' does not exist.\n"
     ]
    }
   ],
   "source": [
    "import re\n",
    "import os\n",
    "\n",
    "def read_file(file_path):\n",
    "    \"\"\"Reads content from a file with error handling.\"\"\"\n",
    "    if not os.path.exists(file_path):\n",
    "        raise FileNotFoundError(f\"File '{file_path}' does not exist.\")\n",
    "    \n",
    "    with open(file_path, 'r', encoding='utf-8') as file:\n",
    "        content = file.read()\n",
    "        if not content.strip():\n",
    "            raise ValueError(\"File is empty.\")\n",
    "        return content\n",
    "\n",
    "def extract_emails(text):\n",
    "    return re.findall(r'\\b[\\w.-]+?@\\w+?\\.\\w+?\\b', text)\n",
    "\n",
    "def extract_phone_numbers(text):\n",
    "    return re.findall(r'\\b(?:\\+?\\d{1,2}\\s?)?(?:\\(?\\d{3}\\)?[-.\\s]?)?\\d{3}[-.\\s]?\\d{4}\\b', text)\n",
    "\n",
    "def extract_dates(text):\n",
    "    return re.findall(r'\\b(?:\\d{1,2}[-/]\\d{1,2}[-/]\\d{2,4}|(?:Jan|Feb|Mar|Apr|May|Jun|Jul|Aug|Sep|Oct|Nov|Dec)[a-z]*\\s\\d{1,2},\\s\\d{4})\\b', text)\n",
    "\n",
    "def extract_names(text):\n",
    "    return re.findall(r'\\b[A-Z][a-z]+\\s[A-Z][a-z]+\\b', text)\n",
    "\n",
    "def main(file_path):\n",
    "    try:\n",
    "        text = read_file(file_path)\n",
    "        print(\"Emails:\", extract_emails(text))\n",
    "        print(\"Phone Numbers:\", extract_phone_numbers(text))\n",
    "        print(\"Dates:\", extract_dates(text))\n",
    "        print(\"Names:\", extract_names(text))\n",
    "    except Exception as e:\n",
    "        print(\"Error:\", e)\n",
    "\n",
    "# Example usage\n",
    "if __name__ == \"__main__\":\n",
    "    main('sample_unstructured_text.txt')  # Replace with your file\n"
   ]
  },
  {
   "cell_type": "code",
   "execution_count": 3,
   "metadata": {},
   "outputs": [
    {
     "name": "stderr",
     "output_type": "stream",
     "text": [
      "usage: ipykernel_launcher.py [-h] [-v] [-q] [--locals] [-f] [-c] [-b]\n",
      "                             [-k TESTNAMEPATTERNS]\n",
      "                             [tests ...]\n",
      "ipykernel_launcher.py: error: argument -f/--failfast: ignored explicit argument '/home/vscode/.local/share/jupyter/runtime/kernel-v35cc5f0b4f308cf5185c4048ae41d822ff181db2d.json'\n"
     ]
    },
    {
     "ename": "SystemExit",
     "evalue": "2",
     "output_type": "error",
     "traceback": [
      "An exception has occurred, use %tb to see the full traceback.\n",
      "\u001b[0;31mSystemExit\u001b[0m\u001b[0;31m:\u001b[0m 2\n"
     ]
    },
    {
     "name": "stderr",
     "output_type": "stream",
     "text": [
      "/home/vscode/.local/lib/python3.10/site-packages/IPython/core/interactiveshell.py:3587: UserWarning: To exit: use 'exit', 'quit', or Ctrl-D.\n",
      "  warn(\"To exit: use 'exit', 'quit', or Ctrl-D.\", stacklevel=1)\n"
     ]
    }
   ],
   "source": [
    "import unittest\n",
    "\n",
    "class TestRegexExtractors(unittest.TestCase):\n",
    "    def setUp(self):\n",
    "        self.text = \"\"\"\n",
    "        John Doe, born on 12/05/1990, contacted via john.doe@example.com or (123) 456-7890.\n",
    "        He submitted the application on March 10, 2024. Reach out to jane_smith@work.net or +91 987-654-3210.\n",
    "        \"\"\"\n",
    "\n",
    "    def test_email_extraction(self):\n",
    "        self.assertEqual(\n",
    "            extract_emails(self.text),\n",
    "            ['john.doe@example.com', 'jane_smith@work.net']\n",
    "        )\n",
    "\n",
    "    def test_phone_number_extraction(self):\n",
    "        self.assertIn('(123) 456-7890', extract_phone_numbers(self.text))\n",
    "        self.assertIn('+91 987-654-3210', extract_phone_numbers(self.text))\n",
    "\n",
    "    def test_date_extraction(self):\n",
    "        self.assertIn('12/05/1990', extract_dates(self.text))\n",
    "        self.assertIn('March 10, 2024', extract_dates(self.text))\n",
    "\n",
    "    def test_name_extraction(self):\n",
    "        self.assertIn('John Doe', extract_names(self.text))\n",
    "        self.assertIn('Jane Smith', extract_names(self.text))  # Edge: try to test lowercase/variants\n",
    "\n",
    "if __name__ == '__main__':\n",
    "    unittest.main()\n"
   ]
  }
 ],
 "metadata": {
  "kernelspec": {
   "display_name": "Python 3",
   "language": "python",
   "name": "python3"
  },
  "language_info": {
   "codemirror_mode": {
    "name": "ipython",
    "version": 3
   },
   "file_extension": ".py",
   "mimetype": "text/x-python",
   "name": "python",
   "nbconvert_exporter": "python",
   "pygments_lexer": "ipython3",
   "version": "3.10.12"
  }
 },
 "nbformat": 4,
 "nbformat_minor": 2
}
