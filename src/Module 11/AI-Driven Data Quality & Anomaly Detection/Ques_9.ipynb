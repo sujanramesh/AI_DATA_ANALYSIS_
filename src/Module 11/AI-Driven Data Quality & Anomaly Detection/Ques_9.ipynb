{
 "cells": [
  {
   "cell_type": "markdown",
   "metadata": {},
   "source": [
    "### Using NLP for Text Data Quality\n",
    "**Objective**: Enhance text data quality using NLP techniques.\n",
    "\n",
    "**Task**: Spelling Corrections\n",
    "\n",
    "**Steps**:\n",
    "1. Data Set: Import a dataset containing text reviews with spelling errors.\n",
    "2. Apply Corrections: Use a spell-checker from an NLP library to correct spelling mistakes.\n",
    "3. Verify Improvements: Review the corrections to ensure data quality improvement."
   ]
  },
  {
   "cell_type": "code",
   "execution_count": null,
   "metadata": {},
   "outputs": [],
   "source": [
    "# write your code from here\n"
   ]
  },
  {
   "cell_type": "code",
   "execution_count": 2,
   "metadata": {},
   "outputs": [
    {
     "ename": "ModuleNotFoundError",
     "evalue": "No module named 'textblob'",
     "output_type": "error",
     "traceback": [
      "\u001b[0;31m---------------------------------------------------------------------------\u001b[0m",
      "\u001b[0;31mModuleNotFoundError\u001b[0m                       Traceback (most recent call last)",
      "Cell \u001b[0;32mIn[2], line 2\u001b[0m\n\u001b[1;32m      1\u001b[0m \u001b[38;5;28;01mimport\u001b[39;00m\u001b[38;5;250m \u001b[39m\u001b[38;5;21;01mpandas\u001b[39;00m\u001b[38;5;250m \u001b[39m\u001b[38;5;28;01mas\u001b[39;00m\u001b[38;5;250m \u001b[39m\u001b[38;5;21;01mpd\u001b[39;00m\n\u001b[0;32m----> 2\u001b[0m \u001b[38;5;28;01mfrom\u001b[39;00m\u001b[38;5;250m \u001b[39m\u001b[38;5;21;01mtextblob\u001b[39;00m\u001b[38;5;250m \u001b[39m\u001b[38;5;28;01mimport\u001b[39;00m TextBlob\n\u001b[1;32m      3\u001b[0m \u001b[38;5;28;01mimport\u001b[39;00m\u001b[38;5;250m \u001b[39m\u001b[38;5;21;01munittest\u001b[39;00m\n\u001b[1;32m      5\u001b[0m \u001b[38;5;66;03m# Sample data\u001b[39;00m\n",
      "\u001b[0;31mModuleNotFoundError\u001b[0m: No module named 'textblob'"
     ]
    }
   ],
   "source": [
    "import pandas as pd\n",
    "from textblob import TextBlob\n",
    "import unittest\n",
    "\n",
    "# Sample data\n",
    "data = {\n",
    "    'review_id': [1, 2, 3, 4],\n",
    "    'review': [\n",
    "        \"This prodcut is amazng and usefull.\",\n",
    "        \"Excellnt qulaity but slow dellivery.\",\n",
    "        \"Horrble servce, will not recomend.\",\n",
    "        \"\",  # Empty string\n",
    "    ]\n",
    "}\n",
    "df = pd.DataFrame(data)\n",
    "\n",
    "# Improved spelling correction function\n",
    "def correct_spelling(text):\n",
    "    if not isinstance(text, str):\n",
    "        return ''\n",
    "    if text.strip() == \"\":\n",
    "        return ''\n",
    "    try:\n",
    "        corrected = str(TextBlob(text).correct())\n",
    "        return corrected\n",
    "    except Exception as e:\n",
    "        print(f\"Error correcting text: {e}\")\n",
    "        return text\n",
    "\n",
    "# Apply correction\n",
    "df['corrected_review'] = df['review'].apply(correct_spelling)\n",
    "\n",
    "# Display original vs corrected\n",
    "print(\"Original vs Corrected Reviews:\")\n",
    "print(df[['review_id', 'review', 'corrected_review']])\n"
   ]
  },
  {
   "cell_type": "code",
   "execution_count": 3,
   "metadata": {},
   "outputs": [
    {
     "ename": "NameError",
     "evalue": "name 'unittest' is not defined",
     "output_type": "error",
     "traceback": [
      "\u001b[0;31m---------------------------------------------------------------------------\u001b[0m",
      "\u001b[0;31mNameError\u001b[0m                                 Traceback (most recent call last)",
      "Cell \u001b[0;32mIn[3], line 1\u001b[0m\n\u001b[0;32m----> 1\u001b[0m \u001b[38;5;28;01mclass\u001b[39;00m\u001b[38;5;250m \u001b[39m\u001b[38;5;21;01mTestSpellingCorrection\u001b[39;00m(\u001b[43munittest\u001b[49m\u001b[38;5;241m.\u001b[39mTestCase):\n\u001b[1;32m      3\u001b[0m     \u001b[38;5;28;01mdef\u001b[39;00m\u001b[38;5;250m \u001b[39m\u001b[38;5;21mtest_typical_sentence\u001b[39m(\u001b[38;5;28mself\u001b[39m):\n\u001b[1;32m      4\u001b[0m         \u001b[38;5;28mself\u001b[39m\u001b[38;5;241m.\u001b[39massertEqual(\n\u001b[1;32m      5\u001b[0m             correct_spelling(\u001b[38;5;124m\"\u001b[39m\u001b[38;5;124mThis prodcut is amazng.\u001b[39m\u001b[38;5;124m\"\u001b[39m),\n\u001b[1;32m      6\u001b[0m             \u001b[38;5;124m\"\u001b[39m\u001b[38;5;124mThis product is amazing.\u001b[39m\u001b[38;5;124m\"\u001b[39m\n\u001b[1;32m      7\u001b[0m         )\n",
      "\u001b[0;31mNameError\u001b[0m: name 'unittest' is not defined"
     ]
    }
   ],
   "source": [
    "class TestSpellingCorrection(unittest.TestCase):\n",
    "\n",
    "    def test_typical_sentence(self):\n",
    "        self.assertEqual(\n",
    "            correct_spelling(\"This prodcut is amazng.\"),\n",
    "            \"This product is amazing.\"\n",
    "        )\n",
    "\n",
    "    def test_empty_string(self):\n",
    "        self.assertEqual(correct_spelling(\"\"), \"\")\n",
    "\n",
    "    def test_none_input(self):\n",
    "        self.assertEqual(correct_spelling(None), \"\")\n",
    "\n",
    "    def test_numeric_string(self):\n",
    "        self.assertEqual(correct_spelling(\"12345\"), \"12345\")\n",
    "\n",
    "    def test_single_word(self):\n",
    "        self.assertEqual(correct_spelling(\"reccomend\"), \"recommend\")\n",
    "\n",
    "\n",
    "# Run tests\n",
    "if __name__ == \"__main__\":\n",
    "    unittest.main(argv=[''], exit=False)\n"
   ]
  }
 ],
 "metadata": {
  "kernelspec": {
   "display_name": "Python 3",
   "language": "python",
   "name": "python3"
  },
  "language_info": {
   "codemirror_mode": {
    "name": "ipython",
    "version": 3
   },
   "file_extension": ".py",
   "mimetype": "text/x-python",
   "name": "python",
   "nbconvert_exporter": "python",
   "pygments_lexer": "ipython3",
   "version": "3.10.12"
  }
 },
 "nbformat": 4,
 "nbformat_minor": 2
}
