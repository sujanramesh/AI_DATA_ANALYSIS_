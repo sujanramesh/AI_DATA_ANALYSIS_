{
 "cells": [
  {
   "cell_type": "markdown",
   "metadata": {},
   "source": [
    "### Using NLP for Text Data Quality\n",
    "**Objective**: Enhance text data quality using NLP techniques.\n",
    "\n",
    "**Task**: Handling Noisy Text Data\n",
    "\n",
    "**Steps**:\n",
    "1. Data Set: Obtain a dataset with customer reviews containing noise (e.g., random characters).\n",
    "2. Clean Data: Use regex patterns to clean the noise from text data.\n",
    "3. Evaluate: Compare the text before and after cleaning for noise."
   ]
  },
  {
   "cell_type": "code",
   "execution_count": null,
   "metadata": {},
   "outputs": [],
   "source": [
    "# write your code from here\n"
   ]
  },
  {
   "cell_type": "code",
   "execution_count": 1,
   "metadata": {},
   "outputs": [
    {
     "name": "stdout",
     "output_type": "stream",
     "text": [
      "Generating noisy customer reviews...\n",
      "Cleaning text data...\n",
      "\n",
      "--- Noisy vs Cleaned Reviews ---\n",
      "\n",
      "Original: Amaaaazing!!! ***** Great pr0duct :)\n",
      "Cleaned : amaaaazing great prduct\n",
      "\n",
      "Original: Worst@@@ experience ever!!! D0n't buy###\n",
      "Cleaned : worst experience ever dnt buy\n",
      "\n",
      "Original: L0ved it...!! will def@initely buy again.\n",
      "Cleaned : lved it will definitely buy again\n",
      "\n",
      "Original: Terrrrible serv1ce!!!! W0uldn't rec0mmend..\n",
      "Cleaned : terrrrible servce wuldnt recmmend\n",
      "\n",
      "Original: S0-so product, quite av#erage. meh\n",
      "Cleaned : sso product quite average meh\n",
      "\n",
      "Original: 9999Stars*****!!!, absolutely w0rth it :)\n",
      "Cleaned : stars absolutely wrth it\n",
      "\n",
      "Original: BAD!!! SH1TTY pr0duct... waste of $$$\n",
      "Cleaned : bad shtty prduct waste of\n",
      "\n",
      "Original: best.best.best.!!! <3 loved itttt!\n",
      "Cleaned : bestbestbest loved itttt\n",
      "\n",
      "Original: No issues... but n0t perfect ;)\n",
      "Cleaned : no issues but nt perfect\n",
      "\n",
      "Original: Co0l 123 product#@! very gooodddd...\n",
      "Cleaned : col product very gooodddd\n"
     ]
    }
   ],
   "source": [
    "import pandas as pd\n",
    "import re\n",
    "\n",
    "# Step 1: Simulate a dataset with noisy customer reviews\n",
    "def generate_noisy_reviews():\n",
    "    return pd.DataFrame({\n",
    "        \"Customer_Review\": [\n",
    "            \"Amaaaazing!!! ***** Great pr0duct :)\",\n",
    "            \"Worst@@@ experience ever!!! D0n't buy###\",\n",
    "            \"L0ved it...!! will def@initely buy again.\",\n",
    "            \"Terrrrible serv1ce!!!! W0uldn't rec0mmend..\",\n",
    "            \"S0-so product, quite av#erage. meh\",\n",
    "            \"9999Stars*****!!!, absolutely w0rth it :)\",\n",
    "            \"BAD!!! SH1TTY pr0duct... waste of $$$\",\n",
    "            \"best.best.best.!!! <3 loved itttt!\",\n",
    "            \"No issues... but n0t perfect ;)\",\n",
    "            \"Co0l 123 product#@! very gooodddd...\"\n",
    "        ]\n",
    "    })\n",
    "\n",
    "# Step 2: Clean noisy text using regex and basic NLP preprocessing\n",
    "def clean_text(text):\n",
    "    try:\n",
    "        text = text.lower()  # Normalize case\n",
    "        text = re.sub(r\"http\\S+|www\\S+|https\\S+\", \"\", text)  # Remove URLs\n",
    "        text = re.sub(r\"[^a-z\\s]\", \"\", text)  # Remove non-alphabetic characters\n",
    "        text = re.sub(r\"\\s+\", \" \", text).strip()  # Normalize whitespace\n",
    "        return text\n",
    "    except Exception as e:\n",
    "        raise ValueError(f\"Text cleaning failed: {e}\")\n",
    "\n",
    "# Step 3: Apply cleaning to the entire dataset\n",
    "def apply_text_cleaning(df):\n",
    "    try:\n",
    "        df['Cleaned_Review'] = df['Customer_Review'].apply(clean_text)\n",
    "        return df\n",
    "    except Exception as e:\n",
    "        raise ValueError(f\"Failed to clean dataset: {e}\")\n",
    "\n",
    "# Step 4: Display comparison\n",
    "def compare_reviews(df):\n",
    "    print(\"\\n--- Noisy vs Cleaned Reviews ---\")\n",
    "    for original, cleaned in zip(df['Customer_Review'], df['Cleaned_Review']):\n",
    "        print(f\"\\nOriginal: {original}\\nCleaned : {cleaned}\")\n",
    "\n",
    "# Main workflow\n",
    "def main():\n",
    "    print(\"Generating noisy customer reviews...\")\n",
    "    df = generate_noisy_reviews()\n",
    "\n",
    "    print(\"Cleaning text data...\")\n",
    "    df_cleaned = apply_text_cleaning(df)\n",
    "\n",
    "    compare_reviews(df_cleaned)\n",
    "\n",
    "# Run script\n",
    "main()\n"
   ]
  }
 ],
 "metadata": {
  "kernelspec": {
   "display_name": "Python 3",
   "language": "python",
   "name": "python3"
  },
  "language_info": {
   "codemirror_mode": {
    "name": "ipython",
    "version": 3
   },
   "file_extension": ".py",
   "mimetype": "text/x-python",
   "name": "python",
   "nbconvert_exporter": "python",
   "pygments_lexer": "ipython3",
   "version": "3.10.12"
  }
 },
 "nbformat": 4,
 "nbformat_minor": 2
}
