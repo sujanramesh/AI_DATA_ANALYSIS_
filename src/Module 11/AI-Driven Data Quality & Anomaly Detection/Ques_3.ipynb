{
 "cells": [
  {
   "cell_type": "markdown",
   "metadata": {},
   "source": [
    "# Automated Anomaly Detection\n",
    "**Objective**: Understand and practice automated anomaly detection using various techniques.\n",
    "\n",
    "**Task**: Autoencoders for Anomaly Detection\n",
    "\n",
    "**Steps**:\n",
    "1. Data Set: Download a dataset of electricity consumption data.\n",
    "2. Build an Autoencoder: Construct a simple autoencoder using a neural network for the\n",
    "normal consumption data.\n",
    "3. Identify Anomalies: Use the trained model to reconstruct the data and identify anomalies based on reconstruction error.\n",
    "4. Visualize: Plot both the actual and reconstructed data to highlight anomalies."
   ]
  },
  {
   "cell_type": "code",
   "execution_count": null,
   "metadata": {},
   "outputs": [],
   "source": [
    "# write your code from here\n"
   ]
  },
  {
   "cell_type": "code",
   "execution_count": 1,
   "metadata": {},
   "outputs": [
    {
     "ename": "ModuleNotFoundError",
     "evalue": "No module named 'tensorflow'",
     "output_type": "error",
     "traceback": [
      "\u001b[0;31m---------------------------------------------------------------------------\u001b[0m",
      "\u001b[0;31mModuleNotFoundError\u001b[0m                       Traceback (most recent call last)",
      "Cell \u001b[0;32mIn[1], line 5\u001b[0m\n\u001b[1;32m      3\u001b[0m \u001b[38;5;28;01mimport\u001b[39;00m\u001b[38;5;250m \u001b[39m\u001b[38;5;21;01mmatplotlib\u001b[39;00m\u001b[38;5;21;01m.\u001b[39;00m\u001b[38;5;21;01mpyplot\u001b[39;00m\u001b[38;5;250m \u001b[39m\u001b[38;5;28;01mas\u001b[39;00m\u001b[38;5;250m \u001b[39m\u001b[38;5;21;01mplt\u001b[39;00m\n\u001b[1;32m      4\u001b[0m \u001b[38;5;28;01mfrom\u001b[39;00m\u001b[38;5;250m \u001b[39m\u001b[38;5;21;01msklearn\u001b[39;00m\u001b[38;5;21;01m.\u001b[39;00m\u001b[38;5;21;01mpreprocessing\u001b[39;00m\u001b[38;5;250m \u001b[39m\u001b[38;5;28;01mimport\u001b[39;00m MinMaxScaler\n\u001b[0;32m----> 5\u001b[0m \u001b[38;5;28;01mfrom\u001b[39;00m\u001b[38;5;250m \u001b[39m\u001b[38;5;21;01mtensorflow\u001b[39;00m\u001b[38;5;21;01m.\u001b[39;00m\u001b[38;5;21;01mkeras\u001b[39;00m\u001b[38;5;21;01m.\u001b[39;00m\u001b[38;5;21;01mmodels\u001b[39;00m\u001b[38;5;250m \u001b[39m\u001b[38;5;28;01mimport\u001b[39;00m Sequential\n\u001b[1;32m      6\u001b[0m \u001b[38;5;28;01mfrom\u001b[39;00m\u001b[38;5;250m \u001b[39m\u001b[38;5;21;01mtensorflow\u001b[39;00m\u001b[38;5;21;01m.\u001b[39;00m\u001b[38;5;21;01mkeras\u001b[39;00m\u001b[38;5;21;01m.\u001b[39;00m\u001b[38;5;21;01mlayers\u001b[39;00m\u001b[38;5;250m \u001b[39m\u001b[38;5;28;01mimport\u001b[39;00m Dense\n\u001b[1;32m      7\u001b[0m \u001b[38;5;28;01mfrom\u001b[39;00m\u001b[38;5;250m \u001b[39m\u001b[38;5;21;01mtensorflow\u001b[39;00m\u001b[38;5;21;01m.\u001b[39;00m\u001b[38;5;21;01mkeras\u001b[39;00m\u001b[38;5;21;01m.\u001b[39;00m\u001b[38;5;21;01moptimizers\u001b[39;00m\u001b[38;5;250m \u001b[39m\u001b[38;5;28;01mimport\u001b[39;00m Adam\n",
      "\u001b[0;31mModuleNotFoundError\u001b[0m: No module named 'tensorflow'"
     ]
    }
   ],
   "source": [
    "import numpy as np\n",
    "import pandas as pd\n",
    "import matplotlib.pyplot as plt\n",
    "from sklearn.preprocessing import MinMaxScaler\n",
    "from tensorflow.keras.models import Sequential\n",
    "from tensorflow.keras.layers import Dense\n",
    "from tensorflow.keras.optimizers import Adam\n",
    "\n",
    "# Step 1: Simulate sample electricity consumption data\n",
    "np.random.seed(42)\n",
    "normal_data = np.random.normal(loc=0.5, scale=0.1, size=500)  # Normal consumption\n",
    "anomalies = np.array([1.2, 1.3, 0.05, 1.4, 0.02])  # Injected anomalies\n",
    "consumption_data = np.concatenate([normal_data, anomalies])\n",
    "df = pd.DataFrame({'Consumption': consumption_data})\n",
    "\n",
    "# Normalize data\n",
    "scaler = MinMaxScaler()\n",
    "data_scaled = scaler.fit_transform(df[['Consumption']])\n",
    "\n",
    "# Step 2: Build a simple autoencoder\n",
    "model = Sequential([\n",
    "    Dense(8, activation='relu', input_shape=(1,)),\n",
    "    Dense(4, activation='relu'),\n",
    "    Dense(8, activation='relu'),\n",
    "    Dense(1, activation='sigmoid')\n",
    "])\n",
    "\n",
    "model.compile(optimizer=Adam(learning_rate=0.001), loss='mse')\n",
    "model.fit(data_scaled, data_scaled, epochs=50, batch_size=32, verbose=0)\n",
    "\n",
    "# Step 3: Use reconstruction error to detect anomalies\n",
    "reconstructions = model.predict(data_scaled)\n",
    "reconstruction_error = np.mean(np.square(data_scaled - reconstructions), axis=1)\n",
    "\n",
    "# Set threshold: Mean + 3*std of error from first 500 normal samples\n",
    "threshold = np.mean(reconstruction_error[:500]) + 3 * np.std(reconstruction_error[:500])\n",
    "df['ReconstructionError'] = reconstruction_error\n",
    "df['Anomaly'] = df['ReconstructionError'] > threshold\n",
    "\n",
    "# Step 4: Visualization\n",
    "plt.figure(figsize=(14, 6))\n",
    "plt.plot(df['Consumption'], label='Actual Consumption')\n",
    "plt.plot(scaler.inverse_transform(reconstructions), label='Reconstructed', alpha=0.7)\n",
    "plt.scatter(df.index[df['Anomaly']], df['Consumption'][df['Anomaly']], color='red', label='Anomalies')\n",
    "plt.title(\"Electricity Consumption with Anomalies Detected by Autoencoder\")\n",
    "plt.xlabel(\"Time Index\")\n",
    "plt.ylabel(\"Consumption\")\n",
    "plt.legend()\n",
    "plt.grid(True)\n",
    "plt.show()\n"
   ]
  }
 ],
 "metadata": {
  "kernelspec": {
   "display_name": "Python 3",
   "language": "python",
   "name": "python3"
  },
  "language_info": {
   "codemirror_mode": {
    "name": "ipython",
    "version": 3
   },
   "file_extension": ".py",
   "mimetype": "text/x-python",
   "name": "python",
   "nbconvert_exporter": "python",
   "pygments_lexer": "ipython3",
   "version": "3.10.12"
  }
 },
 "nbformat": 4,
 "nbformat_minor": 2
}
