{
 "cells": [
  {
   "cell_type": "markdown",
   "metadata": {},
   "source": [
    "# Automated Anomaly Detection\n",
    "**Objective**: Understand and practice automated anomaly detection using various techniques.\n",
    "\n",
    "**Task**: Autoencoders for Anomaly Detection\n",
    "\n",
    "**Steps**:\n",
    "1. Data Set: Download a dataset of electricity consumption data.\n",
    "2. Build an Autoencoder: Construct a simple autoencoder using a neural network for the\n",
    "normal consumption data.\n",
    "3. Identify Anomalies: Use the trained model to reconstruct the data and identify anomalies based on reconstruction error.\n",
    "4. Visualize: Plot both the actual and reconstructed data to highlight anomalies."
   ]
  },
  {
   "cell_type": "code",
   "execution_count": null,
   "metadata": {},
   "outputs": [],
   "source": [
    "# write your code from here\n"
   ]
  },
  {
   "cell_type": "code",
   "execution_count": 2,
   "metadata": {},
   "outputs": [
    {
     "ename": "ModuleNotFoundError",
     "evalue": "No module named 'tensorflow'",
     "output_type": "error",
     "traceback": [
      "\u001b[0;31m---------------------------------------------------------------------------\u001b[0m",
      "\u001b[0;31mModuleNotFoundError\u001b[0m                       Traceback (most recent call last)",
      "Cell \u001b[0;32mIn[2], line 5\u001b[0m\n\u001b[1;32m      3\u001b[0m \u001b[38;5;28;01mimport\u001b[39;00m\u001b[38;5;250m \u001b[39m\u001b[38;5;21;01mmatplotlib\u001b[39;00m\u001b[38;5;21;01m.\u001b[39;00m\u001b[38;5;21;01mpyplot\u001b[39;00m\u001b[38;5;250m \u001b[39m\u001b[38;5;28;01mas\u001b[39;00m\u001b[38;5;250m \u001b[39m\u001b[38;5;21;01mplt\u001b[39;00m\n\u001b[1;32m      4\u001b[0m \u001b[38;5;28;01mfrom\u001b[39;00m\u001b[38;5;250m \u001b[39m\u001b[38;5;21;01msklearn\u001b[39;00m\u001b[38;5;21;01m.\u001b[39;00m\u001b[38;5;21;01mpreprocessing\u001b[39;00m\u001b[38;5;250m \u001b[39m\u001b[38;5;28;01mimport\u001b[39;00m MinMaxScaler\n\u001b[0;32m----> 5\u001b[0m \u001b[38;5;28;01mfrom\u001b[39;00m\u001b[38;5;250m \u001b[39m\u001b[38;5;21;01mtensorflow\u001b[39;00m\u001b[38;5;21;01m.\u001b[39;00m\u001b[38;5;21;01mkeras\u001b[39;00m\u001b[38;5;21;01m.\u001b[39;00m\u001b[38;5;21;01mmodels\u001b[39;00m\u001b[38;5;250m \u001b[39m\u001b[38;5;28;01mimport\u001b[39;00m Sequential\n\u001b[1;32m      6\u001b[0m \u001b[38;5;28;01mfrom\u001b[39;00m\u001b[38;5;250m \u001b[39m\u001b[38;5;21;01mtensorflow\u001b[39;00m\u001b[38;5;21;01m.\u001b[39;00m\u001b[38;5;21;01mkeras\u001b[39;00m\u001b[38;5;21;01m.\u001b[39;00m\u001b[38;5;21;01mlayers\u001b[39;00m\u001b[38;5;250m \u001b[39m\u001b[38;5;28;01mimport\u001b[39;00m Dense\n\u001b[1;32m      7\u001b[0m \u001b[38;5;28;01mfrom\u001b[39;00m\u001b[38;5;250m \u001b[39m\u001b[38;5;21;01mtensorflow\u001b[39;00m\u001b[38;5;21;01m.\u001b[39;00m\u001b[38;5;21;01mkeras\u001b[39;00m\u001b[38;5;21;01m.\u001b[39;00m\u001b[38;5;21;01moptimizers\u001b[39;00m\u001b[38;5;250m \u001b[39m\u001b[38;5;28;01mimport\u001b[39;00m Adam\n",
      "\u001b[0;31mModuleNotFoundError\u001b[0m: No module named 'tensorflow'"
     ]
    }
   ],
   "source": [
    "import numpy as np\n",
    "import pandas as pd\n",
    "import matplotlib.pyplot as plt\n",
    "from sklearn.preprocessing import MinMaxScaler\n",
    "from tensorflow.keras.models import Sequential\n",
    "from tensorflow.keras.layers import Dense\n",
    "from tensorflow.keras.optimizers import Adam\n",
    "\n",
    "# --------- Function: Generate Data ---------\n",
    "def generate_data(n_normal=500, anomalies=None, seed=42):\n",
    "    np.random.seed(seed)\n",
    "    normal = np.random.normal(loc=0.5, scale=0.1, size=n_normal)\n",
    "    if anomalies is None:\n",
    "        anomalies = [1.2, 1.3, 0.05, 1.4, 0.02]\n",
    "    data = np.concatenate([normal, anomalies])\n",
    "    return pd.DataFrame({'Consumption': data})\n",
    "\n",
    "# --------- Function: Build Autoencoder ---------\n",
    "def build_autoencoder(input_dim):\n",
    "    model = Sequential([\n",
    "        Dense(8, activation='relu', input_shape=(input_dim,)),\n",
    "        Dense(4, activation='relu'),\n",
    "        Dense(8, activation='relu'),\n",
    "        Dense(input_dim, activation='sigmoid')\n",
    "    ])\n",
    "    model.compile(optimizer=Adam(0.001), loss='mse')\n",
    "    return model\n",
    "\n",
    "# --------- Function: Detect Anomalies ---------\n",
    "def detect_anomalies(data, model, scaler, error_threshold=None):\n",
    "    scaled = scaler.transform(data)\n",
    "    reconstructed = model.predict(scaled)\n",
    "    errors = np.mean(np.square(scaled - reconstructed), axis=1)\n",
    "    \n",
    "    if error_threshold is None:\n",
    "        error_threshold = np.mean(errors[:500]) + 3 * np.std(errors[:500])\n",
    "\n",
    "    return errors, errors > error_threshold\n",
    "\n",
    "# --------- Function: Visualize ---------\n",
    "def visualize_anomalies(df, reconstructed, is_anomaly):\n",
    "    plt.figure(figsize=(14, 6))\n",
    "    plt.plot(df['Consumption'], label='Actual')\n",
    "    plt.plot(reconstructed, label='Reconstructed', alpha=0.7)\n",
    "    plt.scatter(df.index[is_anomaly], df['Consumption'][is_anomaly], color='red', label='Anomalies')\n",
    "    plt.title(\"Autoencoder Anomaly Detection\")\n",
    "    plt.xlabel(\"Time Index\")\n",
    "    plt.ylabel(\"Electricity Consumption\")\n",
    "    plt.legend()\n",
    "    plt.grid(True)\n",
    "    plt.show()\n",
    "\n",
    "# --------- Main Pipeline ---------\n",
    "def main():\n",
    "    df = generate_data()\n",
    "    \n",
    "    # Sanity Check: Unit Testing\n",
    "    assert not df.isnull().values.any(), \"Missing values in data\"\n",
    "    assert 'Consumption' in df.columns, \"'Consumption' column missing\"\n",
    "    \n",
    "    scaler = MinMaxScaler()\n",
    "    scaled_data = scaler.fit_transform(df[['Consumption']])\n",
    "    \n",
    "    autoencoder = build_autoencoder(input_dim=1)\n",
    "    autoencoder.fit(scaled_data, scaled_data, epochs=50, batch_size=32, verbose=0)\n",
    "\n",
    "    errors, anomalies = detect_anomalies(df[['Consumption']], autoencoder, scaler)\n",
    "    df['ReconstructionError'] = errors\n",
    "    df['Anomaly'] = anomalies\n",
    "\n",
    "    reconstructed_unscaled = scaler.inverse_transform(autoencoder.predict(scaled_data))\n",
    "    visualize_anomalies(df, reconstructed_unscaled, df['Anomaly'])\n",
    "\n",
    "    print(f\"Total Anomalies Detected: {df['Anomaly'].sum()}\")\n",
    "\n",
    "# Run the modular pipeline\n",
    "main()\n"
   ]
  }
 ],
 "metadata": {
  "kernelspec": {
   "display_name": "Python 3",
   "language": "python",
   "name": "python3"
  },
  "language_info": {
   "codemirror_mode": {
    "name": "ipython",
    "version": 3
   },
   "file_extension": ".py",
   "mimetype": "text/x-python",
   "name": "python",
   "nbconvert_exporter": "python",
   "pygments_lexer": "ipython3",
   "version": "3.10.12"
  }
 },
 "nbformat": 4,
 "nbformat_minor": 2
}
