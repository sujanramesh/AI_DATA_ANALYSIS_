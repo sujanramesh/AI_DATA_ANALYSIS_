{
 "cells": [
  {
   "cell_type": "markdown",
   "metadata": {},
   "source": [
    "# Data Deduplication using Clustering\n",
    "**Objective**: Learn and implement data deduplication techniques.\n",
    "\n",
    "**Task**: Deduplication Using K-means Clustering\n",
    "\n",
    "**Steps**:\n",
    "1. Data Set: Download a dataset containing duplicate customer records.\n",
    "2. Preprocess: Standardize the data to ensure better clustering.\n",
    "3. Apply K-means: Use K-means clustering to find and group similar customer records.\n",
    "4. Identify Duplicates: Identify and remove duplicates within clusters."
   ]
  },
  {
   "cell_type": "code",
   "execution_count": null,
   "metadata": {},
   "outputs": [],
   "source": [
    "# write your code from here\n"
   ]
  },
  {
   "cell_type": "code",
   "execution_count": 1,
   "metadata": {},
   "outputs": [
    {
     "name": "stdout",
     "output_type": "stream",
     "text": [
      "Original Data:\n",
      "       Name             Email Phone\n",
      "0    Alice    alice@mail.com   123\n",
      "1      Bob      bob@mail.com   456\n",
      "2  Charlie  charlie@mail.com   789\n",
      "3    Alice    alice@mail.com   123\n",
      "4      Bob      bob@mail.com   456\n",
      "5    David    david@mail.com   321\n",
      "6  Charlie  charlie@mail.com   789\n",
      "7      Eve      eve@mail.com   654\n",
      "8    Frank    frank@mail.com   987\n",
      "9      Eve      eve@mail.com   654\n",
      "\n",
      "Deduplicated Data:\n",
      "       Name             Email Phone\n",
      "0    Alice    alice@mail.com   123\n",
      "7      Eve      eve@mail.com   654\n",
      "2  Charlie  charlie@mail.com   789\n",
      "1      Bob      bob@mail.com   456\n",
      "8    Frank    frank@mail.com   987\n"
     ]
    }
   ],
   "source": [
    "import pandas as pd\n",
    "import numpy as np\n",
    "from sklearn.preprocessing import StandardScaler\n",
    "from sklearn.cluster import KMeans\n",
    "from sklearn.metrics import pairwise_distances_argmin_min\n",
    "import random\n",
    "\n",
    "# Step 1: Simulate sample customer dataset with duplicates\n",
    "def generate_customer_data():\n",
    "    data = {\n",
    "        'Name': ['Alice', 'Bob', 'Charlie', 'Alice', 'Bob', 'David', 'Charlie', 'Eve', 'Frank', 'Eve'],\n",
    "        'Email': [\n",
    "            'alice@mail.com', 'bob@mail.com', 'charlie@mail.com', 'alice@mail.com',\n",
    "            'bob@mail.com', 'david@mail.com', 'charlie@mail.com', 'eve@mail.com',\n",
    "            'frank@mail.com', 'eve@mail.com'\n",
    "        ],\n",
    "        'Phone': [\n",
    "            '123', '456', '789', '123', '456', '321', '789', '654', '987', '654'\n",
    "        ]\n",
    "    }\n",
    "    return pd.DataFrame(data)\n",
    "\n",
    "# Step 2: Preprocess and standardize the data\n",
    "def preprocess_data(df):\n",
    "    df_numeric = df[['Phone']].astype(float)\n",
    "    scaler = StandardScaler()\n",
    "    scaled_data = scaler.fit_transform(df_numeric)\n",
    "    return scaled_data, scaler\n",
    "\n",
    "# Step 3: Apply K-means clustering\n",
    "def cluster_data(scaled_data, k=5):\n",
    "    kmeans = KMeans(n_clusters=k, random_state=42)\n",
    "    kmeans.fit(scaled_data)\n",
    "    return kmeans.labels_, kmeans\n",
    "\n",
    "# Step 4: Identify duplicates within each cluster\n",
    "def deduplicate(df, labels, scaled_data):\n",
    "    df['Cluster'] = labels\n",
    "    unique_records = []\n",
    "\n",
    "    for cluster in np.unique(labels):\n",
    "        cluster_indices = df[df['Cluster'] == cluster].index\n",
    "        cluster_data = scaled_data[cluster_indices]\n",
    "        closest, _ = pairwise_distances_argmin_min(\n",
    "            cluster_data,\n",
    "            [np.mean(cluster_data, axis=0)]\n",
    "        )\n",
    "        unique_index = cluster_indices[closest[0]]\n",
    "        unique_records.append(df.loc[unique_index])\n",
    "\n",
    "    dedup_df = pd.DataFrame(unique_records).drop(columns='Cluster')\n",
    "    return dedup_df\n",
    "\n",
    "# -------- Main Function --------\n",
    "def main():\n",
    "    df = generate_customer_data()\n",
    "    print(\"Original Data:\\n\", df)\n",
    "\n",
    "    scaled_data, scaler = preprocess_data(df)\n",
    "    labels, kmeans = cluster_data(scaled_data, k=5)\n",
    "    deduplicated_df = deduplicate(df, labels, scaled_data)\n",
    "\n",
    "    print(\"\\nDeduplicated Data:\\n\", deduplicated_df)\n",
    "\n",
    "# Run the full process\n",
    "main()\n"
   ]
  }
 ],
 "metadata": {
  "kernelspec": {
   "display_name": "Python 3",
   "language": "python",
   "name": "python3"
  },
  "language_info": {
   "codemirror_mode": {
    "name": "ipython",
    "version": 3
   },
   "file_extension": ".py",
   "mimetype": "text/x-python",
   "name": "python",
   "nbconvert_exporter": "python",
   "pygments_lexer": "ipython3",
   "version": "3.10.12"
  }
 },
 "nbformat": 4,
 "nbformat_minor": 2
}
