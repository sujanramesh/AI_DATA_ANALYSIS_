{
 "cells": [
  {
   "cell_type": "markdown",
   "metadata": {},
   "source": [
    "### Implementing Data Validation using Protobuf in a Distributed System\n",
    "**Description**: Use gRPC to implement a distributed system that validates messages using\n",
    "Protobuf.\n",
    "\n",
    "**Steps**:\n",
    "1. Create a .proto file for gRPC service.\n",
    "2. Implement server-side validation\n",
    "    - Create a gRPC server\n",
    "    - Bind the server to an address\n",
    "    - Start server"
   ]
  },
  {
   "cell_type": "code",
   "execution_count": null,
   "metadata": {},
   "outputs": [],
   "source": [
    "# Write your code from here"
   ]
  },
  {
   "cell_type": "code",
   "execution_count": 1,
   "metadata": {},
   "outputs": [
    {
     "name": "stdout",
     "output_type": "stream",
     "text": [
      "Defaulting to user installation because normal site-packages is not writeable\n",
      "Collecting grpcio\n",
      "  Downloading grpcio-1.71.0-cp310-cp310-manylinux_2_17_x86_64.manylinux2014_x86_64.whl (5.9 MB)\n",
      "\u001b[2K     \u001b[90m━━━━━━━━━━━━━━━━━━━━━━━━━━━━━━━━━━━━━━━━\u001b[0m \u001b[32m5.9/5.9 MB\u001b[0m \u001b[31m13.6 MB/s\u001b[0m eta \u001b[36m0:00:00\u001b[0m00:01\u001b[0m00:01\u001b[0m\n",
      "\u001b[?25hCollecting grpcio-tools\n",
      "  Downloading grpcio_tools-1.71.0-cp310-cp310-manylinux_2_17_x86_64.manylinux2014_x86_64.whl (2.5 MB)\n",
      "\u001b[2K     \u001b[90m━━━━━━━━━━━━━━━━━━━━━━━━━━━━━━━━━━━━━━━━\u001b[0m \u001b[32m2.5/2.5 MB\u001b[0m \u001b[31m43.4 MB/s\u001b[0m eta \u001b[36m0:00:00\u001b[0m:00:01\u001b[0m\n",
      "\u001b[?25hRequirement already satisfied: setuptools in /usr/local/lib/python3.10/site-packages (from grpcio-tools) (67.8.0)\n",
      "Collecting protobuf<6.0dev,>=5.26.1\n",
      "  Downloading protobuf-5.29.4-cp38-abi3-manylinux2014_x86_64.whl (319 kB)\n",
      "\u001b[2K     \u001b[90m━━━━━━━━━━━━━━━━━━━━━━━━━━━━━━━━━━━━━━\u001b[0m \u001b[32m319.7/319.7 kB\u001b[0m \u001b[31m36.2 MB/s\u001b[0m eta \u001b[36m0:00:00\u001b[0m\n",
      "\u001b[?25hInstalling collected packages: protobuf, grpcio, grpcio-tools\n",
      "  Attempting uninstall: protobuf\n",
      "    Found existing installation: protobuf 6.31.0\n",
      "    Uninstalling protobuf-6.31.0:\n",
      "      Successfully uninstalled protobuf-6.31.0\n",
      "Successfully installed grpcio-1.71.0 grpcio-tools-1.71.0 protobuf-5.29.4\n",
      "\n",
      "\u001b[1m[\u001b[0m\u001b[34;49mnotice\u001b[0m\u001b[1;39;49m]\u001b[0m\u001b[39;49m A new release of pip is available: \u001b[0m\u001b[31;49m23.0.1\u001b[0m\u001b[39;49m -> \u001b[0m\u001b[32;49m25.1.1\u001b[0m\n",
      "\u001b[1m[\u001b[0m\u001b[34;49mnotice\u001b[0m\u001b[1;39;49m]\u001b[0m\u001b[39;49m To update, run: \u001b[0m\u001b[32;49mpip install --upgrade pip\u001b[0m\n",
      "Note: you may need to restart the kernel to use updated packages.\n"
     ]
    }
   ],
   "source": [
    "pip install grpcio grpcio-tools\n"
   ]
  },
  {
   "cell_type": "code",
   "execution_count": 2,
   "metadata": {},
   "outputs": [
    {
     "name": "stdout",
     "output_type": "stream",
     "text": [
      "🟢 gRPC server started on port 50051\n",
      "🛑 Server stopped\n"
     ]
    }
   ],
   "source": [
    "import os\n",
    "import sys\n",
    "import time\n",
    "import grpc\n",
    "from concurrent import futures\n",
    "\n",
    "# Dynamically create the .proto file\n",
    "proto_code = \"\"\"\n",
    "syntax = \"proto3\";\n",
    "package validation;\n",
    "\n",
    "service Validator {\n",
    "  rpc Validate (ValidationRequest) returns (ValidationResponse);\n",
    "}\n",
    "\n",
    "message ValidationRequest {\n",
    "  string name = 1;\n",
    "  int32 age = 2;\n",
    "}\n",
    "\n",
    "message ValidationResponse {\n",
    "  bool is_valid = 1;\n",
    "  string message = 2;\n",
    "}\n",
    "\"\"\"\n",
    "\n",
    "# Save .proto to disk\n",
    "proto_filename = \"validation.proto\"\n",
    "with open(proto_filename, \"w\") as f:\n",
    "    f.write(proto_code)\n",
    "\n",
    "# Generate Python gRPC code\n",
    "from grpc_tools import protoc\n",
    "protoc.main((\n",
    "    '',\n",
    "    f'-I.',\n",
    "    f'--python_out=.',\n",
    "    f'--grpc_python_out=.',\n",
    "    proto_filename,\n",
    "))\n",
    "\n",
    "# Import generated modules\n",
    "import validation_pb2\n",
    "import validation_pb2_grpc\n",
    "\n",
    "\n",
    "# Server implementation\n",
    "class ValidatorServicer(validation_pb2_grpc.ValidatorServicer):\n",
    "    def Validate(self, request, context):\n",
    "        print(f\"Received: name={request.name}, age={request.age}\")\n",
    "        if not request.name or request.age < 0:\n",
    "            return validation_pb2.ValidationResponse(\n",
    "                is_valid=False,\n",
    "                message=\"❌ Invalid input: name required, age must be >= 0\"\n",
    "            )\n",
    "        return validation_pb2.ValidationResponse(\n",
    "            is_valid=True,\n",
    "            message=\"✅ Validation successful\"\n",
    "        )\n",
    "\n",
    "\n",
    "def serve():\n",
    "    server = grpc.server(futures.ThreadPoolExecutor(max_workers=10))\n",
    "    validation_pb2_grpc.add_ValidatorServicer_to_server(ValidatorServicer(), server)\n",
    "    server.add_insecure_port('[::]:50051')\n",
    "    server.start()\n",
    "    print(\"🟢 gRPC server started on port 50051\")\n",
    "    try:\n",
    "        while True:\n",
    "            time.sleep(86400)\n",
    "    except KeyboardInterrupt:\n",
    "        print(\"🛑 Server stopped\")\n",
    "        server.stop(0)\n",
    "\n",
    "\n",
    "if __name__ == \"__main__\":\n",
    "    serve()\n"
   ]
  }
 ],
 "metadata": {
  "kernelspec": {
   "display_name": "Python 3",
   "language": "python",
   "name": "python3"
  },
  "language_info": {
   "codemirror_mode": {
    "name": "ipython",
    "version": 3
   },
   "file_extension": ".py",
   "mimetype": "text/x-python",
   "name": "python",
   "nbconvert_exporter": "python",
   "pygments_lexer": "ipython3",
   "version": "3.10.12"
  }
 },
 "nbformat": 4,
 "nbformat_minor": 2
}
