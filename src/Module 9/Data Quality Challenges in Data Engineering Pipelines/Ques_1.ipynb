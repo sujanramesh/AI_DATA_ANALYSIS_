{
 "cells": [
  {
   "cell_type": "markdown",
   "metadata": {},
   "source": [
    "### Task 1: Detecting Missing Values during Data Ingestion\n",
    "**Description**: You have a CSV file with missing values in some columns. Write a Python script to detect and report missing values during the ingestion process.\n",
    "\n",
    "**Steps**:\n",
    "1. Load data\n",
    "2. Check for missing values\n",
    "3. Report missing values"
   ]
  },
  {
   "cell_type": "code",
   "execution_count": null,
   "metadata": {},
   "outputs": [],
   "source": [
    "# Write your code from here"
   ]
  },
  {
   "cell_type": "markdown",
   "metadata": {},
   "source": [
    "### Task 2: Validate Data Types during Extraction\n",
    "**Description**: You have a JSON file that should have specific data types for each field. Write a script to validate if the data types match the expected schema.\n",
    "\n",
    "**Steps**:\n",
    "1. Define expected schema\n",
    "2. Validate data types"
   ]
  },
  {
   "cell_type": "code",
   "execution_count": null,
   "metadata": {},
   "outputs": [],
   "source": [
    "# Write your code from here"
   ]
  },
  {
   "cell_type": "markdown",
   "metadata": {},
   "source": [
    "### Task 3: Remove Duplicate Records in Data\n",
    "**Description**: You have a dataset with duplicate entries. Write a Python script to find and remove duplicate records using Pandas.\n",
    "\n",
    "**Steps**:\n",
    "1. Find duplicate records\n",
    "2. Remove duplicates\n",
    "3. Report results"
   ]
  },
  {
   "cell_type": "code",
   "execution_count": null,
   "metadata": {},
   "outputs": [],
   "source": [
    "# Write your code from here"
   ]
  },
  {
   "cell_type": "code",
   "execution_count": 1,
   "metadata": {},
   "outputs": [
    {
     "name": "stdout",
     "output_type": "stream",
     "text": [
      "Step 1: Data Loaded Successfully.\n",
      "\n",
      "Original DataFrame Head:\n",
      "   id     name   age         city   salary\n",
      "0   1    Alice  30.0     New York  50000.0\n",
      "1   2      Bob   NaN  Los Angeles  60000.0\n",
      "2   3  Charlie  25.0      Chicago      NaN\n",
      "3   4    David  35.0      Houston  75000.0\n",
      "4   5      Eve  28.0          NaN  55000.0\n",
      "\n",
      "Step 3: Reporting Missing Values:\n",
      "Missing values detected per column:\n",
      "age       2\n",
      "city      1\n",
      "salary    2\n",
      "dtype: int64\n"
     ]
    }
   ],
   "source": [
    "import pandas as pd\n",
    "import io\n",
    "\n",
    "# Task 1: Detecting Missing Values during Data Ingestion\n",
    "# Description: This script loads data from a CSV, detects, and reports missing values.\n",
    "\n",
    "# Step 1: Create a dummy CSV file content with missing values\n",
    "# This simulates a CSV file that would be ingested.\n",
    "csv_data = \"\"\"\n",
    "id,name,age,city,salary\n",
    "1,Alice,30,New York,50000\n",
    "2,Bob,,Los Angeles,60000\n",
    "3,Charlie,25,Chicago,\n",
    "4,David,35,Houston,75000\n",
    "5,Eve,28,,55000\n",
    "6,Frank,40,Miami,\n",
    "7,Grace,,Boston,70000\n",
    "\"\"\"\n",
    "\n",
    "# Use io.StringIO to simulate reading from a file\n",
    "try:\n",
    "    df = pd.read_csv(io.StringIO(csv_data))\n",
    "    print(\"Step 1: Data Loaded Successfully.\")\n",
    "    print(\"\\nOriginal DataFrame Head:\")\n",
    "    print(df.head())\n",
    "\n",
    "    # Step 2: Check for missing values\n",
    "    # isnull() returns a boolean DataFrame indicating missing values (True for NaN/None)\n",
    "    # sum() counts the number of True values (i.e., missing values) for each column\n",
    "    missing_values = df.isnull().sum()\n",
    "\n",
    "    # Step 3: Report missing values\n",
    "    print(\"\\nStep 3: Reporting Missing Values:\")\n",
    "    if missing_values.sum() == 0:\n",
    "        print(\"No missing values detected in the dataset.\")\n",
    "    else:\n",
    "        print(\"Missing values detected per column:\")\n",
    "        # Filter to show only columns with missing values\n",
    "        print(missing_values[missing_values > 0])\n",
    "\n",
    "except Exception as e:\n",
    "    print(f\"An error occurred during missing value detection: {e}\")\n",
    "\n"
   ]
  }
 ],
 "metadata": {
  "kernelspec": {
   "display_name": "Python 3",
   "language": "python",
   "name": "python3"
  },
  "language_info": {
   "codemirror_mode": {
    "name": "ipython",
    "version": 3
   },
   "file_extension": ".py",
   "mimetype": "text/x-python",
   "name": "python",
   "nbconvert_exporter": "python",
   "pygments_lexer": "ipython3",
   "version": "3.10.12"
  }
 },
 "nbformat": 4,
 "nbformat_minor": 2
}
