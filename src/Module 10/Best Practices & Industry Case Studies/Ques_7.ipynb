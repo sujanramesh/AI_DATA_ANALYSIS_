{
 "cells": [
  {
   "cell_type": "markdown",
   "metadata": {},
   "source": [
    "### Implementing and Logging an ML Experiment with MLFlow\n",
    "**Description**: Train an ML model for an e-commerce recommendation engine using MLFlow to track models and experiments.\n",
    "\n",
    "**Steps**:\n",
    "1. MLFlow Integration Setup\n",
    "2. Training the Model\n",
    "3. Logging the Experiment\n",
    "4. Accessing MLFlow UI"
   ]
  },
  {
   "cell_type": "code",
   "execution_count": null,
   "metadata": {},
   "outputs": [],
   "source": [
    "# write your code from here"
   ]
  },
  {
   "cell_type": "code",
   "execution_count": 1,
   "metadata": {},
   "outputs": [
    {
     "name": "stderr",
     "output_type": "stream",
     "text": [
      "\u001b[31m2025/05/28 15:44:49 WARNING mlflow.models.model: Model logged without a signature and input example. Please set `input_example` parameter when logging the model to auto infer the model signature.\u001b[0m\n",
      "INFO:root:✅ Experiment completed - Accuracy: 0.600, AUC: 0.386\n"
     ]
    },
    {
     "name": "stdout",
     "output_type": "stream",
     "text": [
      "To view results, run 'mlflow ui' in your terminal and open http://localhost:5000\n"
     ]
    }
   ],
   "source": [
    "import mlflow\n",
    "import mlflow.sklearn\n",
    "import pandas as pd\n",
    "import numpy as np\n",
    "import logging\n",
    "from sklearn.model_selection import train_test_split\n",
    "from sklearn.ensemble import GradientBoostingClassifier\n",
    "from sklearn.metrics import accuracy_score, roc_auc_score\n",
    "\n",
    "# Configure logging\n",
    "logging.basicConfig(level=logging.INFO)\n",
    "\n",
    "# Step 1: Generate Sample Data (E-commerce click prediction)\n",
    "def generate_sample_data():\n",
    "    np.random.seed(42)\n",
    "    n_samples = 500\n",
    "\n",
    "    data = pd.DataFrame({\n",
    "        'price': np.random.uniform(10, 1000, n_samples),\n",
    "        'user_rating': np.random.uniform(1, 5, n_samples),\n",
    "        'time_on_site': np.random.uniform(1, 30, n_samples),\n",
    "        'clicked': np.random.choice([0, 1], size=n_samples, p=[0.7, 0.3])  # target\n",
    "    })\n",
    "\n",
    "    assert not data.isnull().any().any(), \"Missing data found\"\n",
    "    assert (data[['price', 'user_rating', 'time_on_site']] >= 0).all().all(), \"Negative values found\"\n",
    "    return data\n",
    "\n",
    "# Step 2: Split Data\n",
    "def prepare_data(data):\n",
    "    X = data[['price', 'user_rating', 'time_on_site']]\n",
    "    y = data['clicked']\n",
    "    return train_test_split(X, y, test_size=0.2, random_state=42)\n",
    "\n",
    "# Step 3: Train & Log with MLflow\n",
    "def run_experiment():\n",
    "    data = generate_sample_data()\n",
    "    X_train, X_test, y_train, y_test = prepare_data(data)\n",
    "\n",
    "    with mlflow.start_run(run_name=\"ecommerce_recommendation\"):\n",
    "        try:\n",
    "            model = GradientBoostingClassifier(n_estimators=100, max_depth=4, learning_rate=0.1)\n",
    "            model.fit(X_train, y_train)\n",
    "            y_pred = model.predict(X_test)\n",
    "            y_proba = model.predict_proba(X_test)[:, 1]\n",
    "\n",
    "            acc = accuracy_score(y_test, y_pred)\n",
    "            auc = roc_auc_score(y_test, y_proba)\n",
    "\n",
    "            # Log params and metrics\n",
    "            mlflow.log_param(\"model_type\", \"GradientBoostingClassifier\")\n",
    "            mlflow.log_param(\"n_estimators\", 100)\n",
    "            mlflow.log_param(\"max_depth\", 4)\n",
    "            mlflow.log_param(\"learning_rate\", 0.1)\n",
    "\n",
    "            mlflow.log_metric(\"accuracy\", acc)\n",
    "            mlflow.log_metric(\"roc_auc\", auc)\n",
    "\n",
    "            # Log model\n",
    "            mlflow.sklearn.log_model(model, \"ecommerce_model\")\n",
    "\n",
    "            logging.info(f\"✅ Experiment completed - Accuracy: {acc:.3f}, AUC: {auc:.3f}\")\n",
    "\n",
    "        except Exception as e:\n",
    "            logging.error(f\"❌ Experiment failed: {e}\")\n",
    "\n",
    "# Step 4: Run the complete pipeline\n",
    "if __name__ == \"__main__\":\n",
    "    run_experiment()\n",
    "    print(\"To view results, run 'mlflow ui' in your terminal and open http://localhost:5000\")\n"
   ]
  }
 ],
 "metadata": {
  "kernelspec": {
   "display_name": "Python 3",
   "language": "python",
   "name": "python3"
  },
  "language_info": {
   "codemirror_mode": {
    "name": "ipython",
    "version": 3
   },
   "file_extension": ".py",
   "mimetype": "text/x-python",
   "name": "python",
   "nbconvert_exporter": "python",
   "pygments_lexer": "ipython3",
   "version": "3.10.12"
  }
 },
 "nbformat": 4,
 "nbformat_minor": 2
}
