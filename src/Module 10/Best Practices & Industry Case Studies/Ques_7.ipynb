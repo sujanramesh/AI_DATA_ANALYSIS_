{
 "cells": [
  {
   "cell_type": "markdown",
   "metadata": {},
   "source": [
    "### Implementing and Logging an ML Experiment with MLFlow\n",
    "**Description**: Train an ML model for an e-commerce recommendation engine using MLFlow to track models and experiments.\n",
    "\n",
    "**Steps**:\n",
    "1. MLFlow Integration Setup\n",
    "2. Training the Model\n",
    "3. Logging the Experiment\n",
    "4. Accessing MLFlow UI"
   ]
  },
  {
   "cell_type": "code",
   "execution_count": null,
   "metadata": {},
   "outputs": [],
   "source": [
    "# write your code from here"
   ]
  },
  {
   "cell_type": "code",
   "execution_count": 2,
   "metadata": {},
   "outputs": [],
   "source": [
    "def validate_data(df):\n",
    "    \"\"\"Check for expected columns and valid values.\"\"\"\n",
    "    required_columns = ['price', 'user_rating', 'time_on_site', 'clicked']\n",
    "    for col in required_columns:\n",
    "        if col not in df.columns:\n",
    "            raise ValueError(f\"Missing required column: {col}\")\n",
    "        if df[col].isnull().any():\n",
    "            raise ValueError(f\"Column '{col}' contains null values.\")\n",
    "        if (df[col] < 0).any():\n",
    "            raise ValueError(f\"Column '{col}' contains negative values.\")\n",
    "\n",
    "    if not df['clicked'].isin([0, 1]).all():\n",
    "        raise ValueError(\"'clicked' column must contain only 0 or 1.\")\n",
    "    return True\n",
    "\n",
    "\n",
    "def run_experiment():\n",
    "    try:\n",
    "        data = generate_sample_data()\n",
    "        validate_data(data)\n",
    "        X_train, X_test, y_train, y_test = prepare_data(data)\n",
    "\n",
    "        with mlflow.start_run(run_name=\"ecommerce_recommendation\"):\n",
    "            model = GradientBoostingClassifier(n_estimators=100, max_depth=4, learning_rate=0.1)\n",
    "            model.fit(X_train, y_train)\n",
    "\n",
    "            y_pred = model.predict(X_test)\n",
    "            y_proba = model.predict_proba(X_test)[:, 1]\n",
    "\n",
    "            acc = accuracy_score(y_test, y_pred)\n",
    "            auc = roc_auc_score(y_test, y_proba)\n",
    "\n",
    "            mlflow.log_params({\n",
    "                \"n_estimators\": 100,\n",
    "                \"max_depth\": 4,\n",
    "                \"learning_rate\": 0.1\n",
    "            })\n",
    "            mlflow.log_metrics({\"accuracy\": acc, \"roc_auc\": auc})\n",
    "            mlflow.sklearn.log_model(model, \"ecommerce_model\")\n",
    "            logging.info(f\"✅ Accuracy: {acc:.3f}, AUC: {auc:.3f}\")\n",
    "\n",
    "    except Exception as e:\n",
    "        logging.error(f\"❌ Experiment failed: {e}\")\n"
   ]
  },
  {
   "cell_type": "code",
   "execution_count": null,
   "metadata": {},
   "outputs": [
    {
     "name": "stderr",
     "output_type": "stream",
     "text": [
      "...\n",
      "----------------------------------------------------------------------\n",
      "Ran 3 tests in 0.063s\n",
      "\n",
      "OK\n"
     ]
    }
   ],
   "source": [
    "import unittest\n",
    "\n",
    "class TestMLPipeline(unittest.TestCase):\n",
    "\n",
    "    def test_generate_sample_data(self):\n",
    "        df = generate_sample_data()\n",
    "        self.assertFalse(df.isnull().any().any())\n",
    "        self.assertTrue((df[['price', 'user_rating', 'time_on_site']] >= 0).all().all())\n",
    "        self.assertTrue(set(df['clicked'].unique()).issubset({0, 1}))\n",
    "\n",
    "    def test_validate_data(self):\n",
    "        df = generate_sample_data()\n",
    "        self.assertTrue(validate_data(df))\n",
    "        \n",
    "        with self.assertRaises(ValueError):\n",
    "            df_missing = df.drop(columns=['price'])\n",
    "            validate_data(df_missing)\n",
    "\n",
    "        with self.assertRaises(ValueError):\n",
    "            df_invalid = df.copy()\n",
    "            df_invalid.loc[0, 'clicked'] = 2\n",
    "            validate_data(df_invalid)\n",
    "\n",
    "    def test_prepare_data(self):\n",
    "        df = generate_sample_data()\n",
    "        X_train, X_test, y_train, y_test = prepare_data(df)\n",
    "        self.assertEqual(len(X_train) + len(X_test), len(df))\n",
    "\n",
    "if __name__ == \"__main__\":\n",
    "    unittest.main(argv=['first-arg-is-ignored'], exit=False)\n"
   ]
  }
 ],
 "metadata": {
  "kernelspec": {
   "display_name": "Python 3",
   "language": "python",
   "name": "python3"
  },
  "language_info": {
   "codemirror_mode": {
    "name": "ipython",
    "version": 3
   },
   "file_extension": ".py",
   "mimetype": "text/x-python",
   "name": "python",
   "nbconvert_exporter": "python",
   "pygments_lexer": "ipython3",
   "version": "3.10.12"
  }
 },
 "nbformat": 4,
 "nbformat_minor": 2
}
