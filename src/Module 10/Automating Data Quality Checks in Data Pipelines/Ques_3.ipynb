{
 "cells": [
  {
   "cell_type": "markdown",
   "metadata": {},
   "source": [
    "## Automated Data Quality Monitoring\n",
    "**Objective**: Use Great Expectations to perform data profiling and write validation rules.\n",
    "\n",
    "1. Data Profiling with Great Expectations\n",
    "\n",
    "### Profile a JSON dataset with product sales data to check for null values in the 'ProductID' and 'Price' fields.\n",
    "- Create an expectation suite and connect it to the data context.\n",
    "- Use the `expect_column_values_to_not_be_null` expectation to profile these fields.\n",
    "- Review the summary to identify any unexpected null values."
   ]
  },
  {
   "cell_type": "code",
   "execution_count": null,
   "metadata": {},
   "outputs": [],
   "source": [
    "# write your code from here"
   ]
  },
  {
   "cell_type": "code",
   "execution_count": null,
   "metadata": {},
   "outputs": [],
   "source": [
    "import great_expectations as ge\n",
    "from great_expectations.data_context import BaseDataContext\n",
    "import pandas as pd\n",
    "import os\n",
    "import json\n",
    "\n",
    "# Step 1: Create sample JSON data\n",
    "json_data = [\n",
    "    {\"ProductID\": 101, \"Price\": 20.5},\n",
    "    {\"ProductID\": 102, \"Price\": 35.0},\n",
    "    {\"ProductID\": None, \"Price\": 15.0},     # Null ProductID\n",
    "    {\"ProductID\": 104, \"Price\": None}       # Null Price\n",
    "]\n",
    "\n",
    "# Save as JSON file\n",
    "json_file = \"sales_data.json\"\n",
    "with open(json_file, \"w\") as f:\n",
    "    json.dump(json_data, f)\n",
    "\n",
    "# Load JSON into DataFrame\n",
    "df = pd.read_json(json_file)\n",
    "\n",
    "# Convert to GE DataFrame\n",
    "ge_df = ge.from_pandas(df)\n",
    "\n",
    "# Step 2: Create expectation suite\n",
    "suite_name = \"product_sales_suite\"\n",
    "context = ge.get_context()\n",
    "context.create_expectation_suite(suite_name, overwrite_existing=True)\n",
    "\n",
    "# Step 3: Add expectations to check for nulls\n",
    "ge_df.expect_column_values_to_not_be_null(\"ProductID\")\n",
    "ge_df.expect_column_values_to_not_be_null(\"Price\")\n",
    "\n",
    "# Step 4: Validate and review results\n",
    "results = ge_df.validate(expectation_suite_name=suite_name)\n",
    "print(\"\\n✅ Validation Success:\", results[\"success\"])\n",
    "print(\"🔍 Null Value Checks Summary:\")\n",
    "for res in results[\"results\"]:\n",
    "    print(f\"- {res['expectation_config']['expectation_type']} on {res['expectation_config']['kwargs']['column']}: {'✅' if res['success'] else '❌'}\")\n"
   ]
  },
  {
   "cell_type": "markdown",
   "metadata": {},
   "source": [
    "2. Writing Validation Rules for Data Ingestion\n",
    "\n",
    "### Define validation rules for an API data source to confirm that 'Status' field contains only predefined statuses ('Active', 'Inactive').\n",
    "\n",
    "- Apply `expect_column_values_to_be_in_set` to check field values during data ingestion.\n",
    "- Execute the validation and review any mismatches."
   ]
  },
  {
   "cell_type": "code",
   "execution_count": null,
   "metadata": {},
   "outputs": [],
   "source": [
    "# write your code from here"
   ]
  },
  {
   "cell_type": "code",
   "execution_count": null,
   "metadata": {},
   "outputs": [],
   "source": [
    "# Simulated API response data\n",
    "api_data = [\n",
    "    {\"UserID\": 1, \"Status\": \"Active\"},\n",
    "    {\"UserID\": 2, \"Status\": \"Inactive\"},\n",
    "    {\"UserID\": 3, \"Status\": \"Pending\"},     # Invalid status\n",
    "    {\"UserID\": 4, \"Status\": \"Active\"}\n",
    "]\n",
    "\n",
    "# Convert API data to DataFrame\n",
    "api_df = pd.DataFrame(api_data)\n",
    "\n",
    "# Convert to GE DataFrame\n",
    "ge_api_df = ge.from_pandas(api_df)\n",
    "\n",
    "# Step 1: Create validation suite\n",
    "api_suite_name = \"status_validation_suite\"\n",
    "context.create_expectation_suite(api_suite_name, overwrite_existing=True)\n",
    "\n",
    "# Step 2: Add rule for predefined values\n",
    "valid_statuses = [\"Active\", \"Inactive\"]\n",
    "ge_api_df.expect_column_values_to_be_in_set(\"Status\", valid_statuses)\n",
    "\n",
    "# Step 3: Run validation\n",
    "api_validation_results = ge_api_df.validate(expectation_suite_name=api_suite_name)\n",
    "\n",
    "# Output results\n",
    "print(\"\\n✅ API Validation Success:\", api_validation_results[\"success\"])\n",
    "print(\"🔍 Status Value Validation Summary:\")\n",
    "for res in api_validation_results[\"results\"]:\n",
    "    print(f\"- {res['expectation_config']['expectation_type']} on {res['expectation_config']['kwargs']['column']}: {'✅' if res['success'] else '❌'}\")\n",
    "    if not res[\"success\"]:\n",
    "        unexpected_values = res[\"result\"][\"unexpected_list\"]\n",
    "        print(f\"  ❌ Unexpected values found: {unexpected_values}\")\n"
   ]
  }
 ],
 "metadata": {
  "kernelspec": {
   "display_name": "Python 3",
   "language": "python",
   "name": "python3"
  },
  "language_info": {
   "codemirror_mode": {
    "name": "ipython",
    "version": 3
   },
   "file_extension": ".py",
   "mimetype": "text/x-python",
   "name": "python",
   "nbconvert_exporter": "python",
   "pygments_lexer": "ipython3",
   "version": "3.10.12"
  }
 },
 "nbformat": 4,
 "nbformat_minor": 2
}
