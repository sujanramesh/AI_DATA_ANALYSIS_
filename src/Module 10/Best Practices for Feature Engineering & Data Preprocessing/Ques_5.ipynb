{
 "cells": [
  {
   "cell_type": "markdown",
   "metadata": {},
   "source": [
    "### Scaling & Feature Selection in a Pipeline\n",
    "**Description**: Create a pipeline that includes feature scaling, variance threshold selection, and a classification model."
   ]
  },
  {
   "cell_type": "code",
   "execution_count": null,
   "metadata": {},
   "outputs": [],
   "source": [
    "# write your code from here"
   ]
  },
  {
   "cell_type": "code",
   "execution_count": 1,
   "metadata": {},
   "outputs": [
    {
     "name": "stderr",
     "output_type": "stream",
     "text": [
      ".F.\n",
      "======================================================================\n",
      "FAIL: test_feature_selection (__main__.TestPipeline)\n",
      "----------------------------------------------------------------------\n",
      "Traceback (most recent call last):\n",
      "  File \"/tmp/ipykernel_12511/59666647.py\", line 74, in test_feature_selection\n",
      "    self.assertTrue(len(selected_features) < X_train.shape[1], \"Feature selection should reduce features\")\n",
      "AssertionError: False is not true : Feature selection should reduce features\n",
      "\n",
      "----------------------------------------------------------------------\n",
      "Ran 3 tests in 0.113s\n",
      "\n",
      "FAILED (failures=1)\n"
     ]
    },
    {
     "name": "stdout",
     "output_type": "stream",
     "text": [
      "Accuracy: 0.97\n",
      "Accuracy: 0.97\n",
      "Accuracy: 0.97\n"
     ]
    }
   ],
   "source": [
    "import numpy as np\n",
    "import pandas as pd\n",
    "import unittest\n",
    "from sklearn.datasets import load_breast_cancer\n",
    "from sklearn.model_selection import train_test_split\n",
    "from sklearn.preprocessing import StandardScaler\n",
    "from sklearn.feature_selection import VarianceThreshold\n",
    "from sklearn.linear_model import LogisticRegression\n",
    "from sklearn.pipeline import Pipeline\n",
    "from sklearn.metrics import accuracy_score\n",
    "\n",
    "# ---------------------------------------------\n",
    "# Step 1: Load Data\n",
    "# ---------------------------------------------\n",
    "def load_data():\n",
    "    try:\n",
    "        data = load_breast_cancer()\n",
    "        X = pd.DataFrame(data.data, columns=data.feature_names)\n",
    "        y = data.target\n",
    "        return train_test_split(X, y, test_size=0.2, random_state=42)\n",
    "    except Exception as e:\n",
    "        print(f\"Error loading data: {e}\")\n",
    "        raise\n",
    "\n",
    "# ---------------------------------------------\n",
    "# Step 2: Create ML Pipeline\n",
    "# ---------------------------------------------\n",
    "def create_pipeline(threshold=0.01):\n",
    "    try:\n",
    "        pipeline = Pipeline([\n",
    "            ('scaler', StandardScaler()),\n",
    "            ('selector', VarianceThreshold(threshold=threshold)),\n",
    "            ('classifier', LogisticRegression(max_iter=1000))\n",
    "        ])\n",
    "        return pipeline\n",
    "    except Exception as e:\n",
    "        print(f\"Error creating pipeline: {e}\")\n",
    "        raise\n",
    "\n",
    "# ---------------------------------------------\n",
    "# Step 3: Train and Evaluate\n",
    "# ---------------------------------------------\n",
    "def train_and_evaluate(X_train, X_test, y_train, y_test):\n",
    "    try:\n",
    "        pipeline = create_pipeline()\n",
    "        pipeline.fit(X_train, y_train)\n",
    "        y_pred = pipeline.predict(X_test)\n",
    "        acc = accuracy_score(y_test, y_pred)\n",
    "        print(f\"Accuracy: {acc:.2f}\")\n",
    "        return acc, pipeline\n",
    "    except Exception as e:\n",
    "        print(f\"Training/Evaluation error: {e}\")\n",
    "        raise\n",
    "\n",
    "# ---------------------------------------------\n",
    "# Step 4: Unit Tests\n",
    "# ---------------------------------------------\n",
    "class TestPipeline(unittest.TestCase):\n",
    "\n",
    "    def test_data_split(self):\n",
    "        X_train, X_test, y_train, y_test = load_data()\n",
    "        self.assertEqual(X_train.shape[0], 455)\n",
    "        self.assertEqual(X_test.shape[0], 114)\n",
    "\n",
    "    def test_pipeline_accuracy(self):\n",
    "        X_train, X_test, y_train, y_test = load_data()\n",
    "        acc, _ = train_and_evaluate(X_train, X_test, y_train, y_test)\n",
    "        self.assertGreater(acc, 0.8, \"Accuracy should be > 80%\")\n",
    "\n",
    "    def test_feature_selection(self):\n",
    "        X_train, X_test, y_train, y_test = load_data()\n",
    "        _, pipeline = train_and_evaluate(X_train, X_test, y_train, y_test)\n",
    "        selected_features = pipeline.named_steps['selector'].get_support(indices=True)\n",
    "        self.assertTrue(len(selected_features) < X_train.shape[1], \"Feature selection should reduce features\")\n",
    "\n",
    "# ---------------------------------------------\n",
    "# Step 5: Execute Full Workflow\n",
    "# ---------------------------------------------\n",
    "if __name__ == \"__main__\":\n",
    "    X_train, X_test, y_train, y_test = load_data()\n",
    "    train_and_evaluate(X_train, X_test, y_train, y_test)\n",
    "    unittest.main(argv=[''], exit=False)\n"
   ]
  }
 ],
 "metadata": {
  "kernelspec": {
   "display_name": "Python 3",
   "language": "python",
   "name": "python3"
  },
  "language_info": {
   "codemirror_mode": {
    "name": "ipython",
    "version": 3
   },
   "file_extension": ".py",
   "mimetype": "text/x-python",
   "name": "python",
   "nbconvert_exporter": "python",
   "pygments_lexer": "ipython3",
   "version": "3.10.12"
  }
 },
 "nbformat": 4,
 "nbformat_minor": 2
}
