{
 "cells": [
  {
   "cell_type": "markdown",
   "metadata": {},
   "source": [
    "### Feature Selection - Using Mutual Information\n",
    "**Description**: Use mutual information for feature selection to identify important features."
   ]
  },
  {
   "cell_type": "code",
   "execution_count": null,
   "metadata": {},
   "outputs": [],
   "source": [
    "# write your code from here"
   ]
  },
  {
   "cell_type": "code",
   "execution_count": 2,
   "metadata": {},
   "outputs": [
    {
     "name": "stderr",
     "output_type": "stream",
     "text": [
      ".."
     ]
    },
    {
     "name": "stdout",
     "output_type": "stream",
     "text": [
      "Accuracy: 1.00\n"
     ]
    },
    {
     "name": "stderr",
     "output_type": "stream",
     "text": [
      ".\n",
      "----------------------------------------------------------------------\n",
      "Ran 3 tests in 0.308s\n",
      "\n",
      "OK\n"
     ]
    },
    {
     "name": "stdout",
     "output_type": "stream",
     "text": [
      "Accuracy: 1.00\n"
     ]
    }
   ],
   "source": [
    "import unittest\n",
    "import numpy as np\n",
    "import pandas as pd\n",
    "from sklearn.datasets import load_iris\n",
    "from sklearn.model_selection import train_test_split\n",
    "from sklearn.pipeline import Pipeline\n",
    "from sklearn.feature_selection import SelectKBest, mutual_info_classif\n",
    "from sklearn.ensemble import RandomForestClassifier\n",
    "from sklearn.metrics import accuracy_score\n",
    "\n",
    "# -------------------------------------------\n",
    "# Step 1: Load and prepare dataset\n",
    "# -------------------------------------------\n",
    "def load_data():\n",
    "    try:\n",
    "        iris = load_iris()\n",
    "        X = pd.DataFrame(iris.data, columns=iris.feature_names)\n",
    "        y = iris.target\n",
    "        return train_test_split(X, y, test_size=0.2, random_state=42)\n",
    "    except Exception as e:\n",
    "        print(f\"Data loading failed: {e}\")\n",
    "        raise\n",
    "\n",
    "# -------------------------------------------\n",
    "# Step 2: Create pipeline with mutual info\n",
    "# -------------------------------------------\n",
    "def create_pipeline(k=2):\n",
    "    try:\n",
    "        pipeline = Pipeline([\n",
    "            ('feature_selection', SelectKBest(score_func=mutual_info_classif, k=k)),\n",
    "            ('classifier', RandomForestClassifier(random_state=42))\n",
    "        ])\n",
    "        return pipeline\n",
    "    except Exception as e:\n",
    "        print(f\"Pipeline creation failed: {e}\")\n",
    "        raise\n",
    "\n",
    "# -------------------------------------------\n",
    "# Step 3: Train and evaluate the model\n",
    "# -------------------------------------------\n",
    "def train_and_evaluate(X_train, X_test, y_train, y_test):\n",
    "    try:\n",
    "        pipeline = create_pipeline(k=2)\n",
    "        pipeline.fit(X_train, y_train)\n",
    "        y_pred = pipeline.predict(X_test)\n",
    "        acc = accuracy_score(y_test, y_pred)\n",
    "        print(f\"Accuracy: {acc:.2f}\")\n",
    "        return acc\n",
    "    except Exception as e:\n",
    "        print(f\"Training or evaluation failed: {e}\")\n",
    "        raise\n",
    "\n",
    "# -------------------------------------------\n",
    "# Step 4: Unit Tests\n",
    "# -------------------------------------------\n",
    "class TestMutualInfoPipeline(unittest.TestCase):\n",
    "\n",
    "    def test_data_load(self):\n",
    "        \"\"\"Test whether data is loaded and split correctly\"\"\"\n",
    "        X_train, X_test, y_train, y_test = load_data()\n",
    "        self.assertEqual(X_train.shape[0], 120)\n",
    "        self.assertEqual(X_test.shape[0], 30)\n",
    "\n",
    "    def test_pipeline_training(self):\n",
    "        \"\"\"Test pipeline training and ensure accuracy is reasonable\"\"\"\n",
    "        X_train, X_test, y_train, y_test = load_data()\n",
    "        acc = train_and_evaluate(X_train, X_test, y_train, y_test)\n",
    "        self.assertGreater(acc, 0.5, \"Accuracy should be above 50%\")\n",
    "\n",
    "    def test_feature_selection(self):\n",
    "        \"\"\"Check if correct number of features are selected\"\"\"\n",
    "        X_train, _, y_train, _ = load_data()\n",
    "        pipeline = create_pipeline(k=2)\n",
    "        pipeline.fit(X_train, y_train)\n",
    "        selected_features = pipeline.named_steps['feature_selection'].get_support(indices=True)\n",
    "        self.assertEqual(len(selected_features), 2)\n",
    "\n",
    "# -------------------------------------------\n",
    "# Step 5: Execute full workflow\n",
    "# -------------------------------------------\n",
    "if __name__ == \"__main__\":\n",
    "    # Run the main process\n",
    "    try:\n",
    "        X_train, X_test, y_train, y_test = load_data()\n",
    "        train_and_evaluate(X_train, X_test, y_train, y_test)\n",
    "        # Run unit tests\n",
    "        unittest.main(argv=[''], exit=False)\n",
    "    except Exception as err:\n",
    "        print(f\"Execution failed: {err}\")\n"
   ]
  }
 ],
 "metadata": {
  "kernelspec": {
   "display_name": "Python 3",
   "language": "python",
   "name": "python3"
  },
  "language_info": {
   "codemirror_mode": {
    "name": "ipython",
    "version": 3
   },
   "file_extension": ".py",
   "mimetype": "text/x-python",
   "name": "python",
   "nbconvert_exporter": "python",
   "pygments_lexer": "ipython3",
   "version": "3.10.12"
  }
 },
 "nbformat": 4,
 "nbformat_minor": 2
}
