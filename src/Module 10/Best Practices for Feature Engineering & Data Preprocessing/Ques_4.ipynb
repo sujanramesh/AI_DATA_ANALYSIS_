{
 "cells": [
  {
   "cell_type": "markdown",
   "metadata": {},
   "source": [
    "### Feature Selection - Using Mutual Information\n",
    "**Description**: Use mutual information for feature selection to identify important features."
   ]
  },
  {
   "cell_type": "code",
   "execution_count": null,
   "metadata": {},
   "outputs": [],
   "source": [
    "# write your code from here"
   ]
  },
  {
   "cell_type": "code",
   "execution_count": 1,
   "metadata": {},
   "outputs": [
    {
     "name": "stdout",
     "output_type": "stream",
     "text": [
      "Test Accuracy after Mutual Information Feature Selection: 1.00\n"
     ]
    }
   ],
   "source": [
    "import numpy as np\n",
    "import pandas as pd\n",
    "from sklearn.datasets import load_iris\n",
    "from sklearn.model_selection import train_test_split\n",
    "from sklearn.feature_selection import SelectKBest, mutual_info_classif\n",
    "from sklearn.ensemble import RandomForestClassifier\n",
    "from sklearn.pipeline import Pipeline\n",
    "from sklearn.metrics import accuracy_score\n",
    "\n",
    "# -----------------------------\n",
    "# Step 1: Load dataset\n",
    "# -----------------------------\n",
    "try:\n",
    "    iris = load_iris()\n",
    "    X = pd.DataFrame(iris.data, columns=iris.feature_names)\n",
    "    y = iris.target\n",
    "except Exception as e:\n",
    "    print(f\"Error loading dataset: {e}\")\n",
    "    exit()\n",
    "\n",
    "# -----------------------------\n",
    "# Step 2: Train/Test Split\n",
    "# -----------------------------\n",
    "try:\n",
    "    X_train, X_test, y_train, y_test = train_test_split(X, y, test_size=0.2, random_state=42)\n",
    "except Exception as e:\n",
    "    print(f\"Train-test split failed: {e}\")\n",
    "    exit()\n",
    "\n",
    "# -----------------------------\n",
    "# Step 3: Build pipeline with mutual information feature selection\n",
    "# -----------------------------\n",
    "pipeline = Pipeline([\n",
    "    ('feature_selector', SelectKBest(score_func=mutual_info_classif, k=2)),  # Select top 2 features\n",
    "    ('classifier', RandomForestClassifier(random_state=42))                  # Classifier\n",
    "])\n",
    "\n",
    "# -----------------------------\n",
    "# Step 4: Train model\n",
    "# -----------------------------\n",
    "try:\n",
    "    pipeline.fit(X_train, y_train)\n",
    "except Exception as e:\n",
    "    print(f\"Pipeline training failed: {e}\")\n",
    "    exit()\n",
    "\n",
    "# -----------------------------\n",
    "# Step 5: Evaluate model\n",
    "# -----------------------------\n",
    "try:\n",
    "    y_pred = pipeline.predict(X_test)\n",
    "    accuracy = accuracy_score(y_test, y_pred)\n",
    "    print(f\"Test Accuracy after Mutual Information Feature Selection: {accuracy:.2f}\")\n",
    "except Exception as e:\n",
    "    print(f\"Prediction or evaluation failed: {e}\")\n"
   ]
  }
 ],
 "metadata": {
  "kernelspec": {
   "display_name": "Python 3",
   "language": "python",
   "name": "python3"
  },
  "language_info": {
   "codemirror_mode": {
    "name": "ipython",
    "version": 3
   },
   "file_extension": ".py",
   "mimetype": "text/x-python",
   "name": "python",
   "nbconvert_exporter": "python",
   "pygments_lexer": "ipython3",
   "version": "3.10.12"
  }
 },
 "nbformat": 4,
 "nbformat_minor": 2
}
