{
 "cells": [
  {
   "cell_type": "markdown",
   "metadata": {},
   "source": [
    "### Ensuring Feature Consistency Between Training & InferencePipelines:\n",
    "\n",
    "**Task 1**: Consistent Feature Preparation\n",
    "- Step 1: Write a function for data preprocessing and imputation shared by both training and inference pipelines.\n",
    "- Step 2: Demonstrate consistent application on both datasets."
   ]
  },
  {
   "cell_type": "code",
   "execution_count": null,
   "metadata": {},
   "outputs": [],
   "source": [
    "# write your code from here"
   ]
  },
  {
   "cell_type": "code",
   "execution_count": 1,
   "metadata": {},
   "outputs": [
    {
     "name": "stdout",
     "output_type": "stream",
     "text": [
      "Train after preprocessing:\n",
      "           A         B\n",
      "0  1.000000  5.000000\n",
      "1  2.000000  6.666667\n",
      "2  2.333333  7.000000\n",
      "3  4.000000  8.000000\n",
      "Test after preprocessing:\n",
      "           A         B\n",
      "0  2.333333  5.000000\n",
      "1  2.000000  6.000000\n",
      "2  3.000000  6.666667\n"
     ]
    }
   ],
   "source": [
    "import pandas as pd\n",
    "from sklearn.impute import SimpleImputer\n",
    "\n",
    "def preprocess_data(df, imputer=None):\n",
    "    # Select numeric columns for simplicity\n",
    "    numeric_cols = df.select_dtypes(include=['float64', 'int']).columns\n",
    "    \n",
    "    if imputer is None:\n",
    "        # Initialize imputer (mean strategy here)\n",
    "        imputer = SimpleImputer(strategy='mean')\n",
    "        imputed_data = imputer.fit_transform(df[numeric_cols])\n",
    "    else:\n",
    "        # Use the passed imputer to transform new data (inference)\n",
    "        imputed_data = imputer.transform(df[numeric_cols])\n",
    "    \n",
    "    # Replace the original numeric data with imputed data\n",
    "    df_imputed = df.copy()\n",
    "    df_imputed[numeric_cols] = imputed_data\n",
    "    \n",
    "    return df_imputed, imputer\n",
    "\n",
    "# Example usage:\n",
    "train_df = pd.DataFrame({'A': [1, 2, None, 4], 'B': [5, None, 7, 8]})\n",
    "test_df = pd.DataFrame({'A': [None, 2, 3], 'B': [5, 6, None]})\n",
    "\n",
    "# Fit on train, transform train\n",
    "train_preprocessed, fitted_imputer = preprocess_data(train_df)\n",
    "\n",
    "# Use the same imputer to transform test\n",
    "test_preprocessed, _ = preprocess_data(test_df, imputer=fitted_imputer)\n",
    "\n",
    "print(\"Train after preprocessing:\\n\", train_preprocessed)\n",
    "print(\"Test after preprocessing:\\n\", test_preprocessed)\n"
   ]
  },
  {
   "cell_type": "markdown",
   "metadata": {},
   "source": [
    "**Task 2**: Pipeline Integration\n",
    "- Step 1: Use sklearn pipelines to encapsulate the preprocessing steps.\n",
    "- Step 2: Configure identical pipelines for both training and building inference models."
   ]
  },
  {
   "cell_type": "code",
   "execution_count": null,
   "metadata": {},
   "outputs": [],
   "source": [
    "# write your code from here"
   ]
  },
  {
   "cell_type": "code",
   "execution_count": 2,
   "metadata": {},
   "outputs": [
    {
     "name": "stdout",
     "output_type": "stream",
     "text": [
      "Train pipeline processed:\n",
      " [[-1.2344268 -1.5430335]\n",
      " [-0.3086067  0.       ]\n",
      " [ 0.         0.3086067]\n",
      " [ 1.5430335  1.2344268]]\n",
      "Test pipeline processed:\n",
      " [[ 0.        -1.5430335]\n",
      " [-0.3086067 -0.6172134]\n",
      " [ 0.6172134  0.       ]]\n"
     ]
    }
   ],
   "source": [
    "from sklearn.pipeline import Pipeline\n",
    "from sklearn.preprocessing import StandardScaler\n",
    "\n",
    "# Define pipeline with imputer + scaler (example)\n",
    "preprocessing_pipeline = Pipeline([\n",
    "    ('imputer', SimpleImputer(strategy='mean')),\n",
    "    ('scaler', StandardScaler())\n",
    "])\n",
    "\n",
    "# Fit pipeline on training data\n",
    "preprocessing_pipeline.fit(train_df)\n",
    "\n",
    "# Transform train and test data with the same pipeline\n",
    "train_processed = preprocessing_pipeline.transform(train_df)\n",
    "test_processed = preprocessing_pipeline.transform(test_df)\n",
    "\n",
    "print(\"Train pipeline processed:\\n\", train_processed)\n",
    "print(\"Test pipeline processed:\\n\", test_processed)\n"
   ]
  },
  {
   "cell_type": "markdown",
   "metadata": {},
   "source": [
    "**Task 3**: Saving and Loading Preprocessing Models\n",
    "- Step 1: Save the transformation model after fitting it to the training data.\n",
    "- Step 2: Load and apply the saved model during inference."
   ]
  },
  {
   "cell_type": "code",
   "execution_count": null,
   "metadata": {},
   "outputs": [],
   "source": [
    "# write your code from here"
   ]
  },
  {
   "cell_type": "code",
   "execution_count": 3,
   "metadata": {},
   "outputs": [
    {
     "name": "stdout",
     "output_type": "stream",
     "text": [
      "Inference data after applying loaded pipeline:\n",
      " [[-0.3086067  0.       ]\n",
      " [ 0.        -5.2463139]\n",
      " [ 2.4688536  1.2344268]]\n"
     ]
    }
   ],
   "source": [
    "import joblib\n",
    "\n",
    "# Save the fitted pipeline to disk\n",
    "joblib.dump(preprocessing_pipeline, 'preprocessing_pipeline.pkl')\n",
    "\n",
    "# Later, load it back during inference\n",
    "loaded_pipeline = joblib.load('preprocessing_pipeline.pkl')\n",
    "\n",
    "# Use loaded pipeline to transform inference data\n",
    "inference_df = pd.DataFrame({'A': [2, None, 5], 'B': [None, 1, 8]})\n",
    "inference_processed = loaded_pipeline.transform(inference_df)\n",
    "\n",
    "print(\"Inference data after applying loaded pipeline:\\n\", inference_processed)\n"
   ]
  }
 ],
 "metadata": {
  "kernelspec": {
   "display_name": "Python 3",
   "language": "python",
   "name": "python3"
  },
  "language_info": {
   "codemirror_mode": {
    "name": "ipython",
    "version": 3
   },
   "file_extension": ".py",
   "mimetype": "text/x-python",
   "name": "python",
   "nbconvert_exporter": "python",
   "pygments_lexer": "ipython3",
   "version": "3.10.12"
  }
 },
 "nbformat": 4,
 "nbformat_minor": 2
}
