{
 "cells": [
  {
   "cell_type": "markdown",
   "metadata": {},
   "source": [
    "### Feature Selection - Variance Threshold\n",
    "**Description**: Remove features with low variance."
   ]
  },
  {
   "cell_type": "code",
   "execution_count": null,
   "metadata": {},
   "outputs": [],
   "source": [
    "# write your code from here"
   ]
  },
  {
   "cell_type": "code",
   "execution_count": 1,
   "metadata": {},
   "outputs": [
    {
     "name": "stdout",
     "output_type": "stream",
     "text": [
      "Test Accuracy after feature selection: 1.00\n"
     ]
    }
   ],
   "source": [
    "import numpy as np\n",
    "import pandas as pd\n",
    "from sklearn.datasets import load_iris\n",
    "from sklearn.model_selection import train_test_split\n",
    "from sklearn.feature_selection import VarianceThreshold\n",
    "from sklearn.ensemble import RandomForestClassifier\n",
    "from sklearn.pipeline import Pipeline\n",
    "from sklearn.metrics import accuracy_score\n",
    "\n",
    "# -----------------------------\n",
    "# Step 1: Load and prepare dataset\n",
    "# -----------------------------\n",
    "try:\n",
    "    iris = load_iris()\n",
    "    X = pd.DataFrame(iris.data, columns=iris.feature_names)\n",
    "    y = iris.target\n",
    "\n",
    "    # Add a low variance column artificially\n",
    "    X['low_variance_feature'] = 1  # Constant column (zero variance)\n",
    "\n",
    "except Exception as e:\n",
    "    print(f\"Error loading or modifying dataset: {e}\")\n",
    "    exit()\n",
    "\n",
    "# -----------------------------\n",
    "# Step 2: Train/Test Split\n",
    "# -----------------------------\n",
    "try:\n",
    "    X_train, X_test, y_train, y_test = train_test_split(X, y, test_size=0.2, random_state=42)\n",
    "except Exception as e:\n",
    "    print(f\"Error during train/test split: {e}\")\n",
    "    exit()\n",
    "\n",
    "# -----------------------------\n",
    "# Step 3: Build pipeline with Variance Threshold\n",
    "# -----------------------------\n",
    "pipeline = Pipeline([\n",
    "    ('variance_threshold', VarianceThreshold(threshold=0.01)),  # Remove near-zero variance features\n",
    "    ('classifier', RandomForestClassifier(random_state=42))     # Classifier\n",
    "])\n",
    "\n",
    "# -----------------------------\n",
    "# Step 4: Train model\n",
    "# -----------------------------\n",
    "try:\n",
    "    pipeline.fit(X_train, y_train)\n",
    "except Exception as e:\n",
    "    print(f\"Error during model training: {e}\")\n",
    "    exit()\n",
    "\n",
    "# -----------------------------\n",
    "# Step 5: Evaluate model\n",
    "# -----------------------------\n",
    "try:\n",
    "    y_pred = pipeline.predict(X_test)\n",
    "    accuracy = accuracy_score(y_test, y_pred)\n",
    "    print(f\"Test Accuracy after feature selection: {accuracy:.2f}\")\n",
    "except Exception as e:\n",
    "    print(f\"Error during prediction or evaluation: {e}\")\n"
   ]
  }
 ],
 "metadata": {
  "kernelspec": {
   "display_name": "Python 3",
   "language": "python",
   "name": "python3"
  },
  "language_info": {
   "codemirror_mode": {
    "name": "ipython",
    "version": 3
   },
   "file_extension": ".py",
   "mimetype": "text/x-python",
   "name": "python",
   "nbconvert_exporter": "python",
   "pygments_lexer": "ipython3",
   "version": "3.10.12"
  }
 },
 "nbformat": 4,
 "nbformat_minor": 2
}
