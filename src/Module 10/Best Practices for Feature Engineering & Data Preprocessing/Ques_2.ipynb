{
 "cells": [
  {
   "cell_type": "markdown",
   "metadata": {},
   "source": [
    "### Handling Missing Values - Imputation within ML Pipelines\n",
    "**Description**: Implement a machine learning pipeline that includes imputation and a classifier."
   ]
  },
  {
   "cell_type": "code",
   "execution_count": null,
   "metadata": {},
   "outputs": [],
   "source": [
    "# write your code from here"
   ]
  },
  {
   "cell_type": "code",
   "execution_count": 2,
   "metadata": {},
   "outputs": [
    {
     "name": "stderr",
     "output_type": "stream",
     "text": [
      "..\n",
      "----------------------------------------------------------------------\n",
      "Ran 2 tests in 0.117s\n",
      "\n",
      "OK\n"
     ]
    },
    {
     "name": "stdout",
     "output_type": "stream",
     "text": [
      "Test Accuracy: 0.97\n"
     ]
    },
    {
     "data": {
      "text/plain": [
       "<unittest.main.TestProgram at 0x7c8d773691b0>"
      ]
     },
     "execution_count": 2,
     "metadata": {},
     "output_type": "execute_result"
    }
   ],
   "source": [
    "import numpy as np\n",
    "import pandas as pd\n",
    "from sklearn.datasets import load_iris\n",
    "from sklearn.model_selection import train_test_split\n",
    "from sklearn.impute import SimpleImputer\n",
    "from sklearn.preprocessing import StandardScaler\n",
    "from sklearn.ensemble import RandomForestClassifier\n",
    "from sklearn.pipeline import Pipeline\n",
    "from sklearn.metrics import accuracy_score\n",
    "import unittest\n",
    "\n",
    "# Load and prepare data with error handling\n",
    "try:\n",
    "    # Load dataset\n",
    "    iris = load_iris()\n",
    "    X = pd.DataFrame(iris.data, columns=iris.feature_names)\n",
    "    y = iris.target\n",
    "\n",
    "    # Introduce some artificial missing values\n",
    "    rng = np.random.RandomState(0)\n",
    "    missing_rate = 0.1\n",
    "    n_missing_samples = int(np.floor(missing_rate * X.size))\n",
    "    missing_features = rng.randint(0, X.shape[1], n_missing_samples)\n",
    "    missing_samples = rng.randint(0, X.shape[0], n_missing_samples)\n",
    "    X.values[missing_samples, missing_features] = np.nan\n",
    "\n",
    "except Exception as e:\n",
    "    print(f\"Data loading or preprocessing failed: {e}\")\n",
    "    exit()\n",
    "\n",
    "# Split dataset into training and test sets\n",
    "try:\n",
    "    X_train, X_test, y_train, y_test = train_test_split(X, y, test_size=0.2, random_state=42)\n",
    "except Exception as e:\n",
    "    print(f\"Train-test split failed: {e}\")\n",
    "    exit()\n",
    "\n",
    "# Create ML pipeline\n",
    "pipeline = Pipeline([\n",
    "    ('imputer', SimpleImputer(strategy='mean')),        # Handle missing values\n",
    "    ('scaler', StandardScaler()),                       # Feature scaling\n",
    "    ('classifier', RandomForestClassifier(random_state=42))  # Classifier\n",
    "])\n",
    "\n",
    "# Fit model\n",
    "try:\n",
    "    pipeline.fit(X_train, y_train)\n",
    "except Exception as e:\n",
    "    print(f\"Pipeline training failed: {e}\")\n",
    "    exit()\n",
    "\n",
    "# Predict and evaluate\n",
    "try:\n",
    "    y_pred = pipeline.predict(X_test)\n",
    "    accuracy = accuracy_score(y_test, y_pred)\n",
    "    print(f\"Test Accuracy: {accuracy:.2f}\")\n",
    "except Exception as e:\n",
    "    print(f\"Prediction or evaluation failed: {e}\")\n",
    "\n",
    "# ----------------------------\n",
    "# ✅ Unit Test to Validate Pipeline Behavior\n",
    "# ----------------------------\n",
    "class TestPipeline(unittest.TestCase):\n",
    "    def test_imputer_handles_nan(self):\n",
    "        # Should not throw errors with missing data\n",
    "        test_data = pd.DataFrame({\n",
    "            'feature1': [1, 2, np.nan],\n",
    "            'feature2': [4, np.nan, 6],\n",
    "            'feature3': [7, 8, 9],\n",
    "            'feature4': [np.nan, 11, 12]\n",
    "        })\n",
    "        test_target = [0, 1, 0]\n",
    "        pipeline.fit(test_data, test_target)\n",
    "        predictions = pipeline.predict(test_data)\n",
    "        self.assertEqual(len(predictions), 3)\n",
    "\n",
    "    def test_input_type_validation(self):\n",
    "        with self.assertRaises(ValueError):\n",
    "            # Introduce string in numeric column\n",
    "            test_data = pd.DataFrame({\n",
    "                'feature1': [1, 2, 'error'],\n",
    "                'feature2': [4, 5, 6],\n",
    "                'feature3': [7, 8, 9],\n",
    "                'feature4': [10, 11, 12]\n",
    "            })\n",
    "            pipeline.fit(test_data, [0, 1, 0])\n",
    "\n",
    "# Run the unit tests\n",
    "unittest.main(argv=[''], exit=False)\n"
   ]
  }
 ],
 "metadata": {
  "kernelspec": {
   "display_name": "Python 3",
   "language": "python",
   "name": "python3"
  },
  "language_info": {
   "codemirror_mode": {
    "name": "ipython",
    "version": 3
   },
   "file_extension": ".py",
   "mimetype": "text/x-python",
   "name": "python",
   "nbconvert_exporter": "python",
   "pygments_lexer": "ipython3",
   "version": "3.10.12"
  }
 },
 "nbformat": 4,
 "nbformat_minor": 2
}
