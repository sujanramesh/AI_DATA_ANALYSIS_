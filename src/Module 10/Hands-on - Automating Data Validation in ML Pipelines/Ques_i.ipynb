{
 "cells": [
  {
   "cell_type": "markdown",
   "metadata": {},
   "source": [
    "### Using Great Expectations for Automated Data Checks\n",
    "**Objective**: Use Great Expectations to perform data validation steps on a dataset.\n",
    "\n",
    "**Task 1**: Validate Column Existence\n",
    "\n",
    "**Steps**:\n",
    "- Load your dataset using a Pandas DataFrame.\n",
    "- Use Great Expectations to setup an expectation suite.\n",
    "- Create an expectation to confirm that a specific column (e.g., customer_id ) exists in your dataset.\n",
    "- Run the expectation and observe the results."
   ]
  },
  {
   "cell_type": "code",
   "execution_count": null,
   "metadata": {},
   "outputs": [],
   "source": [
    "# write your code from here"
   ]
  },
  {
   "cell_type": "code",
   "execution_count": 1,
   "metadata": {},
   "outputs": [
    {
     "ename": "ImportError",
     "evalue": "cannot import name 'BaseDataContext' from 'great_expectations.data_context' (/home/vscode/.local/lib/python3.10/site-packages/great_expectations/data_context/__init__.py)",
     "output_type": "error",
     "traceback": [
      "\u001b[0;31m---------------------------------------------------------------------------\u001b[0m",
      "\u001b[0;31mImportError\u001b[0m                               Traceback (most recent call last)",
      "Cell \u001b[0;32mIn[1], line 2\u001b[0m\n\u001b[1;32m      1\u001b[0m \u001b[38;5;28;01mimport\u001b[39;00m\u001b[38;5;250m \u001b[39m\u001b[38;5;21;01mgreat_expectations\u001b[39;00m\u001b[38;5;250m \u001b[39m\u001b[38;5;28;01mas\u001b[39;00m\u001b[38;5;250m \u001b[39m\u001b[38;5;21;01mge\u001b[39;00m\n\u001b[0;32m----> 2\u001b[0m \u001b[38;5;28;01mfrom\u001b[39;00m\u001b[38;5;250m \u001b[39m\u001b[38;5;21;01mgreat_expectations\u001b[39;00m\u001b[38;5;21;01m.\u001b[39;00m\u001b[38;5;21;01mdata_context\u001b[39;00m\u001b[38;5;250m \u001b[39m\u001b[38;5;28;01mimport\u001b[39;00m BaseDataContext\n\u001b[1;32m      3\u001b[0m \u001b[38;5;28;01mimport\u001b[39;00m\u001b[38;5;250m \u001b[39m\u001b[38;5;21;01mpandas\u001b[39;00m\u001b[38;5;250m \u001b[39m\u001b[38;5;28;01mas\u001b[39;00m\u001b[38;5;250m \u001b[39m\u001b[38;5;21;01mpd\u001b[39;00m\n\u001b[1;32m      4\u001b[0m \u001b[38;5;28;01mimport\u001b[39;00m\u001b[38;5;250m \u001b[39m\u001b[38;5;21;01mos\u001b[39;00m\n",
      "\u001b[0;31mImportError\u001b[0m: cannot import name 'BaseDataContext' from 'great_expectations.data_context' (/home/vscode/.local/lib/python3.10/site-packages/great_expectations/data_context/__init__.py)"
     ]
    }
   ],
   "source": [
    "import great_expectations as ge\n",
    "from great_expectations.data_context import BaseDataContext\n",
    "import pandas as pd\n",
    "import os\n",
    "import json\n",
    "\n",
    "# Step 1: Create sample JSON data\n",
    "json_data = [\n",
    "    {\"ProductID\": 101, \"Price\": 20.5},\n",
    "    {\"ProductID\": 102, \"Price\": 35.0},\n",
    "    {\"ProductID\": None, \"Price\": 15.0},     # Null ProductID\n",
    "    {\"ProductID\": 104, \"Price\": None}       # Null Price\n",
    "]\n",
    "\n",
    "# Save as JSON file\n",
    "json_file = \"sales_data.json\"\n",
    "with open(json_file, \"w\") as f:\n",
    "    json.dump(json_data, f)\n",
    "\n",
    "# Load JSON into DataFrame\n",
    "df = pd.read_json(json_file)\n",
    "\n",
    "# Convert to GE DataFrame\n",
    "ge_df = ge.from_pandas(df)\n",
    "\n",
    "# Step 2: Create expectation suite\n",
    "suite_name = \"product_sales_suite\"\n",
    "context = ge.get_context()\n",
    "context.create_expectation_suite(suite_name, overwrite_existing=True)\n",
    "\n",
    "# Step 3: Add expectations to check for nulls\n",
    "ge_df.expect_column_values_to_not_be_null(\"ProductID\")\n",
    "ge_df.expect_column_values_to_not_be_null(\"Price\")\n",
    "\n",
    "# Step 4: Validate and review results\n",
    "results = ge_df.validate(expectation_suite_name=suite_name)\n",
    "print(\"\\n✅ Validation Success:\", results[\"success\"])\n",
    "print(\"🔍 Null value Checks Summary:\")\n",
    "for res in results[\"results\"]:\n",
    "    print(f\"- {res['expectation_config']['expectation_type']} on {res['expectation_config']['kwargs']['column']}: {'✅' if res['success'] else '❌'}\")\n"
   ]
  },
  {
   "cell_type": "markdown",
   "metadata": {},
   "source": [
    "**Task 2**: Validate Column Data Types\n",
    "\n",
    "**Steps**:\n",
    "- Using the same dataset setup, create an expectation to check that a numeric column\n",
    "(e.g., purchase_amount ) contains only float values.\n",
    "- Identify a numeric column in your dataset.\n",
    "- Use Great Expectations to create and validate an expectation that checks the column's data type is correct.\n",
    "- Run your expectation and check if it passes for your data."
   ]
  },
  {
   "cell_type": "code",
   "execution_count": null,
   "metadata": {},
   "outputs": [],
   "source": [
    "# write your code from here"
   ]
  },
  {
   "cell_type": "markdown",
   "metadata": {},
   "source": [
    "**Task 3**: Validate Range of Values\n",
    "\n",
    "**Steps**:\n",
    "- Set an expectation using Great Expectations to ensure that a column (e.g., age ) values\n",
    "are between 18 and 65.\n",
    "- Identify a column in your dataset where values fall within a specific range.\n",
    "- Implement a range-based expectation to check this column and validate your dataset.\n",
    "- Observe and interpret the result of your expectation."
   ]
  },
  {
   "cell_type": "code",
   "execution_count": null,
   "metadata": {},
   "outputs": [],
   "source": [
    "# write your code from here"
   ]
  },
  {
   "cell_type": "code",
   "execution_count": 2,
   "metadata": {},
   "outputs": [
    {
     "ename": "NameError",
     "evalue": "name 'pd' is not defined",
     "output_type": "error",
     "traceback": [
      "\u001b[0;31m---------------------------------------------------------------------------\u001b[0m",
      "\u001b[0;31mNameError\u001b[0m                                 Traceback (most recent call last)",
      "Cell \u001b[0;32mIn[2], line 10\u001b[0m\n\u001b[1;32m      2\u001b[0m api_data \u001b[38;5;241m=\u001b[39m [\n\u001b[1;32m      3\u001b[0m     {\u001b[38;5;124m\"\u001b[39m\u001b[38;5;124mUserID\u001b[39m\u001b[38;5;124m\"\u001b[39m: \u001b[38;5;241m1\u001b[39m, \u001b[38;5;124m\"\u001b[39m\u001b[38;5;124mStatus\u001b[39m\u001b[38;5;124m\"\u001b[39m: \u001b[38;5;124m\"\u001b[39m\u001b[38;5;124mActive\u001b[39m\u001b[38;5;124m\"\u001b[39m},\n\u001b[1;32m      4\u001b[0m     {\u001b[38;5;124m\"\u001b[39m\u001b[38;5;124mUserID\u001b[39m\u001b[38;5;124m\"\u001b[39m: \u001b[38;5;241m2\u001b[39m, \u001b[38;5;124m\"\u001b[39m\u001b[38;5;124mStatus\u001b[39m\u001b[38;5;124m\"\u001b[39m: \u001b[38;5;124m\"\u001b[39m\u001b[38;5;124mInactive\u001b[39m\u001b[38;5;124m\"\u001b[39m},\n\u001b[1;32m      5\u001b[0m     {\u001b[38;5;124m\"\u001b[39m\u001b[38;5;124mUserID\u001b[39m\u001b[38;5;124m\"\u001b[39m: \u001b[38;5;241m3\u001b[39m, \u001b[38;5;124m\"\u001b[39m\u001b[38;5;124mStatus\u001b[39m\u001b[38;5;124m\"\u001b[39m: \u001b[38;5;124m\"\u001b[39m\u001b[38;5;124mPending\u001b[39m\u001b[38;5;124m\"\u001b[39m},     \u001b[38;5;66;03m# Invalid status\u001b[39;00m\n\u001b[1;32m      6\u001b[0m     {\u001b[38;5;124m\"\u001b[39m\u001b[38;5;124mUserID\u001b[39m\u001b[38;5;124m\"\u001b[39m: \u001b[38;5;241m4\u001b[39m, \u001b[38;5;124m\"\u001b[39m\u001b[38;5;124mStatus\u001b[39m\u001b[38;5;124m\"\u001b[39m: \u001b[38;5;124m\"\u001b[39m\u001b[38;5;124mActive\u001b[39m\u001b[38;5;124m\"\u001b[39m}\n\u001b[1;32m      7\u001b[0m ]\n\u001b[1;32m      9\u001b[0m \u001b[38;5;66;03m# Convert API data to DataFrame\u001b[39;00m\n\u001b[0;32m---> 10\u001b[0m api_df \u001b[38;5;241m=\u001b[39m \u001b[43mpd\u001b[49m\u001b[38;5;241m.\u001b[39mDataFrame(api_data)\n\u001b[1;32m     12\u001b[0m \u001b[38;5;66;03m# Convert to GE DataFrame\u001b[39;00m\n\u001b[1;32m     13\u001b[0m ge_api_df \u001b[38;5;241m=\u001b[39m ge\u001b[38;5;241m.\u001b[39mfrom_pandas(api_df)\n",
      "\u001b[0;31mNameError\u001b[0m: name 'pd' is not defined"
     ]
    }
   ],
   "source": [
    "# Simulated API response data\n",
    "api_data = [\n",
    "    {\"UserID\": 1, \"Status\": \"Active\"},\n",
    "    {\"UserID\": 2, \"Status\": \"Inactive\"},\n",
    "    {\"UserID\": 3, \"Status\": \"Pending\"},     # Invalid status\n",
    "    {\"UserID\": 4, \"Status\": \"Active\"}\n",
    "]\n",
    "\n",
    "# Convert API data to DataFrame\n",
    "api_df = pd.DataFrame(api_data)\n",
    "\n",
    "# Convert to GE DataFrame\n",
    "ge_api_df = ge.from_pandas(api_df)\n",
    "\n",
    "# Step 1: Create validation suite\n",
    "api_suite_name = \"status_validation_suite\"\n",
    "context.create_expectation_suite(api_suite_name, overwrite_existing=True)\n",
    "\n",
    "# Step 2: Add rule for predefined values\n",
    "valid_statuses = [\"Active\", \"Inactive\"]\n",
    "ge_api_df.expect_column_values_to_be_in_set(\"Status\", valid_statuses)\n",
    "\n",
    "# Step 3: Run validation\n",
    "api_validation_results = ge_api_df.validate(expectation_suite_name=api_suite_name)\n",
    "\n",
    "# Output results\n",
    "print(\"\\n✅ API Validation Success:\", api_validation_results[\"success\"])\n",
    "print(\"🔍 Status Value Validation Summary:\")\n",
    "for res in api_validation_results[\"results\"]:\n",
    "    print(f\"- {res['expectation_config']['expectation_type']} on {res['expectation_config']['kwargs']['column']}: {'✅' if res['success'] else '❌'}\")\n",
    "    if not res[\"success\"]:\n",
    "        unexpected_values = res[\"result\"][\"unexpected_list\"]\n",
    "        print(f\"  ❌ Unexpected values found: {unexpected_values}\")\n"
   ]
  }
 ],
 "metadata": {
  "kernelspec": {
   "display_name": "Python 3",
   "language": "python",
   "name": "python3"
  },
  "language_info": {
   "codemirror_mode": {
    "name": "ipython",
    "version": 3
   },
   "file_extension": ".py",
   "mimetype": "text/x-python",
   "name": "python",
   "nbconvert_exporter": "python",
   "pygments_lexer": "ipython3",
   "version": "3.10.12"
  }
 },
 "nbformat": 4,
 "nbformat_minor": 2
}
